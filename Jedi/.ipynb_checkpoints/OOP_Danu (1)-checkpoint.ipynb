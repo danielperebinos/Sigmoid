{
  "cells": [
    {
      "cell_type": "markdown",
      "id": "da5a06c9-987c-48b1-8627-929ba2e1d18b",
      "metadata": {
        "id": "da5a06c9-987c-48b1-8627-929ba2e1d18b"
      },
      "source": [
        "## OOP in Python."
      ]
    },
    {
      "cell_type": "markdown",
      "id": "faaf4b8e-f28f-4ae3-af8c-0d816a401e6a",
      "metadata": {
        "id": "faaf4b8e-f28f-4ae3-af8c-0d816a401e6a"
      },
      "source": [
        "## Teorie"
      ]
    },
    {
      "cell_type": "markdown",
      "id": "a996a041-c1dd-42a1-917f-95d1a2afa7cf",
      "metadata": {
        "id": "a996a041-c1dd-42a1-917f-95d1a2afa7cf"
      },
      "source": [
        "### Paradigme - filosofia rezolvarii problemelor IT"
      ]
    },
    {
      "cell_type": "markdown",
      "id": "2d18fb53-8bd5-43ac-841b-9e9acdaac055",
      "metadata": {
        "id": "2d18fb53-8bd5-43ac-841b-9e9acdaac055"
      },
      "source": [
        "O <b>paradigma</b> este o metoda de conceptualizare a modului de structurare, organizare a datelor si a calculelor efectuate asupra lor.\n",
        "\n",
        "Exista mai multe paradigme precum:\n",
        "- <b>Programarea nestructurata</b><br>\n",
        "Deobicei este regasita in programe mici si reprezinta o succesiune de comenzi/operatii care modifica date globale.\n",
        "\n",
        "- <b>Programarea procedurala</b><br>\n",
        "Este baza pe notiunea de procedura(functie). Functiile stocheaza si executa algoritmul pe care il folosim.\n",
        "\n",
        "- <b>Programarea modulara</b><br>\n",
        "Este o evolutie a programarii procedurale. Functiile si datele sunt impartite in diferite module. Este prezent un fisier principal unde sunt importate functiile necesare si aplicate.\n",
        "\n",
        "- <b>Programarea orientata pe obiecte</b><br>\n",
        "Este ce mai recenta si aplicata paradigma la moment. Este o continuare a programarii modulare. Aici apare notiunea de clasa si obiect. "
      ]
    },
    {
      "cell_type": "markdown",
      "id": "70739b1d-54c3-4d97-bb3a-e5aaebdbafaf",
      "metadata": {
        "id": "70739b1d-54c3-4d97-bb3a-e5aaebdbafaf"
      },
      "source": [
        "<br>\n",
        "\n",
        "### Paradigma Orientata pe obiecte. Metode de abordare si rezolvare a problemelor"
      ]
    },
    {
      "cell_type": "markdown",
      "id": "0f8a4feb-c86e-4fd0-8b81-5c2829240116",
      "metadata": {
        "id": "0f8a4feb-c86e-4fd0-8b81-5c2829240116"
      },
      "source": [
        "O <b>clasa</b> este o implementare a unui tip de date abstract. Ea defineste atributele si metodele care implementeaza structura de date respectiv operatiile tipului de date abstract. <br>\n",
        "Un <b>obiect</b> reprezinta o instanta a unei clase. O trasatura specifica a obiectelor este ca ele comunica intre ele prin intermediul mesajelor.<br>\n",
        "<i>Exemplu:</i><br>\n",
        "Presupunem ca trebuie sa descriem lucrul unei masini. Sarcina noastra este sa pornim masina. Folosind paradigma procedurala sau modulara noi trebuie sa tinem cont de toti parametrii care exista, precum presiunea, cantitatea de motorina, etc... Insa daca sa privim problema prin prizma paradigmei orientate pe obiecte (OOP) atunci problema poate fi rezolvata foarte usor. Fiecare component reprezinta o clasa de sine statoare care singura are grija de starea si functionarea ei corecta. Aceste componente apoi sunt unite impreuna si formeaza o masina. Pentru ca sa pornim motorul noi nu vom avea necesitatea sa cercetam starea lui interna. Noi vom apela doar metoda lui care va face acest lucru pentru noi. Asa un interschimb si reprezinta \"Interactiunea prin mesaje\" care a fost mentionata mai sus."
      ]
    },
    {
      "cell_type": "code",
      "execution_count": 1,
      "id": "0900dac2-30d6-43af-aa42-13d23e4b95e6",
      "metadata": {
        "id": "0900dac2-30d6-43af-aa42-13d23e4b95e6"
      },
      "outputs": [],
      "source": [
        "class Motor():\n",
        "    def __init__(self, *args):      # Constructor\n",
        "        self.some_parameters = args\n",
        "    \n",
        "    def check_if_its_all_ok(self):\n",
        "        return True\n",
        "    \n",
        "    def start(self):\n",
        "        if self.check_if_its_all_ok():\n",
        "            print('Motorul lucreaza')\n",
        "        \n",
        "    def stop(self):\n",
        "        if self.check_if_its_all_ok():\n",
        "            print('Motorul s-a stins')"
      ]
    },
    {
      "cell_type": "code",
      "execution_count": 2,
      "id": "63c5e45b-f4c6-4d99-8d2e-acbf6f52b7db",
      "metadata": {
        "id": "63c5e45b-f4c6-4d99-8d2e-acbf6f52b7db"
      },
      "outputs": [],
      "source": [
        "class AlteComponente():\n",
        "    def __init__(self):\n",
        "        print('Totul este pe loc')"
      ]
    },
    {
      "cell_type": "code",
      "execution_count": 3,
      "id": "66c4f694-af07-48ea-bccc-5003b592f6ee",
      "metadata": {
        "id": "66c4f694-af07-48ea-bccc-5003b592f6ee"
      },
      "outputs": [],
      "source": [
        "class Masina():\n",
        "    def __init__(self):\n",
        "        self.motor = Motor()\n",
        "        self.componente = AlteComponente()\n",
        "    \n",
        "    def go(self):\n",
        "        self.motor.start()\n",
        "    \n",
        "    def parcking(self):\n",
        "        self.motor.stop()"
      ]
    },
    {
      "cell_type": "code",
      "execution_count": 7,
      "id": "4e1f94f4-bcab-4a40-a83e-59c5d70168db",
      "metadata": {
        "colab": {
          "base_uri": "https://localhost:8080/"
        },
        "id": "4e1f94f4-bcab-4a40-a83e-59c5d70168db",
        "outputId": "bf809112-5c96-4b8f-ba62-39f0fc59035b"
      },
      "outputs": [
        {
          "output_type": "stream",
          "name": "stdout",
          "text": [
            "Totul este pe loc\n",
            "Motorul lucreaza\n",
            "Motorul s-a stins\n"
          ]
        }
      ],
      "source": [
        "toyota = Masina()\n",
        "toyota.go()\n",
        "toyota.parcking()"
      ]
    },
    {
      "cell_type": "markdown",
      "id": "5dbda248-76f6-4131-820c-eb8c62ca03c1",
      "metadata": {
        "id": "5dbda248-76f6-4131-820c-eb8c62ca03c1"
      },
      "source": [
        "<br>\n",
        "\n",
        "### Functii Speciale"
      ]
    },
    {
      "cell_type": "markdown",
      "id": "da4db59c-dae7-4cc8-bf89-1d783de4c858",
      "metadata": {
        "id": "da4db59c-dae7-4cc8-bf89-1d783de4c858"
      },
      "source": [
        "<br>Fiecare obiect are un constructor si un destructor(destructorul foarte rar se foloseste in Python). Constructorul este functia apelata imediat dupa crearea obiectului unei clase. In Python functia este numita \\_\\_init\\_\\_. Destructorul este functia apelata la distrugerea obiectului (la sfarsit de program sau in caz cand aplici del asupra obiectului). In Python functia este numita \\_\\_del\\_\\_."
      ]
    },
    {
      "cell_type": "markdown",
      "id": "5d0f03c9-dcb6-48a4-b8c4-9b0d32ea92e6",
      "metadata": {
        "id": "5d0f03c9-dcb6-48a4-b8c4-9b0d32ea92e6"
      },
      "source": [
        "Pe langa asta mai sunt functii speciale predefinite. Cele mai importante sunt \\_\\_str\\_\\_, \\_\\_repr\\_\\_, \\_\\_getitem\\_\\_"
      ]
    },
    {
      "cell_type": "code",
      "execution_count": 8,
      "id": "73f24004-d3b4-4cbf-9ca3-9c6fef124757",
      "metadata": {
        "id": "73f24004-d3b4-4cbf-9ca3-9c6fef124757"
      },
      "outputs": [],
      "source": [
        "class Cat:\n",
        "    def __init__(self, name:str):\n",
        "        self.__name = name   # private attribute \n",
        "    \n",
        "    def __secret_function(self):   # private method\n",
        "        print('Nu ma poti apela in afara clasei!')\n",
        "    \n",
        "    def __repr__(self):\n",
        "        return f'All u want, this Cat is called {self.__name}'\n",
        "\n",
        "class Dog:\n",
        "    def __init__(self, name:str):\n",
        "        self.__name = name\n",
        "    \n",
        "    def __str__(self):\n",
        "        return self.__name"
      ]
    },
    {
      "cell_type": "code",
      "execution_count": 14,
      "id": "5570446f-06a2-4904-8a9a-e145ea82cb1b",
      "metadata": {
        "colab": {
          "base_uri": "https://localhost:8080/"
        },
        "id": "5570446f-06a2-4904-8a9a-e145ea82cb1b",
        "outputId": "39d11bd9-2c36-4ce9-b023-532df8dd852f"
      },
      "outputs": [
        {
          "output_type": "stream",
          "name": "stdout",
          "text": [
            "billy\n"
          ]
        }
      ],
      "source": [
        "# The difference between __repr__ and __str__\n",
        "billy = Dog('billy')\n",
        "maggy = Cat('maggy')\n",
        "\n",
        "# functia print primeste o lista de argumente asupra carora aplica functia str() pentru a aduce obiectele la tipul string\n",
        "print(billy)\n",
        "# print(maggy)"
      ]
    },
    {
      "cell_type": "code",
      "execution_count": 11,
      "id": "f39765b7-9fce-45a6-b238-52aaf3883658",
      "metadata": {
        "colab": {
          "base_uri": "https://localhost:8080/"
        },
        "id": "f39765b7-9fce-45a6-b238-52aaf3883658",
        "outputId": "2519bba4-b392-447d-cccb-2515e8701129"
      },
      "outputs": [
        {
          "output_type": "execute_result",
          "data": {
            "text/plain": [
              "<__main__.Dog at 0x7fce00d9ce50>"
            ]
          },
          "metadata": {},
          "execution_count": 11
        }
      ],
      "source": [
        "# Daca nu faci casting catre tipul string, atunci se va afisa reprezentarea standart a obiectului\n",
        "billy"
      ]
    },
    {
      "cell_type": "code",
      "source": [
        "maggy"
      ],
      "metadata": {
        "colab": {
          "base_uri": "https://localhost:8080/"
        },
        "id": "QaNJd4rKG6mW",
        "outputId": "241ba7ec-5720-43b6-a44d-73f7d3b54c47"
      },
      "id": "QaNJd4rKG6mW",
      "execution_count": 17,
      "outputs": [
        {
          "output_type": "execute_result",
          "data": {
            "text/plain": [
              "All u want, this Cat is called maggy"
            ]
          },
          "metadata": {},
          "execution_count": 17
        }
      ]
    },
    {
      "cell_type": "code",
      "execution_count": 12,
      "id": "6745e3be-17ca-41f4-9b19-a9ba4be2688e",
      "metadata": {
        "colab": {
          "base_uri": "https://localhost:8080/"
        },
        "id": "6745e3be-17ca-41f4-9b19-a9ba4be2688e",
        "outputId": "36300d4a-855f-40e4-e1c0-794ea3dd94d7"
      },
      "outputs": [
        {
          "output_type": "execute_result",
          "data": {
            "text/plain": [
              "All u want, this Cat is called maggy"
            ]
          },
          "metadata": {},
          "execution_count": 12
        }
      ],
      "source": [
        "maggy"
      ]
    },
    {
      "cell_type": "markdown",
      "id": "691ac149-b667-4691-b3d2-5df4ef9e42e3",
      "metadata": {
        "id": "691ac149-b667-4691-b3d2-5df4ef9e42e3"
      },
      "source": [
        "<br>\n",
        "\n",
        "### Principiile OOP"
      ]
    },
    {
      "cell_type": "markdown",
      "id": "a3d9a8e2-7669-4105-981b-cf86f45e1fab",
      "metadata": {
        "id": "a3d9a8e2-7669-4105-981b-cf86f45e1fab"
      },
      "source": [
        "Paradigma OOP are mai multe principii de baza printe care cele mai importante sunt:\n",
        "- <b>Incapsulare</b><br>\n",
        "Este procesul de grupare a datelor si metodelor de prelucrare specifice rezolvarii unei probleme.\n",
        "\n",
        "- <b>Mostenire</b><br>\n",
        "Este procesul de \"mostenire\" a campurilor(variabilelor) si metodelor(functiilor) de la un obiect(parinte) la altul(copil) \n",
        "\n",
        "- <b>Polimorfism</b><br>\n",
        "Este proprietatea unor si aceleasi entitati sa manifeste comportamente diferite in situatii diferite. In Python, din cauza ca este un limbaj dinamic, nu este bine accentuat acest principiu si se manifesta in mare parte doar in rescrierea metodelor (overwriting)."
      ]
    },
    {
      "cell_type": "code",
      "execution_count": null,
      "id": "d8953d44-f74c-4ed9-821a-85ff5274d27c",
      "metadata": {
        "id": "d8953d44-f74c-4ed9-821a-85ff5274d27c"
      },
      "outputs": [],
      "source": [
        "# Exemplu de Mostenire\n",
        "\n",
        "class Animal:\n",
        "    def __init__(self, name:str):\n",
        "        self.__name = name  # Camp privat\n",
        "    \n",
        "    def run(self):\n",
        "        print('I\\'m running')\n",
        "\n",
        "\n",
        "class Cat(Animal):   # Mosternire\n",
        "    \n",
        "    def run(self):  # Polimorfism - suprascrierea unei metode deja existente (din clasa parinte)\n",
        "        print('I\\'m running on all fours')"
      ]
    },
    {
      "cell_type": "markdown",
      "id": "256fb8af-1645-4cfd-b610-1b1bb631cb09",
      "metadata": {
        "id": "256fb8af-1645-4cfd-b610-1b1bb631cb09"
      },
      "source": [
        "<br><br><br> \n",
        "### Practica"
      ]
    },
    {
      "cell_type": "markdown",
      "id": "78dc7e30-e60d-4a61-9bfb-03e7bf3eb5fb",
      "metadata": {
        "id": "78dc7e30-e60d-4a61-9bfb-03e7bf3eb5fb"
      },
      "source": [
        "Pentru a intari materialul propun spre rezolvare urmatoarea sarcina:\n",
        "\n",
        "1. De creat o clasa \"Human\" care o sa initializeze campurile \"nume\", \"familia\", \"varsta\", \"secret\" in constructor, valorile acestora fiind primite ca parametru. Campul secret trebuie sa fie privat. \n",
        "2. De creat o metoda \"study\" care sa printeze \"Studiez lucruri noi\".\n",
        "3. Prin intermediul functiilor speciale (\\_\\_repr\\_\\_) de schimbat reprezentarea obiectului in \"\\<obiect de tip human cu numele {numele individului}>\"\n",
        "4. In continuare de creat doua clase \"Elev\" si \"Student\", care mostenesc clasa Human. \n",
        "5. De suprascris metoda \"study\" in cadrul carei: pentru clasa \"Elev\" de printat - \"Studiez pentru bac si am obosit\", pentru clasa \"Student\" de printat - \"Studiez zi si noapte, am uitat cand ultima data am dormit\""
      ]
    },
    {
      "cell_type": "markdown",
      "id": "c551315f-55b1-4ed2-87e4-0d0fa96d5dcf",
      "metadata": {
        "id": "c551315f-55b1-4ed2-87e4-0d0fa96d5dcf"
      },
      "source": [
        "#### Your solution:"
      ]
    },
    {
      "cell_type": "code",
      "execution_count": 33,
      "id": "9ec24ba8-c3fd-4cc5-9cfa-f23e2d45abd5",
      "metadata": {
        "id": "9ec24ba8-c3fd-4cc5-9cfa-f23e2d45abd5"
      },
      "outputs": [],
      "source": [
        "class Human:\n",
        "  def __init__ (self, nume, familia, varsta, secret):\n",
        "    self.nume=nume\n",
        "    self.familia=familia\n",
        "    self.varsta=varsta\n",
        "    self.__secret=secret\n",
        "\n",
        "  def study(self):\n",
        "    print('Studiez lucruri noi')\n",
        "\n",
        "  def __repr__(self):\n",
        "    return f'<obiect de tip human cu numele {self.nume}>\"'\n",
        "\n",
        "Vlad=Human('Vlad', 'Davidescu', '17', 'really?')"
      ]
    },
    {
      "cell_type": "code",
      "execution_count": 27,
      "id": "5f53cd72-ab4a-4615-9d91-4c65bfb4fccd",
      "metadata": {
        "colab": {
          "base_uri": "https://localhost:8080/"
        },
        "id": "5f53cd72-ab4a-4615-9d91-4c65bfb4fccd",
        "outputId": "b9a22330-3453-43f4-8f6c-ac55cc474cb9"
      },
      "outputs": [
        {
          "output_type": "stream",
          "name": "stdout",
          "text": [
            "Studiez pentru bac si am obosit\n"
          ]
        }
      ],
      "source": [
        "class Elev(Human):\n",
        "  def study(self):\n",
        "    print(\"Studiez pentru bac si am obosit\")\n",
        "Ion=Elev('Ion', 'Sandu', '18', 'n-am')\n",
        "Ion.study()"
      ]
    },
    {
      "cell_type": "code",
      "execution_count": 20,
      "id": "fde1b95d-711b-4932-a74b-f47f3436d5f2",
      "metadata": {
        "id": "fde1b95d-711b-4932-a74b-f47f3436d5f2"
      },
      "outputs": [],
      "source": [
        "class Student(Human):\n",
        "\n",
        "  def study(self):\n",
        "    print('Studiez zi si noapte, am uitat cand ultima data am dormit')"
      ]
    },
    {
      "cell_type": "markdown",
      "id": "e84ab564-b2b3-4b18-8916-572e9c6458fb",
      "metadata": {
        "id": "e84ab564-b2b3-4b18-8916-572e9c6458fb"
      },
      "source": [
        "#### My solution <br>\n",
        "Tap on ... for show solution"
      ]
    },
    {
      "cell_type": "code",
      "execution_count": null,
      "id": "d997fc50-ef76-49d5-9238-984239438a70",
      "metadata": {
        "jupyter": {
          "source_hidden": true
        },
        "tags": [],
        "id": "d997fc50-ef76-49d5-9238-984239438a70"
      },
      "outputs": [],
      "source": [
        "class Human:\n",
        "    def __init__(self, nume:str = 'secret', familia:str = 'secret', varsta:int = 1, secret:str = 'nu am secrete'):\n",
        "        self.nume = nume\n",
        "        self.familia = familia\n",
        "        self.varsta = varsta\n",
        "        self.__secret = secret\n",
        "    \n",
        "    def study(self):\n",
        "        print('Studiez lucruri noi')\n",
        "    \n",
        "    def __repr__(self):\n",
        "        return f'<obiect de tip Human cu numele {self.nume}>'"
      ]
    },
    {
      "cell_type": "code",
      "execution_count": null,
      "id": "0bdb49f9-1fb2-49d0-9e17-7b56a8be9fac",
      "metadata": {
        "jupyter": {
          "source_hidden": true
        },
        "tags": [],
        "id": "0bdb49f9-1fb2-49d0-9e17-7b56a8be9fac"
      },
      "outputs": [],
      "source": [
        "class Elev(Human):\n",
        "    def study(self):\n",
        "        print('Studiez pentru bac si am obosit')"
      ]
    },
    {
      "cell_type": "code",
      "execution_count": null,
      "id": "e1eb1a04-8704-4d44-a2e8-9a2642effd33",
      "metadata": {
        "jupyter": {
          "source_hidden": true
        },
        "tags": [],
        "id": "e1eb1a04-8704-4d44-a2e8-9a2642effd33"
      },
      "outputs": [],
      "source": [
        "class Student(Human):\n",
        "    def study(self):\n",
        "        print('Studiez zi si noapte, am uitat cand ultima data am dormit')"
      ]
    }
  ],
  "metadata": {
    "kernelspec": {
      "display_name": "Python 3 (ipykernel)",
      "language": "python",
      "name": "python3"
    },
    "language_info": {
      "codemirror_mode": {
        "name": "ipython",
        "version": 3
      },
      "file_extension": ".py",
      "mimetype": "text/x-python",
      "name": "python",
      "nbconvert_exporter": "python",
      "pygments_lexer": "ipython3",
      "version": "3.7.6"
    },
    "colab": {
      "name": "OOP Danu.ipynb",
      "provenance": []
    }
  },
  "nbformat": 4,
  "nbformat_minor": 5
}