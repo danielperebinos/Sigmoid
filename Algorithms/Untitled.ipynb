{
 "cells": [
  {
   "cell_type": "code",
   "execution_count": 21,
   "id": "bd3392fe-134e-459e-b114-6fbe3457237d",
   "metadata": {},
   "outputs": [],
   "source": [
    "import torch\n",
    "from torch.nn import Linear, functional as F\n",
    "from torch.optim import SGD"
   ]
  },
  {
   "cell_type": "code",
   "execution_count": 22,
   "id": "26861fc6-9716-43e5-8dd0-1384f7eb18e9",
   "metadata": {},
   "outputs": [],
   "source": [
    "class LinearRegression(Linear):\n",
    "    def __init__(self, in_features, out_features = 1, bias = True):\n",
    "        super().__init__(in_features= in_features, out_features=out_features, bias=bias)\n",
    "        self.optimizer = torch.optim.Adam(self.parameters(), lr=0.00005)\n",
    "    \n",
    "    def fit(self, train_dl, num_epochs=100):\n",
    "        for epoch in range(num_epochs+1):\n",
    "            for x_batch, y_batch in train_dl:\n",
    "                self.prediction = self(x_batch.float())\n",
    "                loss = F.mse_loss(self.prediction, y_batch.float())\n",
    "                loss.backward()\n",
    "                self.optimizer.step()\n",
    "                self.optimizer.zero_grad()\n",
    "                \n",
    "            if epoch % 10 == 0:\n",
    "                print(f'Epoch {epoch}, Loss: {loss}')\n",
    "        "
   ]
  },
  {
   "cell_type": "code",
   "execution_count": null,
   "id": "79c061ad-282c-40ef-85c7-b8eaf88c7f42",
   "metadata": {},
   "outputs": [],
   "source": []
  },
  {
   "cell_type": "code",
   "execution_count": null,
   "id": "41821e9f-a18a-4628-9704-37ee2a379749",
   "metadata": {},
   "outputs": [
    {
     "data": {
      "text/html": [
       "<div>\n",
       "<style scoped>\n",
       "    .dataframe tbody tr th:only-of-type {\n",
       "        vertical-align: middle;\n",
       "    }\n",
       "\n",
       "    .dataframe tbody tr th {\n",
       "        vertical-align: top;\n",
       "    }\n",
       "\n",
       "    .dataframe thead th {\n",
       "        text-align: right;\n",
       "    }\n",
       "</style>\n",
       "<table border=\"1\" class=\"dataframe\">\n",
       "  <thead>\n",
       "    <tr style=\"text-align: right;\">\n",
       "      <th></th>\n",
       "      <th>CRIM</th>\n",
       "      <th>ZN</th>\n",
       "      <th>INDUS</th>\n",
       "      <th>CHAS</th>\n",
       "      <th>NOX</th>\n",
       "      <th>RM</th>\n",
       "      <th>AGE</th>\n",
       "      <th>DIS</th>\n",
       "      <th>RAD</th>\n",
       "      <th>TAX</th>\n",
       "      <th>PTRATIO</th>\n",
       "      <th>B</th>\n",
       "      <th>LSTAT</th>\n",
       "      <th>MEDV</th>\n",
       "    </tr>\n",
       "  </thead>\n",
       "  <tbody>\n",
       "    <tr>\n",
       "      <th>0</th>\n",
       "      <td>0.00632</td>\n",
       "      <td>18.0</td>\n",
       "      <td>2.31</td>\n",
       "      <td>0</td>\n",
       "      <td>0.538</td>\n",
       "      <td>6.575</td>\n",
       "      <td>65.2</td>\n",
       "      <td>4.0900</td>\n",
       "      <td>1</td>\n",
       "      <td>296</td>\n",
       "      <td>15.3</td>\n",
       "      <td>396.90</td>\n",
       "      <td>4.98</td>\n",
       "      <td>24.0</td>\n",
       "    </tr>\n",
       "    <tr>\n",
       "      <th>1</th>\n",
       "      <td>0.02731</td>\n",
       "      <td>0.0</td>\n",
       "      <td>7.07</td>\n",
       "      <td>0</td>\n",
       "      <td>0.469</td>\n",
       "      <td>6.421</td>\n",
       "      <td>78.9</td>\n",
       "      <td>4.9671</td>\n",
       "      <td>2</td>\n",
       "      <td>242</td>\n",
       "      <td>17.8</td>\n",
       "      <td>396.90</td>\n",
       "      <td>9.14</td>\n",
       "      <td>21.6</td>\n",
       "    </tr>\n",
       "    <tr>\n",
       "      <th>2</th>\n",
       "      <td>0.02729</td>\n",
       "      <td>0.0</td>\n",
       "      <td>7.07</td>\n",
       "      <td>0</td>\n",
       "      <td>0.469</td>\n",
       "      <td>7.185</td>\n",
       "      <td>61.1</td>\n",
       "      <td>4.9671</td>\n",
       "      <td>2</td>\n",
       "      <td>242</td>\n",
       "      <td>17.8</td>\n",
       "      <td>392.83</td>\n",
       "      <td>4.03</td>\n",
       "      <td>34.7</td>\n",
       "    </tr>\n",
       "    <tr>\n",
       "      <th>3</th>\n",
       "      <td>0.03237</td>\n",
       "      <td>0.0</td>\n",
       "      <td>2.18</td>\n",
       "      <td>0</td>\n",
       "      <td>0.458</td>\n",
       "      <td>6.998</td>\n",
       "      <td>45.8</td>\n",
       "      <td>6.0622</td>\n",
       "      <td>3</td>\n",
       "      <td>222</td>\n",
       "      <td>18.7</td>\n",
       "      <td>394.63</td>\n",
       "      <td>2.94</td>\n",
       "      <td>33.4</td>\n",
       "    </tr>\n",
       "    <tr>\n",
       "      <th>4</th>\n",
       "      <td>0.06905</td>\n",
       "      <td>0.0</td>\n",
       "      <td>2.18</td>\n",
       "      <td>0</td>\n",
       "      <td>0.458</td>\n",
       "      <td>7.147</td>\n",
       "      <td>54.2</td>\n",
       "      <td>6.0622</td>\n",
       "      <td>3</td>\n",
       "      <td>222</td>\n",
       "      <td>18.7</td>\n",
       "      <td>396.90</td>\n",
       "      <td>5.33</td>\n",
       "      <td>36.2</td>\n",
       "    </tr>\n",
       "    <tr>\n",
       "      <th>...</th>\n",
       "      <td>...</td>\n",
       "      <td>...</td>\n",
       "      <td>...</td>\n",
       "      <td>...</td>\n",
       "      <td>...</td>\n",
       "      <td>...</td>\n",
       "      <td>...</td>\n",
       "      <td>...</td>\n",
       "      <td>...</td>\n",
       "      <td>...</td>\n",
       "      <td>...</td>\n",
       "      <td>...</td>\n",
       "      <td>...</td>\n",
       "      <td>...</td>\n",
       "    </tr>\n",
       "    <tr>\n",
       "      <th>506</th>\n",
       "      <td>0.98765</td>\n",
       "      <td>0.0</td>\n",
       "      <td>12.50</td>\n",
       "      <td>0</td>\n",
       "      <td>0.561</td>\n",
       "      <td>6.980</td>\n",
       "      <td>89.0</td>\n",
       "      <td>2.0980</td>\n",
       "      <td>3</td>\n",
       "      <td>320</td>\n",
       "      <td>23.0</td>\n",
       "      <td>396.00</td>\n",
       "      <td>12.00</td>\n",
       "      <td>12.0</td>\n",
       "    </tr>\n",
       "    <tr>\n",
       "      <th>507</th>\n",
       "      <td>0.23456</td>\n",
       "      <td>0.0</td>\n",
       "      <td>12.50</td>\n",
       "      <td>0</td>\n",
       "      <td>0.561</td>\n",
       "      <td>6.980</td>\n",
       "      <td>76.0</td>\n",
       "      <td>2.6540</td>\n",
       "      <td>3</td>\n",
       "      <td>320</td>\n",
       "      <td>23.0</td>\n",
       "      <td>343.00</td>\n",
       "      <td>25.00</td>\n",
       "      <td>32.0</td>\n",
       "    </tr>\n",
       "    <tr>\n",
       "      <th>508</th>\n",
       "      <td>0.44433</td>\n",
       "      <td>0.0</td>\n",
       "      <td>12.50</td>\n",
       "      <td>0</td>\n",
       "      <td>0.561</td>\n",
       "      <td>6.123</td>\n",
       "      <td>98.0</td>\n",
       "      <td>2.9870</td>\n",
       "      <td>3</td>\n",
       "      <td>320</td>\n",
       "      <td>23.0</td>\n",
       "      <td>343.00</td>\n",
       "      <td>21.00</td>\n",
       "      <td>54.0</td>\n",
       "    </tr>\n",
       "    <tr>\n",
       "      <th>509</th>\n",
       "      <td>0.77763</td>\n",
       "      <td>0.0</td>\n",
       "      <td>12.70</td>\n",
       "      <td>0</td>\n",
       "      <td>0.561</td>\n",
       "      <td>6.222</td>\n",
       "      <td>34.0</td>\n",
       "      <td>2.5430</td>\n",
       "      <td>3</td>\n",
       "      <td>329</td>\n",
       "      <td>23.0</td>\n",
       "      <td>343.00</td>\n",
       "      <td>76.00</td>\n",
       "      <td>67.0</td>\n",
       "    </tr>\n",
       "    <tr>\n",
       "      <th>510</th>\n",
       "      <td>0.65432</td>\n",
       "      <td>0.0</td>\n",
       "      <td>12.80</td>\n",
       "      <td>0</td>\n",
       "      <td>0.561</td>\n",
       "      <td>6.760</td>\n",
       "      <td>67.0</td>\n",
       "      <td>2.9870</td>\n",
       "      <td>3</td>\n",
       "      <td>345</td>\n",
       "      <td>23.0</td>\n",
       "      <td>321.00</td>\n",
       "      <td>45.00</td>\n",
       "      <td>24.0</td>\n",
       "    </tr>\n",
       "  </tbody>\n",
       "</table>\n",
       "<p>511 rows × 14 columns</p>\n",
       "</div>"
      ],
      "text/plain": [
       "        CRIM    ZN  INDUS  CHAS    NOX     RM   AGE     DIS  RAD  TAX  \\\n",
       "0    0.00632  18.0   2.31     0  0.538  6.575  65.2  4.0900    1  296   \n",
       "1    0.02731   0.0   7.07     0  0.469  6.421  78.9  4.9671    2  242   \n",
       "2    0.02729   0.0   7.07     0  0.469  7.185  61.1  4.9671    2  242   \n",
       "3    0.03237   0.0   2.18     0  0.458  6.998  45.8  6.0622    3  222   \n",
       "4    0.06905   0.0   2.18     0  0.458  7.147  54.2  6.0622    3  222   \n",
       "..       ...   ...    ...   ...    ...    ...   ...     ...  ...  ...   \n",
       "506  0.98765   0.0  12.50     0  0.561  6.980  89.0  2.0980    3  320   \n",
       "507  0.23456   0.0  12.50     0  0.561  6.980  76.0  2.6540    3  320   \n",
       "508  0.44433   0.0  12.50     0  0.561  6.123  98.0  2.9870    3  320   \n",
       "509  0.77763   0.0  12.70     0  0.561  6.222  34.0  2.5430    3  329   \n",
       "510  0.65432   0.0  12.80     0  0.561  6.760  67.0  2.9870    3  345   \n",
       "\n",
       "     PTRATIO       B  LSTAT  MEDV  \n",
       "0       15.3  396.90   4.98  24.0  \n",
       "1       17.8  396.90   9.14  21.6  \n",
       "2       17.8  392.83   4.03  34.7  \n",
       "3       18.7  394.63   2.94  33.4  \n",
       "4       18.7  396.90   5.33  36.2  \n",
       "..       ...     ...    ...   ...  \n",
       "506     23.0  396.00  12.00  12.0  \n",
       "507     23.0  343.00  25.00  32.0  \n",
       "508     23.0  343.00  21.00  54.0  \n",
       "509     23.0  343.00  76.00  67.0  \n",
       "510     23.0  321.00  45.00  24.0  \n",
       "\n",
       "[511 rows x 14 columns]"
      ]
     },
     "execution_count": 31,
     "metadata": {},
     "output_type": "execute_result"
    }
   ],
   "source": [
    "df = pd.read_csv('data.csv')\n",
    "df"
   ]
  },
  {
   "cell_type": "code",
   "execution_count": null,
   "id": "47b4a61c-1f9d-4e2a-92d3-a987efd41b58",
   "metadata": {},
   "outputs": [],
   "source": [
    "X = df[df.columns[:-1]].values\n",
    "y = df[df.columns[-1]].values"
   ]
  },
  {
   "cell_type": "code",
   "execution_count": null,
   "id": "ea6db219-e4a8-4543-b26e-9f82a63d2855",
   "metadata": {},
   "outputs": [],
   "source": []
  },
  {
   "cell_type": "code",
   "execution_count": null,
   "id": "2043c641-b7c4-42c7-8754-ce03ece5c6cf",
   "metadata": {},
   "outputs": [],
   "source": []
  },
  {
   "cell_type": "code",
   "execution_count": null,
   "id": "70d46f44-b5c8-4462-8998-f4f7eae56e93",
   "metadata": {},
   "outputs": [],
   "source": [
    "import numpy as np\n",
    "import pandas as pd"
   ]
  },
  {
   "cell_type": "code",
   "execution_count": null,
   "id": "ca746d4c-684d-4bef-b5c1-8afc435a4fe7",
   "metadata": {},
   "outputs": [],
   "source": [
    "class LinearRegression_numpy():\n",
    "    def __init__(self, in_features, out_features, bias = True):\n",
    "        self.weight = np.random.rand(in_features, out_features)\n",
    "        self.bias = np.random.rand(out_features)\n",
    "    \n",
    "    def __loss_fn(self, y_predicted, target):\n",
    "        return np.abs(y_predicted - target)\n",
    "    \n",
    "    def predict(self, X):\n",
    "        return np.matmul(X, self.weight) + self.bias\n",
    "    \n",
    "    def fit(self, X, y, num_epochs, lr):\n",
    "        for epoch in range(num_epochs):\n",
    "            for index in range(len(X)):\n",
    "                \n",
    "                x_value, y_value = X[index], y[index]\n",
    "                predicted = self.predict(x_value)\n",
    "                loss = self.__loss_fn(predicted, y_value)\n",
    "                # print(loss)\n",
    "                if loss == 0: return\n",
    "                \n",
    "                direction = 2 * np.sum((self.predict(x_value) - y_value )* x_value)\n",
    "                self.weight -= lr*direction\n",
    "                # self.bias -= lr*direction\n",
    "            \n",
    "            if epoch % 10 == 0:\n",
    "                print(f'Epoch {epoch}, Loss: {loss}')     "
   ]
  },
  {
   "cell_type": "code",
   "execution_count": null,
   "id": "3c04f992-d818-4e8e-9835-747ffca0b53c",
   "metadata": {},
   "outputs": [],
   "source": [
    "w = LinearRegression_numpy(13, 1)"
   ]
  },
  {
   "cell_type": "code",
   "execution_count": null,
   "id": "2caa3c93-c42a-454c-86f3-1e1c9afb37e7",
   "metadata": {},
   "outputs": [
    {
     "data": {
      "text/plain": [
       "array([[6.3200e-03, 2.7310e-02, 2.7290e-02, ..., 4.4433e-01, 7.7763e-01,\n",
       "        6.5432e-01],\n",
       "       [1.8000e+01, 0.0000e+00, 0.0000e+00, ..., 0.0000e+00, 0.0000e+00,\n",
       "        0.0000e+00],\n",
       "       [2.3100e+00, 7.0700e+00, 7.0700e+00, ..., 1.2500e+01, 1.2700e+01,\n",
       "        1.2800e+01],\n",
       "       ...,\n",
       "       [1.5300e+01, 1.7800e+01, 1.7800e+01, ..., 2.3000e+01, 2.3000e+01,\n",
       "        2.3000e+01],\n",
       "       [3.9690e+02, 3.9690e+02, 3.9283e+02, ..., 3.4300e+02, 3.4300e+02,\n",
       "        3.2100e+02],\n",
       "       [4.9800e+00, 9.1400e+00, 4.0300e+00, ..., 2.1000e+01, 7.6000e+01,\n",
       "        4.5000e+01]])"
      ]
     },
     "execution_count": 474,
     "metadata": {},
     "output_type": "execute_result"
    }
   ],
   "source": [
    "X.transpose()"
   ]
  },
  {
   "cell_type": "code",
   "execution_count": null,
   "id": "00c265e6-0f48-4da8-9b37-0c8487b209de",
   "metadata": {},
   "outputs": [
    {
     "data": {
      "text/plain": [
       "1"
      ]
     },
     "execution_count": 475,
     "metadata": {},
     "output_type": "execute_result"
    }
   ],
   "source": [
    "len([X[0]])"
   ]
  },
  {
   "cell_type": "code",
   "execution_count": null,
   "id": "8ce133c0-10f8-46b4-ae6f-7a8be7e48973",
   "metadata": {},
   "outputs": [
    {
     "data": {
      "text/plain": [
       "array([488.4863361])"
      ]
     },
     "execution_count": 476,
     "metadata": {},
     "output_type": "execute_result"
    }
   ],
   "source": [
    "w.predict(X[0])"
   ]
  },
  {
   "cell_type": "code",
   "execution_count": null,
   "id": "62c2c893-ba04-40d3-ba82-f7e5cf7d667d",
   "metadata": {},
   "outputs": [
    {
     "data": {
      "text/plain": [
       "24.0"
      ]
     },
     "execution_count": 477,
     "metadata": {},
     "output_type": "execute_result"
    }
   ],
   "source": [
    "y[0]"
   ]
  },
  {
   "cell_type": "code",
   "execution_count": null,
   "id": "f28752fc-45b1-40e7-8acb-258664ea2efb",
   "metadata": {},
   "outputs": [
    {
     "data": {
      "text/plain": [
       "array([[0.34143995],\n",
       "       [0.77777323],\n",
       "       [0.41756339],\n",
       "       [0.55822897],\n",
       "       [0.69932086],\n",
       "       [0.69232665],\n",
       "       [0.06350007],\n",
       "       [0.07459961],\n",
       "       [0.63478353],\n",
       "       [0.67218797],\n",
       "       [0.69587041],\n",
       "       [0.63224872],\n",
       "       [0.44750016]])"
      ]
     },
     "execution_count": 478,
     "metadata": {},
     "output_type": "execute_result"
    }
   ],
   "source": [
    "w.weight"
   ]
  },
  {
   "cell_type": "code",
   "execution_count": null,
   "id": "24a5bbc6-f618-4d4b-b7f2-0e3abed1e33e",
   "metadata": {},
   "outputs": [
    {
     "data": {
      "text/plain": [
       "array([[6.320e-03, 1.800e+01, 2.310e+00, 0.000e+00, 5.380e-01, 6.575e+00,\n",
       "        6.520e+01, 4.090e+00, 1.000e+00, 2.960e+02, 1.530e+01, 3.969e+02,\n",
       "        4.980e+00]])"
      ]
     },
     "execution_count": 479,
     "metadata": {},
     "output_type": "execute_result"
    }
   ],
   "source": [
    "X[0].reshape(13, 1).transpose()"
   ]
  },
  {
   "cell_type": "code",
   "execution_count": null,
   "id": "4edf846b-42ff-4dc4-ab60-b4d4b01cdc62",
   "metadata": {},
   "outputs": [
    {
     "name": "stdout",
     "output_type": "stream",
     "text": [
      "Epoch 0, Loss: [nan]\n",
      "Epoch 10, Loss: [nan]\n",
      "Epoch 20, Loss: [nan]\n",
      "Epoch 30, Loss: [nan]\n",
      "Epoch 40, Loss: [nan]\n",
      "Epoch 50, Loss: [nan]\n",
      "Epoch 60, Loss: [nan]\n",
      "Epoch 70, Loss: [nan]\n",
      "Epoch 80, Loss: [nan]\n",
      "Epoch 90, Loss: [nan]\n"
     ]
    }
   ],
   "source": [
    "w.fit(X,y,100, 0.0005)"
   ]
  },
  {
   "cell_type": "code",
   "execution_count": null,
   "id": "3fdf8700-cdd7-452b-8bc1-86587f19b401",
   "metadata": {},
   "outputs": [
    {
     "data": {
      "text/plain": [
       "(array([0.72878011]),\n",
       " array([[nan],\n",
       "        [nan],\n",
       "        [nan],\n",
       "        [nan],\n",
       "        [nan],\n",
       "        [nan],\n",
       "        [nan],\n",
       "        [nan],\n",
       "        [nan],\n",
       "        [nan],\n",
       "        [nan],\n",
       "        [nan],\n",
       "        [nan]]))"
      ]
     },
     "execution_count": 481,
     "metadata": {},
     "output_type": "execute_result"
    }
   ],
   "source": [
    "w.bias, w.weight"
   ]
  },
  {
   "cell_type": "code",
   "execution_count": 410,
   "id": "5825e888-7c05-44d0-89c3-7471910cddaa",
   "metadata": {},
   "outputs": [
    {
     "data": {
      "text/plain": [
       "array([810.89932])"
      ]
     },
     "execution_count": 470,
     "metadata": {},
     "output_type": "execute_result"
    }
   ],
   "source": [
    "sum(np.dot(X[0].reshape(1, 13).transpose(), np.array([1]).reshape(1, 1)))"
   ]
  },
  {
   "cell_type": "code",
   "execution_count": 411,
   "id": "a76f194b-6f0a-4edb-9a6f-40b8b8431b2a",
   "metadata": {},
   "outputs": [
    {
     "data": {
      "text/plain": [
       "array([[1]])"
      ]
     },
     "execution_count": 471,
     "metadata": {},
     "output_type": "execute_result"
    }
   ],
   "source": [
    "np.array([1]).reshape(1, 1)"
   ]
  },
  {
   "cell_type": "code",
   "execution_count": null,
   "id": "f02c8ea4-3151-4bdb-b28f-4dbbf37171fd",
   "metadata": {},
   "outputs": [],
   "source": [
    "a = np.array([[1,2],[1,2]])"
   ]
  },
  {
   "cell_type": "code",
   "execution_count": null,
   "id": "55179742-fa28-4286-9463-0e88fd6ca568",
   "metadata": {},
   "outputs": [],
   "source": [
    "b = np.array([1, 2])"
   ]
  },
  {
   "cell_type": "code",
   "execution_count": null,
   "id": "a1ba6f4f-e883-483f-a1b7-3424639a7b72",
   "metadata": {},
   "outputs": [
    {
     "data": {
      "text/plain": [
       "((2, 2), (2,))"
      ]
     },
     "execution_count": 414,
     "metadata": {},
     "output_type": "execute_result"
    }
   ],
   "source": [
    "a.shape, b.shape"
   ]
  },
  {
   "cell_type": "code",
   "execution_count": null,
   "id": "3ab7b341-b24a-4f97-8297-e96b931e653a",
   "metadata": {},
   "outputs": [
    {
     "data": {
      "text/plain": [
       "array([5, 5])"
      ]
     },
     "execution_count": 268,
     "metadata": {},
     "output_type": "execute_result"
    }
   ],
   "source": [
    "np.matmul(a, b)"
   ]
  },
  {
   "cell_type": "code",
   "execution_count": null,
   "id": "4e54b113-fd71-44d2-b7e5-17dae5a72eda",
   "metadata": {},
   "outputs": [
    {
     "data": {
      "text/plain": [
       "(1,)"
      ]
     },
     "execution_count": 270,
     "metadata": {},
     "output_type": "execute_result"
    }
   ],
   "source": [
    "w.predict(X[0]).shape"
   ]
  },
  {
   "cell_type": "code",
   "execution_count": null,
   "id": "5f559183-62fd-45c0-b3a8-c80c13c4007d",
   "metadata": {},
   "outputs": [
    {
     "data": {
      "text/plain": [
       "(1, 13)"
      ]
     },
     "execution_count": 281,
     "metadata": {},
     "output_type": "execute_result"
    }
   ],
   "source": [
    "X[0].reshape(1, 13).shape"
   ]
  },
  {
   "cell_type": "code",
   "execution_count": null,
   "id": "cd0dce8a-14d2-431a-87bf-a8744ebf07af",
   "metadata": {},
   "outputs": [
    {
     "data": {
      "text/plain": [
       "array([[-2.35707662],\n",
       "       [-3.05192265],\n",
       "       [-2.3648045 ],\n",
       "       [-2.55913911],\n",
       "       [-2.59080062],\n",
       "       [-2.92067035],\n",
       "       [-2.94927517],\n",
       "       [-2.73578019],\n",
       "       [-2.25741072],\n",
       "       [-2.38753177],\n",
       "       [-3.09511769],\n",
       "       [-2.91513507],\n",
       "       [-2.30912236]])"
      ]
     },
     "execution_count": 430,
     "metadata": {},
     "output_type": "execute_result"
    }
   ],
   "source": [
    "sum(X[0] *  (w.predict(X[0]) + w.bias.bias+ w.bias - y[0]))"
   ]
  },
  {
   "cell_type": "code",
   "execution_count": null,
   "id": "19549952-df14-4977-a991-608fdff672e8",
   "metadata": {},
   "outputs": [
    {
     "data": {
      "text/plain": [
       "array([400.08193474])"
      ]
     },
     "execution_count": 423,
     "metadata": {},
     "output_type": "execute_result"
    }
   ],
   "source": [
    "(w.predict(X[0]) - y[0])"
   ]
  },
  {
   "cell_type": "code",
   "execution_count": null,
   "id": "47502630-c018-4b5b-bd8e-66fcf944eb78",
   "metadata": {},
   "outputs": [
    {
     "data": {
      "text/plain": [
       "24.0"
      ]
     },
     "execution_count": 421,
     "metadata": {},
     "output_type": "execute_result"
    }
   ],
   "source": [
    "y[0]"
   ]
  },
  {
   "cell_type": "code",
   "execution_count": null,
   "id": "2af8ba19-e93d-4159-8da0-307fa9bb2bd8",
   "metadata": {},
   "outputs": [
    {
     "data": {
      "text/plain": [
       "array([424.08193474])"
      ]
     },
     "execution_count": 422,
     "metadata": {},
     "output_type": "execute_result"
    }
   ],
   "source": [
    "w.predict(X[0])"
   ]
  },
  {
   "cell_type": "code",
   "execution_count": null,
   "id": "4fc6099a-58e2-4363-9f10-5574d3729bd8",
   "metadata": {},
   "outputs": [],
   "source": []
  }
 ],
 "metadata": {
  "kernelspec": {
   "display_name": "Python 3 (ipykernel)",
   "language": "python",
   "name": "python3"
  },
  "language_info": {
   "codemirror_mode": {
    "name": "ipython",
    "version": 3
   },
   "file_extension": ".py",
   "mimetype": "text/x-python",
   "name": "python",
   "nbconvert_exporter": "python",
   "pygments_lexer": "ipython3",
   "version": "3.7.6"
  }
 },
 "nbformat": 4,
 "nbformat_minor": 5
}
