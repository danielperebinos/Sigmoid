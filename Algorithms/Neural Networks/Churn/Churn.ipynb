{
 "cells": [
  {
   "cell_type": "code",
   "execution_count": 1,
   "id": "b93c9923-1c77-43da-a938-d72e57dacc9b",
   "metadata": {},
   "outputs": [
    {
     "name": "stderr",
     "output_type": "stream",
     "text": [
      "c:\\users\\user\\appdata\\local\\programs\\python\\python37\\lib\\site-packages\\torch\\cuda\\__init__.py:80: UserWarning: CUDA initialization: The NVIDIA driver on your system is too old (found version 6050). Please update your GPU driver by downloading and installing a new version from the URL: http://www.nvidia.com/Download/index.aspx Alternatively, go to: https://pytorch.org to install a PyTorch version that has been compiled with your version of the CUDA driver. (Triggered internally at  ..\\c10\\cuda\\CUDAFunctions.cpp:112.)\n",
      "  return torch._C._cuda_getDeviceCount() > 0\n"
     ]
    }
   ],
   "source": [
    "#Important imports\n",
    "import torch\n",
    "from torch import nn as nn # for NN\n",
    "from torch.utils.data import Dataset # class to create dataset class\n",
    "from torch import optim # Optimizer\n",
    "from torch.nn import functional as F # activation functions\n",
    "import matplotlib.pyplot as plt # to plot a graph\n",
    "import pandas as pd # py data analysis\n",
    "\n",
    "#Choosing devise to be gpu if have one, else cpu\n",
    "DEVICE = torch.device(\"cuda\" if torch.cuda.is_available() else \"cpu\")  "
   ]
  },
  {
   "cell_type": "code",
   "execution_count": 2,
   "id": "bbe2daea-7664-46b0-a5b4-73da1fe36fbb",
   "metadata": {},
   "outputs": [
    {
     "data": {
      "text/plain": [
       "device(type='cpu')"
      ]
     },
     "execution_count": 2,
     "metadata": {},
     "output_type": "execute_result"
    }
   ],
   "source": [
    "DEVICE"
   ]
  },
  {
   "cell_type": "code",
   "execution_count": 3,
   "id": "00993cd8-ed4e-4976-a498-ef53a48d30fa",
   "metadata": {},
   "outputs": [],
   "source": [
    "class DataSet(Dataset):\n",
    "    def __init__(self, path):\n",
    "        self.dataset = torch.tensor(pd.read_csv(path).values)\n",
    "        \n",
    "    def __len__(self):\n",
    "        return len(self.dataset)\n",
    "    \n",
    "    def __getitem__(self, index):\n",
    "        return self.dataset[index, :-1], self.dataset[index, -1]"
   ]
  },
  {
   "cell_type": "code",
   "execution_count": 4,
   "id": "4e233090-14ad-4fcc-8670-8421f6dbe232",
   "metadata": {},
   "outputs": [],
   "source": [
    "class neuralNetwork(nn.Module):\n",
    "    def __init__(self, in_features):\n",
    "        super().__init__()\n",
    "        self.in_features = in_features\n",
    "    \n",
    "        self.fc1 = nn.Linear(in_features, 16)\n",
    "        self.fc2 = nn.Linear(16, 32)\n",
    "        self.fc3 = nn.Linear(32, 1)\n",
    "        \n",
    "    def forward(self, X):\n",
    "        out = F.relu(self.fc1(X))\n",
    "        out = F.relu(self.fc2(out))\n",
    "        out = torch.sigmoid(self.fc3(out))\n",
    "    \n",
    "        return out"
   ]
  },
  {
   "cell_type": "code",
   "execution_count": 5,
   "id": "3e086a3a-5e26-4e8e-99ce-a81c01a74df0",
   "metadata": {},
   "outputs": [],
   "source": [
    "def fit(num_epochs, model, optimizer, loss_fn, train_loader, test_loader, plot=True):\n",
    "    train_accuracy = torch.zeros(num_epochs)\n",
    "    test_accuracy = torch.zeros(num_epochs)\n",
    "    \n",
    "    for epoch in range(num_epochs):\n",
    "        for x_batch, y_batch in train_loader:\n",
    "            # Transfer batches to Device (cpu/gpu)\n",
    "            x_batch = x_batch.to(DEVICE)\n",
    "            y_batch = y_batch.to(DEVICE)\n",
    "            \n",
    "            # Transform from (1, batch_size) to (batch_size, 1)\n",
    "            y_batch = torch.unsqueeze(y_batch, 1)\n",
    "                \n",
    "            # Realise prediction\n",
    "            prediction = model(x_batch.float())\n",
    "            # Calculating loss\n",
    "            loss = loss_fn(prediction, y_batch.float())\n",
    "            # Deleting last calculated gradient from optimizer and set it 0\n",
    "            optimizer.zero_grad()\n",
    "            # Calculating loss gradient\n",
    "            loss.backward()\n",
    "            # Realize an optimization step\n",
    "            optimizer.step()\n",
    "        \n",
    "        \n",
    "        # Check accuracy\n",
    "        with torch.no_grad(): # All calculs don't will change the current gradient\n",
    "            for loader, accuracy in [(train_loader, train_accuracy),(test_loader, test_accuracy)]:\n",
    "                correct = 0\n",
    "                total = 0\n",
    "                \n",
    "                for x_batch, y_batch in loader:\n",
    "                    # Transfer batches to Device (cpu/gpu)\n",
    "                    x_batch.to(DEVICE)\n",
    "                    y_batch.to(DEVICE).view(-1, 1)\n",
    "                    \n",
    "                    # Transform from (1, batch_size) to (batch_size, 1)\n",
    "                    y_batch = torch.unsqueeze(y_batch, 1)\n",
    "                    \n",
    "                    # Realise prediction\n",
    "                    prediction = torch.round(model(x_batch.float()))\n",
    "                    \n",
    "                    total += len(x_batch)\n",
    "                    correct += torch.sum(prediction == y_batch)\n",
    "                \n",
    "                accuracy[epoch] = correct / total\n",
    "    \n",
    "        # Print loss and accuracy at every 10 epoch\n",
    "        if((epoch + 1) % 10 == 0):\n",
    "            print(f'Epoch {epoch+1}, loss:{loss}, accuracy : {test_accuracy[epoch]}')\n",
    "    \n",
    "    \n",
    "    if print:\n",
    "        plt.figure(figsize=(10,10))\n",
    "    \n",
    "        plt.plot(train_accuracy, 'blue', label='Train Accuracy')\n",
    "        plt.plot(test_accuracy, 'green', label='Test Accuracy')\n",
    "    \n",
    "        plt.title('Accuracy during model train')\n",
    "        plt.xlabel('Epoch')\n",
    "        plt.ylabel('Accuracy')\n",
    "        plt.legend()\n",
    "    \n",
    "        plt.show()\n",
    "    \n",
    "    return train_accuracy, test_accuracy"
   ]
  },
  {
   "cell_type": "code",
   "execution_count": 6,
   "id": "f18eafa0-a308-4441-9259-3aa7d13a38c1",
   "metadata": {},
   "outputs": [
    {
     "data": {
      "text/plain": [
       "(7043, 18)"
      ]
     },
     "execution_count": 6,
     "metadata": {},
     "output_type": "execute_result"
    }
   ],
   "source": [
    "pd.read_csv('Churn.csv').shape"
   ]
  },
  {
   "cell_type": "code",
   "execution_count": 7,
   "id": "c9ca25db-c6ed-4b13-8597-2c2237cc9c0f",
   "metadata": {
    "tags": []
   },
   "outputs": [],
   "source": [
    "# Set seed\n",
    "seed = 42\n",
    "torch.manual_seed(seed)\n",
    "if torch.cuda.is_available():\n",
    "    torch.cuda.manual_seed_all(seed)\n",
    "    \n",
    "# Reading dataset\n",
    "df = DataSet('Churn.csv')\n",
    "\n",
    "#Saving nr of examples and calculating number of validation samples\n",
    "n_samples = len(df)\n",
    "n_test = int(0.2*n_samples)\n",
    "\n",
    "#Spliting into train and validation\n",
    "train_set, test_set = torch.utils.data.random_split(df,  [n_samples-n_test, n_test])\n",
    "\n",
    "\n",
    "# running train and validation sets thru dataloader that helps with parallelizing the data loading process with automatic batching\n",
    "train_loader = torch.utils.data.DataLoader(train_set, batch_size=len(train_set), shuffle=True)\n",
    "test_loader = torch.utils.data.DataLoader(test_set,batch_size=len(test_set), shuffle=True)"
   ]
  },
  {
   "cell_type": "code",
   "execution_count": 8,
   "id": "852bd0b8-83be-4515-827a-01667700c7ae",
   "metadata": {},
   "outputs": [],
   "source": [
    "lr = 1e-2\n",
    "\n",
    "model = neuralNetwork(17)\n",
    "\n",
    "loss_fn = F.mse_loss\n",
    "optimizer = optim.Adam(model.parameters(), lr)"
   ]
  },
  {
   "cell_type": "code",
   "execution_count": 9,
   "id": "dffe60a4-50be-4697-9707-83d236d1dfd2",
   "metadata": {},
   "outputs": [
    {
     "name": "stdout",
     "output_type": "stream",
     "text": [
      "Epoch 10, loss:0.1610237956047058, accuracy : 0.7599431872367859\n",
      "Epoch 20, loss:0.15429726243019104, accuracy : 0.7869318127632141\n",
      "Epoch 30, loss:0.1456371545791626, accuracy : 0.7926136255264282\n",
      "Epoch 40, loss:0.14040207862854004, accuracy : 0.7926136255264282\n",
      "Epoch 50, loss:0.13767485320568085, accuracy : 0.796875\n",
      "Epoch 60, loss:0.13577981293201447, accuracy : 0.8046875\n",
      "Epoch 70, loss:0.1346421092748642, accuracy : 0.8046875\n",
      "Epoch 80, loss:0.1338823139667511, accuracy : 0.8053977489471436\n",
      "Epoch 90, loss:0.1333317756652832, accuracy : 0.8061079382896423\n",
      "Epoch 100, loss:0.13293097913265228, accuracy : 0.8061079382896423\n"
     ]
    },
    {
     "data": {
      "image/png": "[encoded data removed]",
      "text/plain": [
       "<Figure size 720x720 with 1 Axes>"
      ]
     },
     "metadata": {
      "needs_background": "light"
     },
     "output_type": "display_data"
    }
   ],
   "source": [
    "test_accuracy = fit(100, model, optimizer, loss_fn, train_loader, test_loader)"
   ]
  }
 ],
 "metadata": {
  "kernelspec": {
   "display_name": "Python 3 (ipykernel)",
   "language": "python",
   "name": "python3"
  },
  "language_info": {
   "codemirror_mode": {
    "name": "ipython",
    "version": 3
   },
   "file_extension": ".py",
   "mimetype": "text/x-python",
   "name": "python",
   "nbconvert_exporter": "python",
   "pygments_lexer": "ipython3",
   "version": "3.7.6"
  }
 },
 "nbformat": 4,
 "nbformat_minor": 5
}
