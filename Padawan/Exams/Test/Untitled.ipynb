{
 "cells": [
  {
   "cell_type": "markdown",
   "id": "80556cd1-b7fe-45e2-8fd5-ce01c5ffbb60",
   "metadata": {},
   "source": [
    "# Examination Probe"
   ]
  },
  {
   "cell_type": "markdown",
   "id": "71770be2-22c2-4091-9db4-1b6a3c1fdfc5",
   "metadata": {},
   "source": [
    "## Cars Dataset"
   ]
  },
  {
   "cell_type": "code",
   "execution_count": 1,
   "id": "a30622b6-0936-402d-a31a-b4fddb935f67",
   "metadata": {},
   "outputs": [],
   "source": [
    "import pandas as pd\n",
    "import numpy as np\n",
    "import matplotlib.pyplot as plt\n",
    "import seaborn as sns"
   ]
  },
  {
   "cell_type": "code",
   "execution_count": 2,
   "id": "07d76c3b-ca0d-4305-852f-7096c331b008",
   "metadata": {},
   "outputs": [
    {
     "data": {
      "text/html": [
       "<div>\n",
       "<style scoped>\n",
       "    .dataframe tbody tr th:only-of-type {\n",
       "        vertical-align: middle;\n",
       "    }\n",
       "\n",
       "    .dataframe tbody tr th {\n",
       "        vertical-align: top;\n",
       "    }\n",
       "\n",
       "    .dataframe thead th {\n",
       "        text-align: right;\n",
       "    }\n",
       "</style>\n",
       "<table border=\"1\" class=\"dataframe\">\n",
       "  <thead>\n",
       "    <tr style=\"text-align: right;\">\n",
       "      <th></th>\n",
       "      <th>Brand</th>\n",
       "      <th>Type</th>\n",
       "      <th>Reg_date</th>\n",
       "      <th>Coe_left</th>\n",
       "      <th>Dep</th>\n",
       "      <th>Mileage</th>\n",
       "      <th>Road Tax</th>\n",
       "      <th>Dereg Value</th>\n",
       "      <th>COE</th>\n",
       "      <th>Engine Cap</th>\n",
       "      <th>Curb Weight</th>\n",
       "      <th>Manufactured</th>\n",
       "      <th>Transmission</th>\n",
       "      <th>OMV</th>\n",
       "      <th>ARF</th>\n",
       "      <th>Power</th>\n",
       "      <th>No. of Owners</th>\n",
       "      <th>Price</th>\n",
       "      <th>Unnamed: 18</th>\n",
       "    </tr>\n",
       "  </thead>\n",
       "  <tbody>\n",
       "    <tr>\n",
       "      <th>0</th>\n",
       "      <td>BMW 5 Series 520i Highline</td>\n",
       "      <td>Luxury Sedan</td>\n",
       "      <td>28-May-13</td>\n",
       "      <td>1yr 11mths 21days COE left)</td>\n",
       "      <td>15920</td>\n",
       "      <td>N.A</td>\n",
       "      <td>1210</td>\n",
       "      <td>38133</td>\n",
       "      <td>67304</td>\n",
       "      <td>1997</td>\n",
       "      <td>1610</td>\n",
       "      <td>2013</td>\n",
       "      <td>Auto</td>\n",
       "      <td>41566</td>\n",
       "      <td>45193</td>\n",
       "      <td>135</td>\n",
       "      <td>1</td>\n",
       "      <td>54000</td>\n",
       "      <td>NaN</td>\n",
       "    </tr>\n",
       "    <tr>\n",
       "      <th>1</th>\n",
       "      <td>Honda Vezel 1.5A X Honda Sensing</td>\n",
       "      <td>SUV</td>\n",
       "      <td>14-Oct-15</td>\n",
       "      <td>4yrs 4mths 7days COE left)</td>\n",
       "      <td>10310</td>\n",
       "      <td>50000</td>\n",
       "      <td>682</td>\n",
       "      <td>31237</td>\n",
       "      <td>56001</td>\n",
       "      <td>1496</td>\n",
       "      <td>1190</td>\n",
       "      <td>2015</td>\n",
       "      <td>Auto</td>\n",
       "      <td>19775</td>\n",
       "      <td>9775</td>\n",
       "      <td>96</td>\n",
       "      <td>2</td>\n",
       "      <td>49800</td>\n",
       "      <td>NaN</td>\n",
       "    </tr>\n",
       "    <tr>\n",
       "      <th>2</th>\n",
       "      <td>MINI One 1.6A (New 10-yr COE)</td>\n",
       "      <td>Hatchback</td>\n",
       "      <td>7-Oct-11</td>\n",
       "      <td>10yrs  COE left)</td>\n",
       "      <td>6280</td>\n",
       "      <td>110000</td>\n",
       "      <td>742</td>\n",
       "      <td>N.A</td>\n",
       "      <td>N.A</td>\n",
       "      <td>1598</td>\n",
       "      <td>1100</td>\n",
       "      <td>2011</td>\n",
       "      <td>Auto</td>\n",
       "      <td>18180</td>\n",
       "      <td>18180</td>\n",
       "      <td>72</td>\n",
       "      <td>3</td>\n",
       "      <td>62800</td>\n",
       "      <td>NaN</td>\n",
       "    </tr>\n",
       "    <tr>\n",
       "      <th>3</th>\n",
       "      <td>Hyundai Avante 1.6A (COE till 02/2029)</td>\n",
       "      <td>Mid-Sized Sedan</td>\n",
       "      <td>12-Feb-09</td>\n",
       "      <td>7yrs 8mths 5days COE left)</td>\n",
       "      <td>N.A</td>\n",
       "      <td>N.A</td>\n",
       "      <td>959</td>\n",
       "      <td>N.A</td>\n",
       "      <td>25727</td>\n",
       "      <td>1591</td>\n",
       "      <td>1264</td>\n",
       "      <td>2009</td>\n",
       "      <td>Auto</td>\n",
       "      <td>10763</td>\n",
       "      <td>10763</td>\n",
       "      <td>89</td>\n",
       "      <td>3</td>\n",
       "      <td>N.A</td>\n",
       "      <td>NaN</td>\n",
       "    </tr>\n",
       "    <tr>\n",
       "      <th>4</th>\n",
       "      <td>Suzuki Swift Sport 1.6M (COE till 12/2022)</td>\n",
       "      <td>Hatchback</td>\n",
       "      <td>28-Dec-07</td>\n",
       "      <td>1yr 6mths 21days COE left)</td>\n",
       "      <td>8210</td>\n",
       "      <td>203000</td>\n",
       "      <td>1030</td>\n",
       "      <td>6656</td>\n",
       "      <td>21349</td>\n",
       "      <td>1586</td>\n",
       "      <td>1060</td>\n",
       "      <td>2007</td>\n",
       "      <td>Manual</td>\n",
       "      <td>12154</td>\n",
       "      <td>13370</td>\n",
       "      <td>92</td>\n",
       "      <td>2</td>\n",
       "      <td>12800</td>\n",
       "      <td>NaN</td>\n",
       "    </tr>\n",
       "    <tr>\n",
       "      <th>...</th>\n",
       "      <td>...</td>\n",
       "      <td>...</td>\n",
       "      <td>...</td>\n",
       "      <td>...</td>\n",
       "      <td>...</td>\n",
       "      <td>...</td>\n",
       "      <td>...</td>\n",
       "      <td>...</td>\n",
       "      <td>...</td>\n",
       "      <td>...</td>\n",
       "      <td>...</td>\n",
       "      <td>...</td>\n",
       "      <td>...</td>\n",
       "      <td>...</td>\n",
       "      <td>...</td>\n",
       "      <td>...</td>\n",
       "      <td>...</td>\n",
       "      <td>...</td>\n",
       "      <td>...</td>\n",
       "    </tr>\n",
       "    <tr>\n",
       "      <th>4406</th>\n",
       "      <td>Mercedes-Benz C-Class C180</td>\n",
       "      <td>Luxury Sedan</td>\n",
       "      <td>20-Dec-13</td>\n",
       "      <td>2yrs 6mths 13days COE left)</td>\n",
       "      <td>15240</td>\n",
       "      <td>127000</td>\n",
       "      <td>740</td>\n",
       "      <td>35772</td>\n",
       "      <td>73989</td>\n",
       "      <td>1595</td>\n",
       "      <td>1485</td>\n",
       "      <td>2013</td>\n",
       "      <td>Auto</td>\n",
       "      <td>29525</td>\n",
       "      <td>28335</td>\n",
       "      <td>115</td>\n",
       "      <td>4</td>\n",
       "      <td>52828</td>\n",
       "      <td>NaN</td>\n",
       "    </tr>\n",
       "    <tr>\n",
       "      <th>4407</th>\n",
       "      <td>Mazda 3 1.5A Sunroof</td>\n",
       "      <td>Mid-Sized Sedan</td>\n",
       "      <td>7-Dec-17</td>\n",
       "      <td>6yrs 6mths  COE left)</td>\n",
       "      <td>9340</td>\n",
       "      <td>40200</td>\n",
       "      <td>682</td>\n",
       "      <td>35419</td>\n",
       "      <td>42801</td>\n",
       "      <td>1496</td>\n",
       "      <td>1310</td>\n",
       "      <td>2017</td>\n",
       "      <td>Auto</td>\n",
       "      <td>15108</td>\n",
       "      <td>10108</td>\n",
       "      <td>88</td>\n",
       "      <td>3</td>\n",
       "      <td>65800</td>\n",
       "      <td>NaN</td>\n",
       "    </tr>\n",
       "    <tr>\n",
       "      <th>4408</th>\n",
       "      <td>Toyota Hiace 2.5A (COE till 02/2022)</td>\n",
       "      <td>Bus/Mini Bus</td>\n",
       "      <td>8-Feb-07</td>\n",
       "      <td>8mths 1day COE left)</td>\n",
       "      <td>26410</td>\n",
       "      <td>N.A</td>\n",
       "      <td>N.A</td>\n",
       "      <td>3269</td>\n",
       "      <td>24252</td>\n",
       "      <td>2494</td>\n",
       "      <td>1800</td>\n",
       "      <td>2006</td>\n",
       "      <td>Auto</td>\n",
       "      <td>N.A</td>\n",
       "      <td>27970</td>\n",
       "      <td>6</td>\n",
       "      <td>N.A</td>\n",
       "      <td>17800</td>\n",
       "      <td>NaN</td>\n",
       "    </tr>\n",
       "    <tr>\n",
       "      <th>4409</th>\n",
       "      <td>Subaru Forester 2.0i-L Sunroof</td>\n",
       "      <td>SUV</td>\n",
       "      <td>29-Jul-15</td>\n",
       "      <td>4yrs 1mth 22days COE left)</td>\n",
       "      <td>10590</td>\n",
       "      <td>120000</td>\n",
       "      <td>1208</td>\n",
       "      <td>39265</td>\n",
       "      <td>74501</td>\n",
       "      <td>1995</td>\n",
       "      <td>1566</td>\n",
       "      <td>2015</td>\n",
       "      <td>Auto</td>\n",
       "      <td>13772</td>\n",
       "      <td>13772</td>\n",
       "      <td>110</td>\n",
       "      <td>1</td>\n",
       "      <td>50800</td>\n",
       "      <td>NaN</td>\n",
       "    </tr>\n",
       "    <tr>\n",
       "      <th>4410</th>\n",
       "      <td>Kia Cerato Forte 1.6A SX (New 5-yr COE)</td>\n",
       "      <td>Mid-Sized Sedan</td>\n",
       "      <td>25-Apr-12</td>\n",
       "      <td>5yrs  COE left)</td>\n",
       "      <td>7960</td>\n",
       "      <td>91189</td>\n",
       "      <td>738</td>\n",
       "      <td>N.A</td>\n",
       "      <td>N.A</td>\n",
       "      <td>1591</td>\n",
       "      <td>1261</td>\n",
       "      <td>2012</td>\n",
       "      <td>Auto</td>\n",
       "      <td>12994</td>\n",
       "      <td>12994</td>\n",
       "      <td>91</td>\n",
       "      <td>1</td>\n",
       "      <td>39800</td>\n",
       "      <td>NaN</td>\n",
       "    </tr>\n",
       "  </tbody>\n",
       "</table>\n",
       "<p>4411 rows × 19 columns</p>\n",
       "</div>"
      ],
      "text/plain": [
       "                                           Brand             Type   Reg_date  \\\n",
       "0                     BMW 5 Series 520i Highline     Luxury Sedan  28-May-13   \n",
       "1               Honda Vezel 1.5A X Honda Sensing              SUV  14-Oct-15   \n",
       "2                  MINI One 1.6A (New 10-yr COE)        Hatchback   7-Oct-11   \n",
       "3         Hyundai Avante 1.6A (COE till 02/2029)  Mid-Sized Sedan  12-Feb-09   \n",
       "4     Suzuki Swift Sport 1.6M (COE till 12/2022)        Hatchback  28-Dec-07   \n",
       "...                                          ...              ...        ...   \n",
       "4406                  Mercedes-Benz C-Class C180     Luxury Sedan  20-Dec-13   \n",
       "4407                        Mazda 3 1.5A Sunroof  Mid-Sized Sedan   7-Dec-17   \n",
       "4408        Toyota Hiace 2.5A (COE till 02/2022)     Bus/Mini Bus   8-Feb-07   \n",
       "4409              Subaru Forester 2.0i-L Sunroof              SUV  29-Jul-15   \n",
       "4410     Kia Cerato Forte 1.6A SX (New 5-yr COE)  Mid-Sized Sedan  25-Apr-12   \n",
       "\n",
       "                         Coe_left    Dep Mileage Road Tax Dereg Value    COE  \\\n",
       "0     1yr 11mths 21days COE left)  15920     N.A     1210       38133  67304   \n",
       "1      4yrs 4mths 7days COE left)  10310   50000      682       31237  56001   \n",
       "2                10yrs  COE left)   6280  110000      742         N.A    N.A   \n",
       "3      7yrs 8mths 5days COE left)    N.A     N.A      959         N.A  25727   \n",
       "4      1yr 6mths 21days COE left)   8210  203000     1030        6656  21349   \n",
       "...                           ...    ...     ...      ...         ...    ...   \n",
       "4406  2yrs 6mths 13days COE left)  15240  127000      740       35772  73989   \n",
       "4407        6yrs 6mths  COE left)   9340   40200      682       35419  42801   \n",
       "4408         8mths 1day COE left)  26410     N.A      N.A        3269  24252   \n",
       "4409   4yrs 1mth 22days COE left)  10590  120000     1208       39265  74501   \n",
       "4410              5yrs  COE left)   7960   91189      738         N.A    N.A   \n",
       "\n",
       "     Engine Cap Curb Weight Manufactured Transmission    OMV    ARF Power  \\\n",
       "0          1997        1610         2013         Auto  41566  45193   135   \n",
       "1          1496        1190         2015         Auto  19775   9775    96   \n",
       "2          1598        1100         2011         Auto  18180  18180    72   \n",
       "3          1591        1264         2009         Auto  10763  10763    89   \n",
       "4          1586        1060         2007       Manual  12154  13370    92   \n",
       "...         ...         ...          ...          ...    ...    ...   ...   \n",
       "4406       1595        1485         2013         Auto  29525  28335   115   \n",
       "4407       1496        1310         2017         Auto  15108  10108    88   \n",
       "4408       2494        1800         2006         Auto    N.A  27970     6   \n",
       "4409       1995        1566         2015         Auto  13772  13772   110   \n",
       "4410       1591        1261         2012         Auto  12994  12994    91   \n",
       "\n",
       "     No. of Owners  Price  Unnamed: 18  \n",
       "0                1  54000          NaN  \n",
       "1                2  49800          NaN  \n",
       "2                3  62800          NaN  \n",
       "3                3    N.A          NaN  \n",
       "4                2  12800          NaN  \n",
       "...            ...    ...          ...  \n",
       "4406             4  52828          NaN  \n",
       "4407             3  65800          NaN  \n",
       "4408           N.A  17800          NaN  \n",
       "4409             1  50800          NaN  \n",
       "4410             1  39800          NaN  \n",
       "\n",
       "[4411 rows x 19 columns]"
      ]
     },
     "execution_count": 2,
     "metadata": {},
     "output_type": "execute_result"
    }
   ],
   "source": [
    "df = pd.read_csv('data.csv')\n",
    "df"
   ]
  },
  {
   "cell_type": "code",
   "execution_count": 3,
   "id": "d2d39712-b835-4055-b658-d5f0fc32b2ac",
   "metadata": {},
   "outputs": [
    {
     "name": "stdout",
     "output_type": "stream",
     "text": [
      "<class 'pandas.core.frame.DataFrame'>\n",
      "RangeIndex: 4411 entries, 0 to 4410\n",
      "Data columns (total 19 columns):\n",
      " #   Column         Non-Null Count  Dtype  \n",
      "---  ------         --------------  -----  \n",
      " 0   Brand          4411 non-null   object \n",
      " 1   Type           4411 non-null   object \n",
      " 2   Reg_date       4411 non-null   object \n",
      " 3   Coe_left       4389 non-null   object \n",
      " 4   Dep            4411 non-null   object \n",
      " 5   Mileage        4411 non-null   object \n",
      " 6   Road Tax       4411 non-null   object \n",
      " 7   Dereg Value    4411 non-null   object \n",
      " 8   COE            4411 non-null   object \n",
      " 9   Engine Cap     4411 non-null   object \n",
      " 10  Curb Weight    4411 non-null   object \n",
      " 11  Manufactured   4411 non-null   object \n",
      " 12  Transmission   4411 non-null   object \n",
      " 13  OMV            4411 non-null   object \n",
      " 14  ARF            4411 non-null   object \n",
      " 15  Power          4411 non-null   object \n",
      " 16  No. of Owners  4411 non-null   object \n",
      " 17  Price          4411 non-null   object \n",
      " 18  Unnamed: 18    15 non-null     float64\n",
      "dtypes: float64(1), object(18)\n",
      "memory usage: 654.9+ KB\n"
     ]
    }
   ],
   "source": [
    "df.info()"
   ]
  },
  {
   "cell_type": "code",
   "execution_count": 4,
   "id": "3f5d4119-34b1-45e8-9f42-07ee3dc72de6",
   "metadata": {},
   "outputs": [
    {
     "data": {
      "text/plain": [
       "15"
      ]
     },
     "execution_count": 4,
     "metadata": {},
     "output_type": "execute_result"
    }
   ],
   "source": [
    "df.duplicated().sum()"
   ]
  },
  {
   "cell_type": "code",
   "execution_count": 5,
   "id": "a1b38513-a695-477e-8c63-c3f8785105d1",
   "metadata": {},
   "outputs": [
    {
     "data": {
      "text/html": [
       "<div>\n",
       "<style scoped>\n",
       "    .dataframe tbody tr th:only-of-type {\n",
       "        vertical-align: middle;\n",
       "    }\n",
       "\n",
       "    .dataframe tbody tr th {\n",
       "        vertical-align: top;\n",
       "    }\n",
       "\n",
       "    .dataframe thead th {\n",
       "        text-align: right;\n",
       "    }\n",
       "</style>\n",
       "<table border=\"1\" class=\"dataframe\">\n",
       "  <thead>\n",
       "    <tr style=\"text-align: right;\">\n",
       "      <th></th>\n",
       "      <th>Brand</th>\n",
       "      <th>Type</th>\n",
       "      <th>Reg_date</th>\n",
       "      <th>Coe_left</th>\n",
       "      <th>Dep</th>\n",
       "      <th>Mileage</th>\n",
       "      <th>Road Tax</th>\n",
       "      <th>Dereg Value</th>\n",
       "      <th>COE</th>\n",
       "      <th>Engine Cap</th>\n",
       "      <th>Curb Weight</th>\n",
       "      <th>Manufactured</th>\n",
       "      <th>Transmission</th>\n",
       "      <th>OMV</th>\n",
       "      <th>ARF</th>\n",
       "      <th>Power</th>\n",
       "      <th>No. of Owners</th>\n",
       "      <th>Price</th>\n",
       "      <th>Unnamed: 18</th>\n",
       "    </tr>\n",
       "  </thead>\n",
       "  <tbody>\n",
       "    <tr>\n",
       "      <th>617</th>\n",
       "      <td>Lexus IS250 (COE till 07/2022)</td>\n",
       "      <td>Luxury Sedan</td>\n",
       "      <td>24-Aug-07</td>\n",
       "      <td>1yr 1mth 25days COE left)</td>\n",
       "      <td>N.A</td>\n",
       "      <td>N.A</td>\n",
       "      <td>2520</td>\n",
       "      <td>N.A</td>\n",
       "      <td>26237</td>\n",
       "      <td>2500</td>\n",
       "      <td>1625</td>\n",
       "      <td>2007</td>\n",
       "      <td>Auto</td>\n",
       "      <td>36637</td>\n",
       "      <td>40301</td>\n",
       "      <td>153</td>\n",
       "      <td>3</td>\n",
       "      <td>N.A</td>\n",
       "      <td>NaN</td>\n",
       "    </tr>\n",
       "    <tr>\n",
       "      <th>658</th>\n",
       "      <td>Mitsubishi Attrage 1.2A</td>\n",
       "      <td>Mid-Sized Sedan</td>\n",
       "      <td>30-Jan-18</td>\n",
       "      <td>6yrs 7mths 23days COE left)</td>\n",
       "      <td>N.A</td>\n",
       "      <td>N.A</td>\n",
       "      <td>506</td>\n",
       "      <td>N.A</td>\n",
       "      <td>41617</td>\n",
       "      <td>1193</td>\n",
       "      <td>940</td>\n",
       "      <td>2017</td>\n",
       "      <td>Auto</td>\n",
       "      <td>13292</td>\n",
       "      <td>5000</td>\n",
       "      <td>59</td>\n",
       "      <td>1</td>\n",
       "      <td>N.A</td>\n",
       "      <td>NaN</td>\n",
       "    </tr>\n",
       "    <tr>\n",
       "      <th>971</th>\n",
       "      <td>Mazda RX-8 1.3M Type RS (COE till 01/2029)</td>\n",
       "      <td>Sports Car</td>\n",
       "      <td>30-Jan-09</td>\n",
       "      <td>7yrs 7mths 23days COE left)</td>\n",
       "      <td>N.A</td>\n",
       "      <td>N.A</td>\n",
       "      <td>744</td>\n",
       "      <td>N.A</td>\n",
       "      <td>26047</td>\n",
       "      <td>1308</td>\n",
       "      <td>1350</td>\n",
       "      <td>2008</td>\n",
       "      <td>Manual</td>\n",
       "      <td>34224</td>\n",
       "      <td>34224</td>\n",
       "      <td>173</td>\n",
       "      <td>2</td>\n",
       "      <td>N.A</td>\n",
       "      <td>NaN</td>\n",
       "    </tr>\n",
       "    <tr>\n",
       "      <th>1295</th>\n",
       "      <td>Porsche Panamera S 4.8A PDK (COE till 09/2030)</td>\n",
       "      <td>Sports Car</td>\n",
       "      <td>18-Jul-11</td>\n",
       "      <td>9yrs 3mths 24days COE left)</td>\n",
       "      <td>N.A</td>\n",
       "      <td>N.A</td>\n",
       "      <td>5210</td>\n",
       "      <td>N.A</td>\n",
       "      <td>34935</td>\n",
       "      <td>4806</td>\n",
       "      <td>1875</td>\n",
       "      <td>2010</td>\n",
       "      <td>Auto</td>\n",
       "      <td>133662</td>\n",
       "      <td>133662</td>\n",
       "      <td>294</td>\n",
       "      <td>4</td>\n",
       "      <td>N.A</td>\n",
       "      <td>NaN</td>\n",
       "    </tr>\n",
       "    <tr>\n",
       "      <th>1429</th>\n",
       "      <td>Audi A4 1.4A TFSI S-tronic</td>\n",
       "      <td>Luxury Sedan</td>\n",
       "      <td>27-Jul-17</td>\n",
       "      <td>6yrs 1mth 20days COE left)</td>\n",
       "      <td>N.A</td>\n",
       "      <td>N.A</td>\n",
       "      <td>624</td>\n",
       "      <td>N.A</td>\n",
       "      <td>50001</td>\n",
       "      <td>1395</td>\n",
       "      <td>1450</td>\n",
       "      <td>2017</td>\n",
       "      <td>Auto</td>\n",
       "      <td>32098</td>\n",
       "      <td>26938</td>\n",
       "      <td>110</td>\n",
       "      <td>1</td>\n",
       "      <td>N.A</td>\n",
       "      <td>NaN</td>\n",
       "    </tr>\n",
       "    <tr>\n",
       "      <th>1576</th>\n",
       "      <td>Mercedes-Benz 300SL (COE till 06/2024)</td>\n",
       "      <td>Sports Car</td>\n",
       "      <td>10-Oct-90</td>\n",
       "      <td>3yrs 24days COE left)</td>\n",
       "      <td>N.A</td>\n",
       "      <td>N.A</td>\n",
       "      <td>N.A</td>\n",
       "      <td>N.A</td>\n",
       "      <td>21504</td>\n",
       "      <td>2960</td>\n",
       "      <td>N.A</td>\n",
       "      <td>1990</td>\n",
       "      <td>Auto</td>\n",
       "      <td>99173</td>\n",
       "      <td>173553</td>\n",
       "      <td>6</td>\n",
       "      <td>N.A</td>\n",
       "      <td>N.A</td>\n",
       "      <td>NaN</td>\n",
       "    </tr>\n",
       "    <tr>\n",
       "      <th>1589</th>\n",
       "      <td>Honda Vezel 1.5A X</td>\n",
       "      <td>SUV</td>\n",
       "      <td>22-Jul-19</td>\n",
       "      <td>8yrs 1mth 15days COE left)</td>\n",
       "      <td>N.A</td>\n",
       "      <td>N.A</td>\n",
       "      <td>682</td>\n",
       "      <td>N.A</td>\n",
       "      <td>26667</td>\n",
       "      <td>1496</td>\n",
       "      <td>1190</td>\n",
       "      <td>2019</td>\n",
       "      <td>Auto</td>\n",
       "      <td>23445</td>\n",
       "      <td>14823</td>\n",
       "      <td>96</td>\n",
       "      <td>1</td>\n",
       "      <td>N.A</td>\n",
       "      <td>NaN</td>\n",
       "    </tr>\n",
       "    <tr>\n",
       "      <th>2068</th>\n",
       "      <td>Toyota Allion 1.5A (COE till 02/2028)</td>\n",
       "      <td>Mid-Sized Sedan</td>\n",
       "      <td>29-Feb-08</td>\n",
       "      <td>6yrs 8mths 23days COE left)</td>\n",
       "      <td>N.A</td>\n",
       "      <td>N.A</td>\n",
       "      <td>955</td>\n",
       "      <td>N.A</td>\n",
       "      <td>42122</td>\n",
       "      <td>1496</td>\n",
       "      <td>1200</td>\n",
       "      <td>2008</td>\n",
       "      <td>Auto</td>\n",
       "      <td>14321</td>\n",
       "      <td>15754</td>\n",
       "      <td>81</td>\n",
       "      <td>1</td>\n",
       "      <td>N.A</td>\n",
       "      <td>NaN</td>\n",
       "    </tr>\n",
       "    <tr>\n",
       "      <th>2411</th>\n",
       "      <td>BMW 5 Series 528i</td>\n",
       "      <td>Luxury Sedan</td>\n",
       "      <td>17-Sep-15</td>\n",
       "      <td>4yrs 3mths 10days COE left)</td>\n",
       "      <td>N.A</td>\n",
       "      <td>N.A</td>\n",
       "      <td>1210</td>\n",
       "      <td>N.A</td>\n",
       "      <td>61001</td>\n",
       "      <td>1997</td>\n",
       "      <td>1615</td>\n",
       "      <td>2015</td>\n",
       "      <td>Auto</td>\n",
       "      <td>47809</td>\n",
       "      <td>58933</td>\n",
       "      <td>180</td>\n",
       "      <td>2</td>\n",
       "      <td>N.A</td>\n",
       "      <td>NaN</td>\n",
       "    </tr>\n",
       "    <tr>\n",
       "      <th>2531</th>\n",
       "      <td>Mercedes-Benz S-Class S300L Sunroof</td>\n",
       "      <td>Luxury Sedan</td>\n",
       "      <td>20-Nov-12</td>\n",
       "      <td>1yr 5mths 13days COE left)</td>\n",
       "      <td>N.A</td>\n",
       "      <td>N.A</td>\n",
       "      <td>2382</td>\n",
       "      <td>N.A</td>\n",
       "      <td>89990</td>\n",
       "      <td>2997</td>\n",
       "      <td>1850</td>\n",
       "      <td>2012</td>\n",
       "      <td>Auto</td>\n",
       "      <td>83449</td>\n",
       "      <td>83449</td>\n",
       "      <td>170</td>\n",
       "      <td>2</td>\n",
       "      <td>N.A</td>\n",
       "      <td>NaN</td>\n",
       "    </tr>\n",
       "    <tr>\n",
       "      <th>3379</th>\n",
       "      <td>Mercedes-Benz M-Class ML350 4MATIC</td>\n",
       "      <td>SUV</td>\n",
       "      <td>24-Jul-12</td>\n",
       "      <td>1yr 1mth 17days COE left)</td>\n",
       "      <td>N.A</td>\n",
       "      <td>N.A</td>\n",
       "      <td>3164</td>\n",
       "      <td>N.A</td>\n",
       "      <td>85216</td>\n",
       "      <td>3498</td>\n",
       "      <td>2130</td>\n",
       "      <td>2012</td>\n",
       "      <td>Auto</td>\n",
       "      <td>66512</td>\n",
       "      <td>66512</td>\n",
       "      <td>225</td>\n",
       "      <td>2</td>\n",
       "      <td>N.A</td>\n",
       "      <td>NaN</td>\n",
       "    </tr>\n",
       "    <tr>\n",
       "      <th>3391</th>\n",
       "      <td>Alfa Romeo MiTo 1.4M (COE till 12/2029)</td>\n",
       "      <td>Hatchback</td>\n",
       "      <td>11-Jan-10</td>\n",
       "      <td>8yrs 6mths 25days COE left)</td>\n",
       "      <td>N.A</td>\n",
       "      <td>N.A</td>\n",
       "      <td>730</td>\n",
       "      <td>N.A</td>\n",
       "      <td>31976</td>\n",
       "      <td>1368</td>\n",
       "      <td>1145</td>\n",
       "      <td>2009</td>\n",
       "      <td>Manual</td>\n",
       "      <td>21495</td>\n",
       "      <td>21495</td>\n",
       "      <td>114</td>\n",
       "      <td>3</td>\n",
       "      <td>N.A</td>\n",
       "      <td>NaN</td>\n",
       "    </tr>\n",
       "    <tr>\n",
       "      <th>3618</th>\n",
       "      <td>Toyota Harrier 2.0A Elegance</td>\n",
       "      <td>SUV</td>\n",
       "      <td>7-Jan-15</td>\n",
       "      <td>3yrs 7mths  COE left)</td>\n",
       "      <td>N.A</td>\n",
       "      <td>N.A</td>\n",
       "      <td>1196</td>\n",
       "      <td>N.A</td>\n",
       "      <td>73990</td>\n",
       "      <td>1986</td>\n",
       "      <td>1610</td>\n",
       "      <td>2014</td>\n",
       "      <td>Auto</td>\n",
       "      <td>27462</td>\n",
       "      <td>20447</td>\n",
       "      <td>111</td>\n",
       "      <td>2</td>\n",
       "      <td>N.A</td>\n",
       "      <td>NaN</td>\n",
       "    </tr>\n",
       "    <tr>\n",
       "      <th>3743</th>\n",
       "      <td>BMW X3 sDrive20i</td>\n",
       "      <td>SUV</td>\n",
       "      <td>18-Dec-20</td>\n",
       "      <td>9yrs 6mths 11days COE left)</td>\n",
       "      <td>N.A</td>\n",
       "      <td>N.A</td>\n",
       "      <td>1210</td>\n",
       "      <td>N.A</td>\n",
       "      <td>45510</td>\n",
       "      <td>1998</td>\n",
       "      <td>1685</td>\n",
       "      <td>2020</td>\n",
       "      <td>Auto</td>\n",
       "      <td>44385</td>\n",
       "      <td>54139</td>\n",
       "      <td>135</td>\n",
       "      <td>1</td>\n",
       "      <td>N.A</td>\n",
       "      <td>NaN</td>\n",
       "    </tr>\n",
       "    <tr>\n",
       "      <th>4019</th>\n",
       "      <td>Toyota Hiace 2.8A DX</td>\n",
       "      <td>Van</td>\n",
       "      <td>25-Mar-21</td>\n",
       "      <td>9yrs 9mths 18days COE left)</td>\n",
       "      <td>8500</td>\n",
       "      <td>N.A</td>\n",
       "      <td>N.A</td>\n",
       "      <td>38808</td>\n",
       "      <td>39589</td>\n",
       "      <td>2754</td>\n",
       "      <td>1800</td>\n",
       "      <td>2021</td>\n",
       "      <td>Auto</td>\n",
       "      <td>N.A</td>\n",
       "      <td>35042</td>\n",
       "      <td>1753</td>\n",
       "      <td>1</td>\n",
       "      <td>83300</td>\n",
       "      <td>NaN</td>\n",
       "    </tr>\n",
       "  </tbody>\n",
       "</table>\n",
       "</div>"
      ],
      "text/plain": [
       "                                               Brand             Type  \\\n",
       "617                   Lexus IS250 (COE till 07/2022)     Luxury Sedan   \n",
       "658                          Mitsubishi Attrage 1.2A  Mid-Sized Sedan   \n",
       "971       Mazda RX-8 1.3M Type RS (COE till 01/2029)       Sports Car   \n",
       "1295  Porsche Panamera S 4.8A PDK (COE till 09/2030)       Sports Car   \n",
       "1429                      Audi A4 1.4A TFSI S-tronic     Luxury Sedan   \n",
       "1576          Mercedes-Benz 300SL (COE till 06/2024)       Sports Car   \n",
       "1589                              Honda Vezel 1.5A X              SUV   \n",
       "2068           Toyota Allion 1.5A (COE till 02/2028)  Mid-Sized Sedan   \n",
       "2411                               BMW 5 Series 528i     Luxury Sedan   \n",
       "2531             Mercedes-Benz S-Class S300L Sunroof     Luxury Sedan   \n",
       "3379              Mercedes-Benz M-Class ML350 4MATIC              SUV   \n",
       "3391         Alfa Romeo MiTo 1.4M (COE till 12/2029)        Hatchback   \n",
       "3618                    Toyota Harrier 2.0A Elegance              SUV   \n",
       "3743                                BMW X3 sDrive20i              SUV   \n",
       "4019                            Toyota Hiace 2.8A DX              Van   \n",
       "\n",
       "       Reg_date                     Coe_left   Dep Mileage Road Tax  \\\n",
       "617   24-Aug-07    1yr 1mth 25days COE left)   N.A     N.A     2520   \n",
       "658   30-Jan-18  6yrs 7mths 23days COE left)   N.A     N.A      506   \n",
       "971   30-Jan-09  7yrs 7mths 23days COE left)   N.A     N.A      744   \n",
       "1295  18-Jul-11  9yrs 3mths 24days COE left)   N.A     N.A     5210   \n",
       "1429  27-Jul-17   6yrs 1mth 20days COE left)   N.A     N.A      624   \n",
       "1576  10-Oct-90        3yrs 24days COE left)   N.A     N.A      N.A   \n",
       "1589  22-Jul-19   8yrs 1mth 15days COE left)   N.A     N.A      682   \n",
       "2068  29-Feb-08  6yrs 8mths 23days COE left)   N.A     N.A      955   \n",
       "2411  17-Sep-15  4yrs 3mths 10days COE left)   N.A     N.A     1210   \n",
       "2531  20-Nov-12   1yr 5mths 13days COE left)   N.A     N.A     2382   \n",
       "3379  24-Jul-12    1yr 1mth 17days COE left)   N.A     N.A     3164   \n",
       "3391  11-Jan-10  8yrs 6mths 25days COE left)   N.A     N.A      730   \n",
       "3618   7-Jan-15        3yrs 7mths  COE left)   N.A     N.A     1196   \n",
       "3743  18-Dec-20  9yrs 6mths 11days COE left)   N.A     N.A     1210   \n",
       "4019  25-Mar-21  9yrs 9mths 18days COE left)  8500     N.A      N.A   \n",
       "\n",
       "     Dereg Value    COE Engine Cap Curb Weight Manufactured Transmission  \\\n",
       "617          N.A  26237       2500        1625         2007         Auto   \n",
       "658          N.A  41617       1193         940         2017         Auto   \n",
       "971          N.A  26047       1308        1350         2008       Manual   \n",
       "1295         N.A  34935       4806        1875         2010         Auto   \n",
       "1429         N.A  50001       1395        1450         2017         Auto   \n",
       "1576         N.A  21504       2960         N.A         1990         Auto   \n",
       "1589         N.A  26667       1496        1190         2019         Auto   \n",
       "2068         N.A  42122       1496        1200         2008         Auto   \n",
       "2411         N.A  61001       1997        1615         2015         Auto   \n",
       "2531         N.A  89990       2997        1850         2012         Auto   \n",
       "3379         N.A  85216       3498        2130         2012         Auto   \n",
       "3391         N.A  31976       1368        1145         2009       Manual   \n",
       "3618         N.A  73990       1986        1610         2014         Auto   \n",
       "3743         N.A  45510       1998        1685         2020         Auto   \n",
       "4019       38808  39589       2754        1800         2021         Auto   \n",
       "\n",
       "         OMV     ARF Power No. of Owners  Price  Unnamed: 18  \n",
       "617    36637   40301   153             3    N.A          NaN  \n",
       "658    13292    5000    59             1    N.A          NaN  \n",
       "971    34224   34224   173             2    N.A          NaN  \n",
       "1295  133662  133662   294             4    N.A          NaN  \n",
       "1429   32098   26938   110             1    N.A          NaN  \n",
       "1576   99173  173553     6           N.A    N.A          NaN  \n",
       "1589   23445   14823    96             1    N.A          NaN  \n",
       "2068   14321   15754    81             1    N.A          NaN  \n",
       "2411   47809   58933   180             2    N.A          NaN  \n",
       "2531   83449   83449   170             2    N.A          NaN  \n",
       "3379   66512   66512   225             2    N.A          NaN  \n",
       "3391   21495   21495   114             3    N.A          NaN  \n",
       "3618   27462   20447   111             2    N.A          NaN  \n",
       "3743   44385   54139   135             1    N.A          NaN  \n",
       "4019     N.A   35042  1753             1  83300          NaN  "
      ]
     },
     "execution_count": 5,
     "metadata": {},
     "output_type": "execute_result"
    }
   ],
   "source": [
    "df[df.duplicated()]"
   ]
  },
  {
   "cell_type": "code",
   "execution_count": 6,
   "id": "67cd6a0d-5964-4c07-b049-c44ab604c269",
   "metadata": {},
   "outputs": [],
   "source": [
    "df.drop_duplicates(ignore_index=True, inplace = True)"
   ]
  },
  {
   "cell_type": "code",
   "execution_count": 7,
   "id": "38f9ccfd-4e39-4ec6-ac15-be2637641513",
   "metadata": {},
   "outputs": [
    {
     "data": {
      "text/plain": [
       "Brand               0\n",
       "Type                0\n",
       "Reg_date            0\n",
       "Coe_left           22\n",
       "Dep                 0\n",
       "Mileage             0\n",
       "Road Tax            0\n",
       "Dereg Value         0\n",
       "COE                 0\n",
       "Engine Cap          0\n",
       "Curb Weight         0\n",
       "Manufactured        0\n",
       "Transmission        0\n",
       "OMV                 0\n",
       "ARF                 0\n",
       "Power               0\n",
       "No. of Owners       0\n",
       "Price               0\n",
       "Unnamed: 18      4381\n",
       "dtype: int64"
      ]
     },
     "execution_count": 7,
     "metadata": {},
     "output_type": "execute_result"
    }
   ],
   "source": [
    "df.isnull().sum()"
   ]
  },
  {
   "cell_type": "code",
   "execution_count": 8,
   "id": "4425672b-8fab-45a6-8b2d-8a1b4f8cb062",
   "metadata": {},
   "outputs": [
    {
     "data": {
      "image/png": "[encoded data removed]",
      "text/plain": [
       "<Figure size 1440x720 with 1 Axes>"
      ]
     },
     "metadata": {
      "needs_background": "light"
     },
     "output_type": "display_data"
    }
   ],
   "source": [
    "plt.figure(figsize=(20,10))\n",
    "\n",
    "plt.bar(df.isnull().sum().index, df.isnull().sum().values)\n",
    "\n",
    "plt.show()"
   ]
  },
  {
   "cell_type": "code",
   "execution_count": 9,
   "id": "e014e02c-7c50-45c9-8b15-3e62cd4644d4",
   "metadata": {},
   "outputs": [
    {
     "data": {
      "text/html": [
       "<div>\n",
       "<style scoped>\n",
       "    .dataframe tbody tr th:only-of-type {\n",
       "        vertical-align: middle;\n",
       "    }\n",
       "\n",
       "    .dataframe tbody tr th {\n",
       "        vertical-align: top;\n",
       "    }\n",
       "\n",
       "    .dataframe thead th {\n",
       "        text-align: right;\n",
       "    }\n",
       "</style>\n",
       "<table border=\"1\" class=\"dataframe\">\n",
       "  <thead>\n",
       "    <tr style=\"text-align: right;\">\n",
       "      <th></th>\n",
       "      <th>Brand</th>\n",
       "      <th>Type</th>\n",
       "      <th>Reg_date</th>\n",
       "      <th>Coe_left</th>\n",
       "      <th>Dep</th>\n",
       "      <th>Mileage</th>\n",
       "      <th>Road Tax</th>\n",
       "      <th>Dereg Value</th>\n",
       "      <th>COE</th>\n",
       "      <th>Engine Cap</th>\n",
       "      <th>Curb Weight</th>\n",
       "      <th>Manufactured</th>\n",
       "      <th>Transmission</th>\n",
       "      <th>OMV</th>\n",
       "      <th>ARF</th>\n",
       "      <th>Power</th>\n",
       "      <th>No. of Owners</th>\n",
       "      <th>Price</th>\n",
       "      <th>Unnamed: 18</th>\n",
       "    </tr>\n",
       "  </thead>\n",
       "  <tbody>\n",
       "    <tr>\n",
       "      <th>23</th>\n",
       "      <td>MINI John Cooper Works GP 2.0A</td>\n",
       "      <td>Sports Car</td>\n",
       "      <td>4-Aug-20</td>\n",
       "      <td>9yrs 1mth 28days COE left)</td>\n",
       "      <td>N.A.</td>\n",
       "      <td>20</td>\n",
       "      <td>1210</td>\n",
       "      <td>N.A</td>\n",
       "      <td>N.A</td>\n",
       "      <td>1998</td>\n",
       "      <td>N.A</td>\n",
       "      <td>N.A</td>\n",
       "      <td>$50</td>\n",
       "      <td>403</td>\n",
       "      <td>N.A</td>\n",
       "      <td>N.A</td>\n",
       "      <td>N.A</td>\n",
       "      <td>N.A</td>\n",
       "      <td>199900.0</td>\n",
       "    </tr>\n",
       "    <tr>\n",
       "      <th>485</th>\n",
       "      <td>E-Class E200 Avantgarde</td>\n",
       "      <td>Luxury Sedan</td>\n",
       "      <td>N.A.</td>\n",
       "      <td>NaN</td>\n",
       "      <td>N.A.</td>\n",
       "      <td>16507</td>\n",
       "      <td>1202</td>\n",
       "      <td>N.A</td>\n",
       "      <td>10</td>\n",
       "      <td>1991</td>\n",
       "      <td>N.A</td>\n",
       "      <td>N.A</td>\n",
       "      <td>$27</td>\n",
       "      <td>600</td>\n",
       "      <td>N.A</td>\n",
       "      <td>N.A</td>\n",
       "      <td>N.A</td>\n",
       "      <td>N.A</td>\n",
       "      <td>195000.0</td>\n",
       "    </tr>\n",
       "    <tr>\n",
       "      <th>605</th>\n",
       "      <td>GLB-Class GLB250 AMG Line</td>\n",
       "      <td>SUV</td>\n",
       "      <td>N.A.</td>\n",
       "      <td>NaN</td>\n",
       "      <td>N.A.</td>\n",
       "      <td>23</td>\n",
       "      <td>1202</td>\n",
       "      <td>N.A</td>\n",
       "      <td>10</td>\n",
       "      <td>1991</td>\n",
       "      <td>N.A</td>\n",
       "      <td>N.A</td>\n",
       "      <td>$40</td>\n",
       "      <td>0</td>\n",
       "      <td>N.A</td>\n",
       "      <td>N.A</td>\n",
       "      <td>N.A</td>\n",
       "      <td>N.A</td>\n",
       "      <td>225800.0</td>\n",
       "    </tr>\n",
       "    <tr>\n",
       "      <th>925</th>\n",
       "      <td>Phantom</td>\n",
       "      <td>Luxury Sedan</td>\n",
       "      <td>N.A.</td>\n",
       "      <td>NaN</td>\n",
       "      <td>N.A.</td>\n",
       "      <td>50</td>\n",
       "      <td>8250</td>\n",
       "      <td>N.A</td>\n",
       "      <td>10</td>\n",
       "      <td>6749</td>\n",
       "      <td>N.A</td>\n",
       "      <td>N.A</td>\n",
       "      <td>$370</td>\n",
       "      <td>439</td>\n",
       "      <td>1</td>\n",
       "      <td>N.A</td>\n",
       "      <td>N.A</td>\n",
       "      <td>N.A</td>\n",
       "      <td>1690000.0</td>\n",
       "    </tr>\n",
       "    <tr>\n",
       "      <th>1031</th>\n",
       "      <td>S-Class S560 Coupe AMG Line</td>\n",
       "      <td>Sports Car</td>\n",
       "      <td>N.A.</td>\n",
       "      <td>NaN</td>\n",
       "      <td>N.A.</td>\n",
       "      <td>N.A</td>\n",
       "      <td>3922</td>\n",
       "      <td>N.A</td>\n",
       "      <td>10</td>\n",
       "      <td>3982</td>\n",
       "      <td>N.A</td>\n",
       "      <td>N.A</td>\n",
       "      <td>$143</td>\n",
       "      <td>0</td>\n",
       "      <td>N.A</td>\n",
       "      <td>N.A</td>\n",
       "      <td>N.A</td>\n",
       "      <td>N.A</td>\n",
       "      <td>518800.0</td>\n",
       "    </tr>\n",
       "    <tr>\n",
       "      <th>1041</th>\n",
       "      <td>Alphard 2.5A SC Moonroof</td>\n",
       "      <td>MPV</td>\n",
       "      <td>N.A.</td>\n",
       "      <td>NaN</td>\n",
       "      <td>N.A.</td>\n",
       "      <td>50</td>\n",
       "      <td>1792</td>\n",
       "      <td>N.A</td>\n",
       "      <td>10</td>\n",
       "      <td>2493</td>\n",
       "      <td>N.A</td>\n",
       "      <td>N.A</td>\n",
       "      <td>$49</td>\n",
       "      <td>428</td>\n",
       "      <td>1</td>\n",
       "      <td>N.A</td>\n",
       "      <td>N.A</td>\n",
       "      <td>N.A</td>\n",
       "      <td>240888.0</td>\n",
       "    </tr>\n",
       "    <tr>\n",
       "      <th>1049</th>\n",
       "      <td>Cullinan 6.75A</td>\n",
       "      <td>SUV</td>\n",
       "      <td>N.A.</td>\n",
       "      <td>NaN</td>\n",
       "      <td>N.A.</td>\n",
       "      <td>N.A</td>\n",
       "      <td>8250</td>\n",
       "      <td>N.A</td>\n",
       "      <td>10</td>\n",
       "      <td>6749</td>\n",
       "      <td>N.A</td>\n",
       "      <td>N.A</td>\n",
       "      <td>$200</td>\n",
       "      <td>0</td>\n",
       "      <td>N.A</td>\n",
       "      <td>N.A</td>\n",
       "      <td>N.A</td>\n",
       "      <td>N.A</td>\n",
       "      <td>1580000.0</td>\n",
       "    </tr>\n",
       "    <tr>\n",
       "      <th>1233</th>\n",
       "      <td>4 Series 420i Gran Coupe M-Sport</td>\n",
       "      <td>Luxury Sedan</td>\n",
       "      <td>N.A.</td>\n",
       "      <td>NaN</td>\n",
       "      <td>N.A.</td>\n",
       "      <td>N.A</td>\n",
       "      <td>1210</td>\n",
       "      <td>N.A</td>\n",
       "      <td>10</td>\n",
       "      <td>1998</td>\n",
       "      <td>N.A</td>\n",
       "      <td>N.A</td>\n",
       "      <td>$20</td>\n",
       "      <td>0</td>\n",
       "      <td>N.A</td>\n",
       "      <td>N.A</td>\n",
       "      <td>N.A</td>\n",
       "      <td>N.A</td>\n",
       "      <td>155800.0</td>\n",
       "    </tr>\n",
       "    <tr>\n",
       "      <th>1345</th>\n",
       "      <td>3 Series 330i M-Sport</td>\n",
       "      <td>Luxury Sedan</td>\n",
       "      <td>N.A.</td>\n",
       "      <td>NaN</td>\n",
       "      <td>N.A.</td>\n",
       "      <td>4170</td>\n",
       "      <td>1210</td>\n",
       "      <td>N.A</td>\n",
       "      <td>10</td>\n",
       "      <td>1998</td>\n",
       "      <td>N.A</td>\n",
       "      <td>N.A</td>\n",
       "      <td>$34</td>\n",
       "      <td>0</td>\n",
       "      <td>190</td>\n",
       "      <td>N.A</td>\n",
       "      <td>N.A</td>\n",
       "      <td>N.A</td>\n",
       "      <td>206800.0</td>\n",
       "    </tr>\n",
       "    <tr>\n",
       "      <th>1560</th>\n",
       "      <td>M Series M4 Convertible Competition Package</td>\n",
       "      <td>Sports Car</td>\n",
       "      <td>N.A.</td>\n",
       "      <td>NaN</td>\n",
       "      <td>N.A.</td>\n",
       "      <td>N.A</td>\n",
       "      <td>2362</td>\n",
       "      <td>N.A</td>\n",
       "      <td>10</td>\n",
       "      <td>2979</td>\n",
       "      <td>N.A</td>\n",
       "      <td>N.A</td>\n",
       "      <td>$43</td>\n",
       "      <td>0</td>\n",
       "      <td>331</td>\n",
       "      <td>N.A</td>\n",
       "      <td>N.A</td>\n",
       "      <td>N.A</td>\n",
       "      <td>298888.0</td>\n",
       "    </tr>\n",
       "    <tr>\n",
       "      <th>2475</th>\n",
       "      <td>6 Series 630i Gran Turismo M-Sport</td>\n",
       "      <td>Luxury Sedan</td>\n",
       "      <td>N.A.</td>\n",
       "      <td>NaN</td>\n",
       "      <td>N.A.</td>\n",
       "      <td>54000</td>\n",
       "      <td>1210</td>\n",
       "      <td>N.A</td>\n",
       "      <td>10</td>\n",
       "      <td>1998</td>\n",
       "      <td>N.A</td>\n",
       "      <td>N.A</td>\n",
       "      <td>$32</td>\n",
       "      <td>814</td>\n",
       "      <td>1</td>\n",
       "      <td>N.A</td>\n",
       "      <td>N.A</td>\n",
       "      <td>N.A</td>\n",
       "      <td>188800.0</td>\n",
       "    </tr>\n",
       "    <tr>\n",
       "      <th>2986</th>\n",
       "      <td>5 Series 520i Mild Hybrid SE</td>\n",
       "      <td>Luxury Sedan</td>\n",
       "      <td>N.A.</td>\n",
       "      <td>NaN</td>\n",
       "      <td>N.A.</td>\n",
       "      <td>200</td>\n",
       "      <td>1210</td>\n",
       "      <td>N.A</td>\n",
       "      <td>10</td>\n",
       "      <td>1998</td>\n",
       "      <td>N.A</td>\n",
       "      <td>N.A</td>\n",
       "      <td>$55</td>\n",
       "      <td>178</td>\n",
       "      <td>N.A</td>\n",
       "      <td>N.A</td>\n",
       "      <td>N.A</td>\n",
       "      <td>N.A</td>\n",
       "      <td>218888.0</td>\n",
       "    </tr>\n",
       "    <tr>\n",
       "      <th>3146</th>\n",
       "      <td>Civic Type R 2.0M VTEC Turbo</td>\n",
       "      <td>Sports Car</td>\n",
       "      <td>N.A.</td>\n",
       "      <td>NaN</td>\n",
       "      <td>N.A.</td>\n",
       "      <td>16134</td>\n",
       "      <td>1208</td>\n",
       "      <td>N.A</td>\n",
       "      <td>10</td>\n",
       "      <td>1996</td>\n",
       "      <td>N.A</td>\n",
       "      <td>N.A</td>\n",
       "      <td>$28</td>\n",
       "      <td>895</td>\n",
       "      <td>N.A</td>\n",
       "      <td>N.A</td>\n",
       "      <td>N.A</td>\n",
       "      <td>N.A</td>\n",
       "      <td>197777.0</td>\n",
       "    </tr>\n",
       "    <tr>\n",
       "      <th>3783</th>\n",
       "      <td>A5 Cabriolet 2.0A TFSI S-tronic Design</td>\n",
       "      <td>Sports Car</td>\n",
       "      <td>N.A.</td>\n",
       "      <td>NaN</td>\n",
       "      <td>N.A.</td>\n",
       "      <td>8800</td>\n",
       "      <td>1194</td>\n",
       "      <td>N.A</td>\n",
       "      <td>10</td>\n",
       "      <td>1984</td>\n",
       "      <td>1705</td>\n",
       "      <td>N.A</td>\n",
       "      <td>$27</td>\n",
       "      <td>565</td>\n",
       "      <td>N.A</td>\n",
       "      <td>N.A</td>\n",
       "      <td>N.A</td>\n",
       "      <td>N.A</td>\n",
       "      <td>188000.0</td>\n",
       "    </tr>\n",
       "    <tr>\n",
       "      <th>3968</th>\n",
       "      <td>Vezel 1.5A G</td>\n",
       "      <td>SUV</td>\n",
       "      <td>N.A.</td>\n",
       "      <td>NaN</td>\n",
       "      <td>N.A.</td>\n",
       "      <td>50</td>\n",
       "      <td>682</td>\n",
       "      <td>N.A</td>\n",
       "      <td>10</td>\n",
       "      <td>1496</td>\n",
       "      <td>N.A</td>\n",
       "      <td>N.A</td>\n",
       "      <td>$22</td>\n",
       "      <td>0</td>\n",
       "      <td>N.A</td>\n",
       "      <td>N.A</td>\n",
       "      <td>N.A</td>\n",
       "      <td>N.A</td>\n",
       "      <td>105988.0</td>\n",
       "    </tr>\n",
       "  </tbody>\n",
       "</table>\n",
       "</div>"
      ],
      "text/plain": [
       "                                            Brand          Type  Reg_date  \\\n",
       "23                 MINI John Cooper Works GP 2.0A    Sports Car  4-Aug-20   \n",
       "485                       E-Class E200 Avantgarde  Luxury Sedan      N.A.   \n",
       "605                     GLB-Class GLB250 AMG Line           SUV      N.A.   \n",
       "925                                       Phantom  Luxury Sedan      N.A.   \n",
       "1031                  S-Class S560 Coupe AMG Line    Sports Car      N.A.   \n",
       "1041                     Alphard 2.5A SC Moonroof           MPV      N.A.   \n",
       "1049                               Cullinan 6.75A           SUV      N.A.   \n",
       "1233             4 Series 420i Gran Coupe M-Sport  Luxury Sedan      N.A.   \n",
       "1345                        3 Series 330i M-Sport  Luxury Sedan      N.A.   \n",
       "1560  M Series M4 Convertible Competition Package    Sports Car      N.A.   \n",
       "2475           6 Series 630i Gran Turismo M-Sport  Luxury Sedan      N.A.   \n",
       "2986                 5 Series 520i Mild Hybrid SE  Luxury Sedan      N.A.   \n",
       "3146                 Civic Type R 2.0M VTEC Turbo    Sports Car      N.A.   \n",
       "3783       A5 Cabriolet 2.0A TFSI S-tronic Design    Sports Car      N.A.   \n",
       "3968                                 Vezel 1.5A G           SUV      N.A.   \n",
       "\n",
       "                        Coe_left   Dep Mileage Road Tax Dereg Value  COE  \\\n",
       "23    9yrs 1mth 28days COE left)  N.A.      20     1210         N.A  N.A   \n",
       "485                          NaN  N.A.   16507     1202         N.A   10   \n",
       "605                          NaN  N.A.      23     1202         N.A   10   \n",
       "925                          NaN  N.A.      50     8250         N.A   10   \n",
       "1031                         NaN  N.A.     N.A     3922         N.A   10   \n",
       "1041                         NaN  N.A.      50     1792         N.A   10   \n",
       "1049                         NaN  N.A.     N.A     8250         N.A   10   \n",
       "1233                         NaN  N.A.     N.A     1210         N.A   10   \n",
       "1345                         NaN  N.A.    4170     1210         N.A   10   \n",
       "1560                         NaN  N.A.     N.A     2362         N.A   10   \n",
       "2475                         NaN  N.A.   54000     1210         N.A   10   \n",
       "2986                         NaN  N.A.     200     1210         N.A   10   \n",
       "3146                         NaN  N.A.   16134     1208         N.A   10   \n",
       "3783                         NaN  N.A.    8800     1194         N.A   10   \n",
       "3968                         NaN  N.A.      50      682         N.A   10   \n",
       "\n",
       "     Engine Cap Curb Weight Manufactured Transmission  OMV  ARF Power  \\\n",
       "23         1998         N.A          N.A          $50  403  N.A   N.A   \n",
       "485        1991         N.A          N.A          $27  600  N.A   N.A   \n",
       "605        1991         N.A          N.A          $40    0  N.A   N.A   \n",
       "925        6749         N.A          N.A         $370  439    1   N.A   \n",
       "1031       3982         N.A          N.A         $143    0  N.A   N.A   \n",
       "1041       2493         N.A          N.A          $49  428    1   N.A   \n",
       "1049       6749         N.A          N.A         $200    0  N.A   N.A   \n",
       "1233       1998         N.A          N.A          $20    0  N.A   N.A   \n",
       "1345       1998         N.A          N.A          $34    0  190   N.A   \n",
       "1560       2979         N.A          N.A          $43    0  331   N.A   \n",
       "2475       1998         N.A          N.A          $32  814    1   N.A   \n",
       "2986       1998         N.A          N.A          $55  178  N.A   N.A   \n",
       "3146       1996         N.A          N.A          $28  895  N.A   N.A   \n",
       "3783       1984        1705          N.A          $27  565  N.A   N.A   \n",
       "3968       1496         N.A          N.A          $22    0  N.A   N.A   \n",
       "\n",
       "     No. of Owners Price  Unnamed: 18  \n",
       "23             N.A   N.A     199900.0  \n",
       "485            N.A   N.A     195000.0  \n",
       "605            N.A   N.A     225800.0  \n",
       "925            N.A   N.A    1690000.0  \n",
       "1031           N.A   N.A     518800.0  \n",
       "1041           N.A   N.A     240888.0  \n",
       "1049           N.A   N.A    1580000.0  \n",
       "1233           N.A   N.A     155800.0  \n",
       "1345           N.A   N.A     206800.0  \n",
       "1560           N.A   N.A     298888.0  \n",
       "2475           N.A   N.A     188800.0  \n",
       "2986           N.A   N.A     218888.0  \n",
       "3146           N.A   N.A     197777.0  \n",
       "3783           N.A   N.A     188000.0  \n",
       "3968           N.A   N.A     105988.0  "
      ]
     },
     "execution_count": 9,
     "metadata": {},
     "output_type": "execute_result"
    }
   ],
   "source": [
    "df[df['Unnamed: 18'].notna()]"
   ]
  },
  {
   "cell_type": "code",
   "execution_count": 10,
   "id": "a4064e7d-6939-4d75-b647-f4613ac00ae9",
   "metadata": {},
   "outputs": [],
   "source": [
    "df.drop(columns=['Unnamed: 18'], inplace=True)"
   ]
  },
  {
   "cell_type": "code",
   "execution_count": 11,
   "id": "4a8de930-717e-4f70-ab3c-260fbbf55353",
   "metadata": {},
   "outputs": [
    {
     "data": {
      "text/html": [
       "<div>\n",
       "<style scoped>\n",
       "    .dataframe tbody tr th:only-of-type {\n",
       "        vertical-align: middle;\n",
       "    }\n",
       "\n",
       "    .dataframe tbody tr th {\n",
       "        vertical-align: top;\n",
       "    }\n",
       "\n",
       "    .dataframe thead th {\n",
       "        text-align: right;\n",
       "    }\n",
       "</style>\n",
       "<table border=\"1\" class=\"dataframe\">\n",
       "  <thead>\n",
       "    <tr style=\"text-align: right;\">\n",
       "      <th></th>\n",
       "      <th>Brand</th>\n",
       "      <th>Type</th>\n",
       "      <th>Reg_date</th>\n",
       "      <th>Coe_left</th>\n",
       "      <th>Dep</th>\n",
       "      <th>Mileage</th>\n",
       "      <th>Road Tax</th>\n",
       "      <th>Dereg Value</th>\n",
       "      <th>COE</th>\n",
       "      <th>Engine Cap</th>\n",
       "      <th>Curb Weight</th>\n",
       "      <th>Manufactured</th>\n",
       "      <th>Transmission</th>\n",
       "      <th>OMV</th>\n",
       "      <th>ARF</th>\n",
       "      <th>Power</th>\n",
       "      <th>No. of Owners</th>\n",
       "      <th>Price</th>\n",
       "    </tr>\n",
       "  </thead>\n",
       "  <tbody>\n",
       "    <tr>\n",
       "      <th>count</th>\n",
       "      <td>4396</td>\n",
       "      <td>4396</td>\n",
       "      <td>4396</td>\n",
       "      <td>4374</td>\n",
       "      <td>4396</td>\n",
       "      <td>4396</td>\n",
       "      <td>4396</td>\n",
       "      <td>4396</td>\n",
       "      <td>4396</td>\n",
       "      <td>4396</td>\n",
       "      <td>4396</td>\n",
       "      <td>4396</td>\n",
       "      <td>4396</td>\n",
       "      <td>4396</td>\n",
       "      <td>4396</td>\n",
       "      <td>4396</td>\n",
       "      <td>4396</td>\n",
       "      <td>4396</td>\n",
       "    </tr>\n",
       "    <tr>\n",
       "      <th>unique</th>\n",
       "      <td>2159</td>\n",
       "      <td>11</td>\n",
       "      <td>2347</td>\n",
       "      <td>1878</td>\n",
       "      <td>1489</td>\n",
       "      <td>1318</td>\n",
       "      <td>311</td>\n",
       "      <td>3047</td>\n",
       "      <td>1091</td>\n",
       "      <td>203</td>\n",
       "      <td>449</td>\n",
       "      <td>34</td>\n",
       "      <td>18</td>\n",
       "      <td>3116</td>\n",
       "      <td>3380</td>\n",
       "      <td>473</td>\n",
       "      <td>7</td>\n",
       "      <td>1105</td>\n",
       "    </tr>\n",
       "    <tr>\n",
       "      <th>top</th>\n",
       "      <td>Honda Vezel 1.5A X</td>\n",
       "      <td>Luxury Sedan</td>\n",
       "      <td>N.A.</td>\n",
       "      <td>10yrs  COE left)</td>\n",
       "      <td>N.A</td>\n",
       "      <td>N.A</td>\n",
       "      <td>N.A</td>\n",
       "      <td>N.A</td>\n",
       "      <td>N.A</td>\n",
       "      <td>1998</td>\n",
       "      <td>1800</td>\n",
       "      <td>2016</td>\n",
       "      <td>Auto</td>\n",
       "      <td>N.A</td>\n",
       "      <td>5000</td>\n",
       "      <td>90</td>\n",
       "      <td>1</td>\n",
       "      <td>N.A</td>\n",
       "    </tr>\n",
       "    <tr>\n",
       "      <th>freq</th>\n",
       "      <td>57</td>\n",
       "      <td>881</td>\n",
       "      <td>20</td>\n",
       "      <td>169</td>\n",
       "      <td>694</td>\n",
       "      <td>1545</td>\n",
       "      <td>426</td>\n",
       "      <td>951</td>\n",
       "      <td>259</td>\n",
       "      <td>307</td>\n",
       "      <td>90</td>\n",
       "      <td>570</td>\n",
       "      <td>4036</td>\n",
       "      <td>417</td>\n",
       "      <td>84</td>\n",
       "      <td>247</td>\n",
       "      <td>2052</td>\n",
       "      <td>721</td>\n",
       "    </tr>\n",
       "  </tbody>\n",
       "</table>\n",
       "</div>"
      ],
      "text/plain": [
       "                     Brand          Type Reg_date          Coe_left   Dep  \\\n",
       "count                 4396          4396     4396              4374  4396   \n",
       "unique                2159            11     2347              1878  1489   \n",
       "top     Honda Vezel 1.5A X  Luxury Sedan     N.A.  10yrs  COE left)   N.A   \n",
       "freq                    57           881       20               169   694   \n",
       "\n",
       "       Mileage Road Tax Dereg Value   COE Engine Cap Curb Weight Manufactured  \\\n",
       "count     4396     4396        4396  4396       4396        4396         4396   \n",
       "unique    1318      311        3047  1091        203         449           34   \n",
       "top        N.A      N.A         N.A   N.A       1998        1800         2016   \n",
       "freq      1545      426         951   259        307          90          570   \n",
       "\n",
       "       Transmission   OMV   ARF Power No. of Owners Price  \n",
       "count          4396  4396  4396  4396          4396  4396  \n",
       "unique           18  3116  3380   473             7  1105  \n",
       "top            Auto   N.A  5000    90             1   N.A  \n",
       "freq           4036   417    84   247          2052   721  "
      ]
     },
     "execution_count": 11,
     "metadata": {},
     "output_type": "execute_result"
    }
   ],
   "source": [
    "df.describe()"
   ]
  },
  {
   "cell_type": "markdown",
   "id": "2075e595-43b6-4634-bdec-9babeb7ec664",
   "metadata": {},
   "source": [
    "<br><br>\n",
    "\n",
    "## Data analysis"
   ]
  },
  {
   "cell_type": "markdown",
   "id": "9c3ccce8-e4e5-4fd5-8d58-dc6f03caa39a",
   "metadata": {},
   "source": [
    "### Brand"
   ]
  },
  {
   "cell_type": "code",
   "execution_count": 14,
   "id": "bd5b77b1-0118-42f5-a0c1-ccb429fd27b3",
   "metadata": {},
   "outputs": [
    {
     "data": {
      "text/plain": [
       "0                    BMW 5 Series 520i Highline\n",
       "1              Honda Vezel 1.5A X Honda Sensing\n",
       "2                 MINI One 1.6A (New 10-yr COE)\n",
       "3        Hyundai Avante 1.6A (COE till 02/2029)\n",
       "4    Suzuki Swift Sport 1.6M (COE till 12/2022)\n",
       "Name: Brand, dtype: object"
      ]
     },
     "execution_count": 14,
     "metadata": {},
     "output_type": "execute_result"
    }
   ],
   "source": [
    "df.Brand.head()"
   ]
  },
  {
   "cell_type": "code",
   "execution_count": 12,
   "id": "7ed69991-38a7-4707-b0e6-9b7daccc21a9",
   "metadata": {},
   "outputs": [
    {
     "data": {
      "text/plain": [
       "Honda Vezel 1.5A X                             57\n",
       "Mercedes-Benz C-Class C180 Avantgarde          55\n",
       "Nissan NV200 1.6A DX                           35\n",
       "Honda Civic 1.6A VTi                           33\n",
       "Toyota Corolla Altis 1.6A Elegance             31\n",
       "                                               ..\n",
       "Toyota Fortuner 2.7A                            1\n",
       "Toyota Vios 1.5A J (COE till 05/2022)           1\n",
       "Suzuki Swift Sport 1.6M (COE till 05/2021)      1\n",
       "Honda Accord Euro R 2.0M (COE till 09/2027)     1\n",
       "Toyota Hiace 2.5A (COE till 02/2022)            1\n",
       "Name: Brand, Length: 2159, dtype: int64"
      ]
     },
     "execution_count": 12,
     "metadata": {},
     "output_type": "execute_result"
    }
   ],
   "source": [
    "df.Brand.value_counts()"
   ]
  },
  {
   "cell_type": "code",
   "execution_count": 18,
   "id": "e3fc746d-9ca2-49e2-bfe0-20adcaef029c",
   "metadata": {},
   "outputs": [
    {
     "data": {
      "text/plain": [
       "array(['BMW 5 Series 520i Highline', 'Honda Vezel 1.5A X Honda Sensing',\n",
       "       'MINI One 1.6A (New 10-yr COE)', ...,\n",
       "       'Kia Cerato Forte Koup 1.6A SX Sunroof (COE till 06/2025)',\n",
       "       'Subaru Forester 2.0X (COE till 12/2024)',\n",
       "       'Toyota Hiace 2.5A (COE till 02/2022)'], dtype=object)"
      ]
     },
     "execution_count": 18,
     "metadata": {},
     "output_type": "execute_result"
    }
   ],
   "source": [
    "df.Brand.unique()"
   ]
  },
  {
   "cell_type": "code",
   "execution_count": 40,
   "id": "e7525335-705c-4694-b670-0fb673597987",
   "metadata": {},
   "outputs": [
    {
     "data": {
      "text/plain": [
       "0                 BMW\n",
       "1               Honda\n",
       "2                MINI\n",
       "3             Hyundai\n",
       "4              Suzuki\n",
       "            ...      \n",
       "4391    Mercedes-Benz\n",
       "4392            Mazda\n",
       "4393           Toyota\n",
       "4394           Subaru\n",
       "4395              Kia\n",
       "Name: Mark, Length: 4396, dtype: object"
      ]
     },
     "execution_count": 40,
     "metadata": {},
     "output_type": "execute_result"
    }
   ],
   "source": [
    "df['Mark'] = df.Brand.apply(lambda x : x.split(sep=' ')[0])\n",
    "df['Mark']"
   ]
  },
  {
   "cell_type": "code",
   "execution_count": 44,
   "id": "c5c05194-d144-41a9-9e6c-cd1271926501",
   "metadata": {},
   "outputs": [
    {
     "data": {
      "text/plain": [
       "Toyota           0.170610\n",
       "Mercedes-Benz    0.144222\n",
       "Honda            0.127616\n",
       "BMW              0.092357\n",
       "Nissan           0.066197\n",
       "                   ...   \n",
       "Phantom          0.000227\n",
       "C-Class          0.000227\n",
       "Lotus            0.000227\n",
       "GLB-Class        0.000227\n",
       "Vezel            0.000227\n",
       "Name: Mark, Length: 69, dtype: float64"
      ]
     },
     "execution_count": 44,
     "metadata": {},
     "output_type": "execute_result"
    }
   ],
   "source": [
    "freq = df['Mark'].value_counts()/len(df['Mark'])\n",
    "freq"
   ]
  },
  {
   "cell_type": "code",
   "execution_count": 46,
   "id": "fb4612b7-5a1c-4599-9352-379ec8614d0d",
   "metadata": {},
   "outputs": [
    {
     "data": {
      "image/png": "[encoded data removed]",
      "text/plain": [
       "<Figure size 1440x720 with 1 Axes>"
      ]
     },
     "metadata": {
      "needs_background": "light"
     },
     "output_type": "display_data"
    }
   ],
   "source": [
    "plt.figure(figsize=(20,10))\n",
    "\n",
    "freq[freq >= 5/len(df)].plot(kind='bar')\n",
    "\n",
    "plt.show()"
   ]
  },
  {
   "cell_type": "code",
   "execution_count": 47,
   "id": "1fee1a97-609d-4cc5-bb49-2f40ccfb5109",
   "metadata": {},
   "outputs": [],
   "source": [
    "df['Mark'] = df['Mark'].apply(lambda x : freq.loc[x])"
   ]
  },
  {
   "cell_type": "code",
   "execution_count": 48,
   "id": "24e65b89-9d84-4bd3-90b0-e9d72d7def1c",
   "metadata": {},
   "outputs": [
    {
     "data": {
      "text/plain": [
       "count    4396.000000\n",
       "mean        0.090491\n",
       "std         0.058005\n",
       "min         0.000227\n",
       "25%         0.040036\n",
       "50%         0.092357\n",
       "75%         0.144222\n",
       "max         0.170610\n",
       "Name: Mark, dtype: float64"
      ]
     },
     "execution_count": 48,
     "metadata": {},
     "output_type": "execute_result"
    }
   ],
   "source": [
    "df.Mark.describe()"
   ]
  },
  {
   "cell_type": "code",
   "execution_count": 52,
   "id": "8b1aa37d-6a11-4b34-9da1-14394c7e034f",
   "metadata": {},
   "outputs": [],
   "source": [
    "df.drop(columns=['Brand'], inplace = True)"
   ]
  },
  {
   "cell_type": "markdown",
   "id": "afd8eb5f-a079-4ca7-83cd-3699e98ebebe",
   "metadata": {},
   "source": [
    "<br><br>\n",
    "\n",
    "### Type"
   ]
  },
  {
   "cell_type": "code",
   "execution_count": 54,
   "id": "b0141368-fd1c-4dfe-ba80-bae6cbbd8b05",
   "metadata": {},
   "outputs": [
    {
     "data": {
      "text/plain": [
       "0       Luxury Sedan\n",
       "1                SUV\n",
       "2          Hatchback\n",
       "3    Mid-Sized Sedan\n",
       "4          Hatchback\n",
       "Name: Type, dtype: object"
      ]
     },
     "execution_count": 54,
     "metadata": {},
     "output_type": "execute_result"
    }
   ],
   "source": [
    "df.Type.head()"
   ]
  },
  {
   "cell_type": "code",
   "execution_count": 55,
   "id": "dbd99588-6941-42a8-a259-f57dd4b7306e",
   "metadata": {},
   "outputs": [
    {
     "data": {
      "text/plain": [
       "Luxury Sedan       881\n",
       "Mid-Sized Sedan    856\n",
       "SUV                785\n",
       "Hatchback          465\n",
       "Sports Car         459\n",
       "MPV                447\n",
       "Van                232\n",
       "Truck              148\n",
       "Stationwagon        90\n",
       "Bus/Mini Bus        31\n",
       "Others               2\n",
       "Name: Type, dtype: int64"
      ]
     },
     "execution_count": 55,
     "metadata": {},
     "output_type": "execute_result"
    }
   ],
   "source": [
    "df.Type.value_counts()"
   ]
  },
  {
   "cell_type": "code",
   "execution_count": 56,
   "id": "3905fc75-daae-48bc-b175-bb6832fcb2a7",
   "metadata": {},
   "outputs": [
    {
     "data": {
      "text/plain": [
       "0"
      ]
     },
     "execution_count": 56,
     "metadata": {},
     "output_type": "execute_result"
    }
   ],
   "source": [
    "df.Type.isnull().sum()"
   ]
  },
  {
   "cell_type": "code",
   "execution_count": 57,
   "id": "f3dee53c-fd07-4e74-955e-e472e7079e05",
   "metadata": {},
   "outputs": [
    {
     "data": {
      "image/png": "[encoded data removed]",
      "text/plain": [
       "<Figure size 1440x720 with 1 Axes>"
      ]
     },
     "metadata": {
      "needs_background": "light"
     },
     "output_type": "display_data"
    }
   ],
   "source": [
    "plt.figure(figsize=(20,10))\n",
    "df.Type.value_counts().plot(kind='bar')\n",
    "plt.show()"
   ]
  },
  {
   "cell_type": "code",
   "execution_count": 72,
   "id": "3c4241c7-3fb7-4574-aa57-fe8ce6c22b46",
   "metadata": {},
   "outputs": [
    {
     "data": {
      "image/png": "[encoded data removed]",
      "text/plain": [
       "<Figure size 1440x720 with 1 Axes>"
      ]
     },
     "metadata": {},
     "output_type": "display_data"
    }
   ],
   "source": [
    "plt.figure(figsize=(20,10))\n",
    "plt.pie(df.Type.value_counts(), labels=df.Type.value_counts().index, autopct='%1f')\n",
    "plt.show()"
   ]
  },
  {
   "cell_type": "code",
   "execution_count": 73,
   "id": "dda38be8-3b43-4680-95dc-1eb0ebce65c3",
   "metadata": {},
   "outputs": [],
   "source": [
    "from sklearn.preprocessing import LabelEncoder\n",
    "\n",
    "type_encoder = LabelEncoder()"
   ]
  },
  {
   "cell_type": "code",
   "execution_count": 76,
   "id": "466e5818-db2a-459a-b09b-60970d42c7ce",
   "metadata": {},
   "outputs": [
    {
     "data": {
      "text/plain": [
       "2     881\n",
       "4     856\n",
       "6     785\n",
       "1     465\n",
       "7     459\n",
       "3     447\n",
       "10    232\n",
       "9     148\n",
       "8      90\n",
       "0      31\n",
       "5       2\n",
       "Name: Type, dtype: int64"
      ]
     },
     "execution_count": 76,
     "metadata": {},
     "output_type": "execute_result"
    }
   ],
   "source": [
    "df.Type = type_encoder.fit_transform(df.Type)\n",
    "df.Type.value_counts()"
   ]
  },
  {
   "cell_type": "markdown",
   "id": "735f6205-9e42-4986-b5d6-128e948ba89d",
   "metadata": {},
   "source": [
    "<br><br>\n",
    "\n",
    "### Reg_date"
   ]
  },
  {
   "cell_type": "code",
   "execution_count": 79,
   "id": "4dec295e-bc65-4782-a3c9-5368517188fc",
   "metadata": {},
   "outputs": [
    {
     "data": {
      "text/plain": [
       "0    28-May-13\n",
       "1    14-Oct-15\n",
       "2     7-Oct-11\n",
       "3    12-Feb-09\n",
       "4    28-Dec-07\n",
       "Name: Reg_date, dtype: object"
      ]
     },
     "execution_count": 79,
     "metadata": {},
     "output_type": "execute_result"
    }
   ],
   "source": [
    "df.Reg_date.head()"
   ]
  },
  {
   "cell_type": "code",
   "execution_count": 81,
   "id": "3b844735-3209-40c5-97a6-5157eb2b4125",
   "metadata": {},
   "outputs": [
    {
     "data": {
      "text/plain": [
       "0"
      ]
     },
     "execution_count": 81,
     "metadata": {},
     "output_type": "execute_result"
    }
   ],
   "source": [
    "df.Reg_date.isnull().sum()"
   ]
  },
  {
   "cell_type": "code",
   "execution_count": 137,
   "id": "d5019fe5-7f28-4c86-acf7-84884841da44",
   "metadata": {},
   "outputs": [
    {
     "name": "stderr",
     "output_type": "stream",
     "text": [
      "/tmp/ipykernel_7884/1626701261.py:1: SettingWithCopyWarning: \n",
      "A value is trying to be set on a copy of a slice from a DataFrame\n",
      "\n",
      "See the caveats in the documentation: https://pandas.pydata.org/pandas-docs/stable/user_guide/indexing.html#returning-a-view-versus-a-copy\n",
      "  df.Reg_date[df.Reg_date == 'N.A.'] = np.nan\n"
     ]
    }
   ],
   "source": [
    "df.Reg_date[df.Reg_date == 'N.A.'] = np.nan"
   ]
  },
  {
   "cell_type": "code",
   "execution_count": 138,
   "id": "78833190-a637-4a2f-85eb-af7dd2d102e1",
   "metadata": {},
   "outputs": [
    {
     "data": {
      "text/plain": [
       "20"
      ]
     },
     "execution_count": 138,
     "metadata": {},
     "output_type": "execute_result"
    }
   ],
   "source": [
    "df.Reg_date.isnull().sum()"
   ]
  },
  {
   "cell_type": "code",
   "execution_count": 141,
   "id": "f6f81520-b268-4be5-93f3-96ca8c6a9a5b",
   "metadata": {},
   "outputs": [
    {
     "data": {
      "text/plain": [
       "0      2013-05-28\n",
       "1      2015-10-14\n",
       "2      2011-10-07\n",
       "3      2009-02-12\n",
       "4      2007-12-28\n",
       "          ...    \n",
       "4391   2013-12-20\n",
       "4392   2017-12-07\n",
       "4393   2007-02-08\n",
       "4394   2015-07-29\n",
       "4395   2012-04-25\n",
       "Name: Reg_date, Length: 4396, dtype: datetime64[ns]"
      ]
     },
     "execution_count": 141,
     "metadata": {},
     "output_type": "execute_result"
    }
   ],
   "source": [
    "df.Reg_date = pd.to_datetime(df.Reg_date)\n",
    "df.Reg_date"
   ]
  },
  {
   "cell_type": "code",
   "execution_count": 183,
   "id": "cf47edde-b810-4e5a-96e6-ba6966c36824",
   "metadata": {},
   "outputs": [
    {
     "ename": "AttributeError",
     "evalue": "attribute 'year' of 'datetime.date' objects is not writable",
     "output_type": "error",
     "traceback": [
      "\u001b[0;31m---------------------------------------------------------------------------\u001b[0m",
      "\u001b[0;31mAttributeError\u001b[0m                            Traceback (most recent call last)",
      "\u001b[0;32m/tmp/ipykernel_7884/1552772292.py\u001b[0m in \u001b[0;36m<module>\u001b[0;34m\u001b[0m\n\u001b[0;32m----> 1\u001b[0;31m \u001b[0mdf\u001b[0m\u001b[0;34m.\u001b[0m\u001b[0mReg_date\u001b[0m\u001b[0;34m.\u001b[0m\u001b[0mloc\u001b[0m\u001b[0;34m[\u001b[0m\u001b[0mdf\u001b[0m\u001b[0;34m.\u001b[0m\u001b[0mReg_date\u001b[0m\u001b[0;34m.\u001b[0m\u001b[0margmax\u001b[0m\u001b[0;34m(\u001b[0m\u001b[0;34m)\u001b[0m\u001b[0;34m]\u001b[0m\u001b[0;34m.\u001b[0m\u001b[0myear\u001b[0m \u001b[0;34m-=\u001b[0m \u001b[0;36m100\u001b[0m\u001b[0;34m\u001b[0m\u001b[0;34m\u001b[0m\u001b[0m\n\u001b[0m",
      "\u001b[0;31mAttributeError\u001b[0m: attribute 'year' of 'datetime.date' objects is not writable"
     ]
    }
   ],
   "source": [
    "df.Reg_date.loc[df.Reg_date.argmax()].year -= 100"
   ]
  },
  {
   "cell_type": "code",
   "execution_count": 175,
   "id": "13599352-6d70-47ea-aa45-6797ea05d219",
   "metadata": {},
   "outputs": [
    {
     "data": {
      "image/png": "[encoded data removed]",
      "text/plain": [
       "<Figure size 1440x720 with 1 Axes>"
      ]
     },
     "metadata": {
      "needs_background": "light"
     },
     "output_type": "display_data"
    }
   ],
   "source": [
    "plt.figure(figsize=(20,10))\n",
    "df.Reg_date.value_counts().plot()\n",
    "plt.show()"
   ]
  },
  {
   "cell_type": "code",
   "execution_count": 173,
   "id": "74ba7953-f337-4c71-86e3-fed392c10c1a",
   "metadata": {},
   "outputs": [
    {
     "data": {
      "image/png": "[encoded data removed]",
      "text/plain": [
       "<Figure size 1440x720 with 1 Axes>"
      ]
     },
     "metadata": {
      "needs_background": "light"
     },
     "output_type": "display_data"
    }
   ],
   "source": [
    "plt.figure(figsize=(20,10))\n",
    "df.Reg_date.value_counts().plot(kind='kde')\n",
    "plt.show()"
   ]
  },
  {
   "cell_type": "code",
   "execution_count": 168,
   "id": "7e6b8feb-c4be-4491-82e2-ee62967dff4f",
   "metadata": {},
   "outputs": [
    {
     "data": {
      "text/plain": [
       "2021-05-27    13\n",
       "2021-05-31    13\n",
       "2018-06-29    10\n",
       "2017-02-28    10\n",
       "2016-06-30     9\n",
       "              ..\n",
       "2012-01-06     1\n",
       "2012-07-20     1\n",
       "2017-04-10     1\n",
       "2008-09-08     1\n",
       "2007-02-08     1\n",
       "Name: Reg_date, Length: 2346, dtype: int64"
      ]
     },
     "execution_count": 168,
     "metadata": {},
     "output_type": "execute_result"
    }
   ],
   "source": [
    "df.Reg_date.value_counts()"
   ]
  },
  {
   "cell_type": "code",
   "execution_count": 148,
   "id": "972ceab5-8781-49ab-a59c-e77df3af9ab9",
   "metadata": {},
   "outputs": [
    {
     "data": {
      "text/plain": [
       "0       28.0\n",
       "1       14.0\n",
       "2        7.0\n",
       "3       12.0\n",
       "4       28.0\n",
       "        ... \n",
       "4391    20.0\n",
       "4392     7.0\n",
       "4393     8.0\n",
       "4394    29.0\n",
       "4395    25.0\n",
       "Name: Day, Length: 4396, dtype: float64"
      ]
     },
     "execution_count": 148,
     "metadata": {},
     "output_type": "execute_result"
    }
   ],
   "source": [
    "df['Day'] = df.Reg_date.apply(lambda x : x.day)\n",
    "df['Day']"
   ]
  },
  {
   "cell_type": "code",
   "execution_count": 149,
   "id": "fc9a7c4a-f791-461e-93d3-a750e303a367",
   "metadata": {},
   "outputs": [
    {
     "data": {
      "text/plain": [
       "count    4376.000000\n",
       "mean       18.383684\n",
       "std         8.809590\n",
       "min         1.000000\n",
       "25%        12.000000\n",
       "50%        19.000000\n",
       "75%        26.000000\n",
       "max        31.000000\n",
       "Name: Day, dtype: float64"
      ]
     },
     "execution_count": 149,
     "metadata": {},
     "output_type": "execute_result"
    }
   ],
   "source": [
    "df.Day.describe()"
   ]
  },
  {
   "cell_type": "code",
   "execution_count": 150,
   "id": "0c36b66f-3e45-438c-948a-a154834a4db2",
   "metadata": {},
   "outputs": [
    {
     "data": {
      "text/plain": [
       "20"
      ]
     },
     "execution_count": 150,
     "metadata": {},
     "output_type": "execute_result"
    }
   ],
   "source": [
    "df.Day.isna().sum()"
   ]
  },
  {
   "cell_type": "code",
   "execution_count": 151,
   "id": "d6383130-e35d-4aff-8bf2-5a0c6db678cd",
   "metadata": {},
   "outputs": [
    {
     "data": {
      "text/plain": [
       "0        5.0\n",
       "1       10.0\n",
       "2       10.0\n",
       "3        2.0\n",
       "4       12.0\n",
       "        ... \n",
       "4391    12.0\n",
       "4392    12.0\n",
       "4393     2.0\n",
       "4394     7.0\n",
       "4395     4.0\n",
       "Name: Month, Length: 4396, dtype: float64"
      ]
     },
     "execution_count": 151,
     "metadata": {},
     "output_type": "execute_result"
    }
   ],
   "source": [
    "df['Month'] = df.Reg_date.apply(lambda x : x.month)\n",
    "df['Month']"
   ]
  },
  {
   "cell_type": "code",
   "execution_count": 152,
   "id": "cb6b9595-fef0-40b0-8599-dad6a854cbf0",
   "metadata": {},
   "outputs": [
    {
     "data": {
      "text/plain": [
       "20"
      ]
     },
     "execution_count": 152,
     "metadata": {},
     "output_type": "execute_result"
    }
   ],
   "source": [
    "df.Month.isnull().sum()"
   ]
  },
  {
   "cell_type": "code",
   "execution_count": 153,
   "id": "d7cab3f4-9c1a-4957-b3ef-8f032746b10c",
   "metadata": {},
   "outputs": [
    {
     "data": {
      "text/plain": [
       "6.0     511\n",
       "5.0     443\n",
       "7.0     408\n",
       "12.0    379\n",
       "8.0     371\n",
       "11.0    366\n",
       "1.0     344\n",
       "10.0    323\n",
       "9.0     323\n",
       "3.0     322\n",
       "4.0     301\n",
       "2.0     285\n",
       "Name: Month, dtype: int64"
      ]
     },
     "execution_count": 153,
     "metadata": {},
     "output_type": "execute_result"
    }
   ],
   "source": [
    "df.Month.value_counts()"
   ]
  },
  {
   "cell_type": "code",
   "execution_count": 154,
   "id": "9131c5b9-8a91-4a13-98ca-498808f11318",
   "metadata": {},
   "outputs": [
    {
     "data": {
      "text/plain": [
       "0       2013.0\n",
       "1       2015.0\n",
       "2       2011.0\n",
       "3       2009.0\n",
       "4       2007.0\n",
       "         ...  \n",
       "4391    2013.0\n",
       "4392    2017.0\n",
       "4393    2007.0\n",
       "4394    2015.0\n",
       "4395    2012.0\n",
       "Name: Year, Length: 4396, dtype: float64"
      ]
     },
     "execution_count": 154,
     "metadata": {},
     "output_type": "execute_result"
    }
   ],
   "source": [
    "df['Year'] = df.Reg_date.apply(lambda x : x.year)\n",
    "df['Year']"
   ]
  },
  {
   "cell_type": "code",
   "execution_count": 155,
   "id": "fbb66f77-58d9-40bf-9c27-c57d7dd0c684",
   "metadata": {},
   "outputs": [
    {
     "data": {
      "text/plain": [
       "count    4376.000000\n",
       "mean     2014.079296\n",
       "std         4.506896\n",
       "min      1976.000000\n",
       "25%      2010.000000\n",
       "50%      2015.000000\n",
       "75%      2018.000000\n",
       "max      2069.000000\n",
       "Name: Year, dtype: float64"
      ]
     },
     "execution_count": 155,
     "metadata": {},
     "output_type": "execute_result"
    }
   ],
   "source": [
    "df.Year.describe()"
   ]
  },
  {
   "cell_type": "code",
   "execution_count": 160,
   "id": "adad6b28-4d6e-429a-ac01-80ef894dce9d",
   "metadata": {},
   "outputs": [],
   "source": [
    "from datetime import date\n",
    "\n",
    "df.Year = df.Year.apply(lambda x : x if (x != np.nan and x <= date.today().year) else x - 100)"
   ]
  },
  {
   "cell_type": "code",
   "execution_count": 161,
   "id": "fcfcd864-4ce6-48c2-a911-90072ce2daf5",
   "metadata": {},
   "outputs": [
    {
     "data": {
      "text/plain": [
       "count    4376.000000\n",
       "mean     2014.056444\n",
       "std         4.481812\n",
       "min      1969.000000\n",
       "25%      2010.000000\n",
       "50%      2015.000000\n",
       "75%      2018.000000\n",
       "max      2022.000000\n",
       "Name: Year, dtype: float64"
      ]
     },
     "execution_count": 161,
     "metadata": {},
     "output_type": "execute_result"
    }
   ],
   "source": [
    "df.Year.describe()"
   ]
  },
  {
   "cell_type": "code",
   "execution_count": 162,
   "id": "68b40508-7e00-4084-b97e-09baa0082aa6",
   "metadata": {},
   "outputs": [
    {
     "data": {
      "text/plain": [
       "20"
      ]
     },
     "execution_count": 162,
     "metadata": {},
     "output_type": "execute_result"
    }
   ],
   "source": [
    "df.Year.isnull().sum()"
   ]
  },
  {
   "cell_type": "code",
   "execution_count": null,
   "id": "51658195-1ded-49c8-a143-8fdb7343e031",
   "metadata": {},
   "outputs": [],
   "source": []
  }
 ],
 "metadata": {
  "kernelspec": {
   "display_name": "Python 3 (ipykernel)",
   "language": "python",
   "name": "python3"
  },
  "language_info": {
   "codemirror_mode": {
    "name": "ipython",
    "version": 3
   },
   "file_extension": ".py",
   "mimetype": "text/x-python",
   "name": "python",
   "nbconvert_exporter": "python",
   "pygments_lexer": "ipython3",
   "version": "3.10.2"
  }
 },
 "nbformat": 4,
 "nbformat_minor": 5
}
