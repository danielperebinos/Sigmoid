{
 "cells": [
  {
   "cell_type": "code",
   "execution_count": 1,
   "id": "82cf4ad2-46ea-44bb-96aa-45128813f5cc",
   "metadata": {},
   "outputs": [],
   "source": [
    "import pandas as pd\n",
    "import numpy as np\n",
    "import matplotlib.pyplot as plt\n",
    "import seaborn"
   ]
  },
  {
   "cell_type": "code",
   "execution_count": 2,
   "id": "29dcd1f5-c59f-401a-bb5a-4a239ca1da5f",
   "metadata": {},
   "outputs": [
    {
     "data": {
      "text/html": [
       "<div>\n",
       "<style scoped>\n",
       "    .dataframe tbody tr th:only-of-type {\n",
       "        vertical-align: middle;\n",
       "    }\n",
       "\n",
       "    .dataframe tbody tr th {\n",
       "        vertical-align: top;\n",
       "    }\n",
       "\n",
       "    .dataframe thead th {\n",
       "        text-align: right;\n",
       "    }\n",
       "</style>\n",
       "<table border=\"1\" class=\"dataframe\">\n",
       "  <thead>\n",
       "    <tr style=\"text-align: right;\">\n",
       "      <th></th>\n",
       "      <th>mileage</th>\n",
       "      <th>make</th>\n",
       "      <th>model</th>\n",
       "      <th>fuel</th>\n",
       "      <th>gear</th>\n",
       "      <th>offerType</th>\n",
       "      <th>price</th>\n",
       "      <th>hp</th>\n",
       "      <th>year</th>\n",
       "    </tr>\n",
       "  </thead>\n",
       "  <tbody>\n",
       "    <tr>\n",
       "      <th>0</th>\n",
       "      <td>235000</td>\n",
       "      <td>BMW</td>\n",
       "      <td>316</td>\n",
       "      <td>Diesel</td>\n",
       "      <td>Manual</td>\n",
       "      <td>Used</td>\n",
       "      <td>6800</td>\n",
       "      <td>116.0</td>\n",
       "      <td>2011</td>\n",
       "    </tr>\n",
       "    <tr>\n",
       "      <th>1</th>\n",
       "      <td>92800</td>\n",
       "      <td>Volkswagen</td>\n",
       "      <td>Golf</td>\n",
       "      <td>Gasoline</td>\n",
       "      <td>Manual</td>\n",
       "      <td>Used</td>\n",
       "      <td>6877</td>\n",
       "      <td>122.0</td>\n",
       "      <td>2011</td>\n",
       "    </tr>\n",
       "    <tr>\n",
       "      <th>2</th>\n",
       "      <td>149300</td>\n",
       "      <td>SEAT</td>\n",
       "      <td>Exeo</td>\n",
       "      <td>Gasoline</td>\n",
       "      <td>Manual</td>\n",
       "      <td>Used</td>\n",
       "      <td>6900</td>\n",
       "      <td>160.0</td>\n",
       "      <td>2011</td>\n",
       "    </tr>\n",
       "    <tr>\n",
       "      <th>3</th>\n",
       "      <td>96200</td>\n",
       "      <td>Renault</td>\n",
       "      <td>Megane</td>\n",
       "      <td>Gasoline</td>\n",
       "      <td>Manual</td>\n",
       "      <td>Used</td>\n",
       "      <td>6950</td>\n",
       "      <td>110.0</td>\n",
       "      <td>2011</td>\n",
       "    </tr>\n",
       "    <tr>\n",
       "      <th>4</th>\n",
       "      <td>156000</td>\n",
       "      <td>Peugeot</td>\n",
       "      <td>308</td>\n",
       "      <td>Gasoline</td>\n",
       "      <td>Manual</td>\n",
       "      <td>Used</td>\n",
       "      <td>6950</td>\n",
       "      <td>156.0</td>\n",
       "      <td>2011</td>\n",
       "    </tr>\n",
       "    <tr>\n",
       "      <th>...</th>\n",
       "      <td>...</td>\n",
       "      <td>...</td>\n",
       "      <td>...</td>\n",
       "      <td>...</td>\n",
       "      <td>...</td>\n",
       "      <td>...</td>\n",
       "      <td>...</td>\n",
       "      <td>...</td>\n",
       "      <td>...</td>\n",
       "    </tr>\n",
       "    <tr>\n",
       "      <th>46400</th>\n",
       "      <td>99</td>\n",
       "      <td>Fiat</td>\n",
       "      <td>500</td>\n",
       "      <td>Electric/Gasoline</td>\n",
       "      <td>Manual</td>\n",
       "      <td>Pre-registered</td>\n",
       "      <td>12990</td>\n",
       "      <td>71.0</td>\n",
       "      <td>2021</td>\n",
       "    </tr>\n",
       "    <tr>\n",
       "      <th>46401</th>\n",
       "      <td>99</td>\n",
       "      <td>Fiat</td>\n",
       "      <td>500</td>\n",
       "      <td>Electric/Gasoline</td>\n",
       "      <td>Manual</td>\n",
       "      <td>Pre-registered</td>\n",
       "      <td>12990</td>\n",
       "      <td>71.0</td>\n",
       "      <td>2021</td>\n",
       "    </tr>\n",
       "    <tr>\n",
       "      <th>46402</th>\n",
       "      <td>99</td>\n",
       "      <td>Fiat</td>\n",
       "      <td>500</td>\n",
       "      <td>Electric/Gasoline</td>\n",
       "      <td>Manual</td>\n",
       "      <td>Pre-registered</td>\n",
       "      <td>12990</td>\n",
       "      <td>71.0</td>\n",
       "      <td>2021</td>\n",
       "    </tr>\n",
       "    <tr>\n",
       "      <th>46403</th>\n",
       "      <td>99</td>\n",
       "      <td>Fiat</td>\n",
       "      <td>500</td>\n",
       "      <td>Electric/Gasoline</td>\n",
       "      <td>Manual</td>\n",
       "      <td>Pre-registered</td>\n",
       "      <td>12990</td>\n",
       "      <td>71.0</td>\n",
       "      <td>2021</td>\n",
       "    </tr>\n",
       "    <tr>\n",
       "      <th>46404</th>\n",
       "      <td>99</td>\n",
       "      <td>Fiat</td>\n",
       "      <td>500</td>\n",
       "      <td>Electric/Gasoline</td>\n",
       "      <td>Manual</td>\n",
       "      <td>Pre-registered</td>\n",
       "      <td>12990</td>\n",
       "      <td>71.0</td>\n",
       "      <td>2021</td>\n",
       "    </tr>\n",
       "  </tbody>\n",
       "</table>\n",
       "<p>46405 rows × 9 columns</p>\n",
       "</div>"
      ],
      "text/plain": [
       "       mileage        make   model               fuel    gear       offerType  \\\n",
       "0       235000         BMW     316             Diesel  Manual            Used   \n",
       "1        92800  Volkswagen    Golf           Gasoline  Manual            Used   \n",
       "2       149300        SEAT    Exeo           Gasoline  Manual            Used   \n",
       "3        96200     Renault  Megane           Gasoline  Manual            Used   \n",
       "4       156000     Peugeot     308           Gasoline  Manual            Used   \n",
       "...        ...         ...     ...                ...     ...             ...   \n",
       "46400       99        Fiat     500  Electric/Gasoline  Manual  Pre-registered   \n",
       "46401       99        Fiat     500  Electric/Gasoline  Manual  Pre-registered   \n",
       "46402       99        Fiat     500  Electric/Gasoline  Manual  Pre-registered   \n",
       "46403       99        Fiat     500  Electric/Gasoline  Manual  Pre-registered   \n",
       "46404       99        Fiat     500  Electric/Gasoline  Manual  Pre-registered   \n",
       "\n",
       "       price     hp  year  \n",
       "0       6800  116.0  2011  \n",
       "1       6877  122.0  2011  \n",
       "2       6900  160.0  2011  \n",
       "3       6950  110.0  2011  \n",
       "4       6950  156.0  2011  \n",
       "...      ...    ...   ...  \n",
       "46400  12990   71.0  2021  \n",
       "46401  12990   71.0  2021  \n",
       "46402  12990   71.0  2021  \n",
       "46403  12990   71.0  2021  \n",
       "46404  12990   71.0  2021  \n",
       "\n",
       "[46405 rows x 9 columns]"
      ]
     },
     "execution_count": 2,
     "metadata": {},
     "output_type": "execute_result"
    }
   ],
   "source": [
    "# Data read from csv\n",
    "df = pd.read_csv('data.csv')\n",
    "df"
   ]
  },
  {
   "cell_type": "code",
   "execution_count": 3,
   "id": "002ac3a6-0351-4837-83f7-3785cafad0bc",
   "metadata": {},
   "outputs": [
    {
     "data": {
      "text/html": [
       "<div>\n",
       "<style scoped>\n",
       "    .dataframe tbody tr th:only-of-type {\n",
       "        vertical-align: middle;\n",
       "    }\n",
       "\n",
       "    .dataframe tbody tr th {\n",
       "        vertical-align: top;\n",
       "    }\n",
       "\n",
       "    .dataframe thead th {\n",
       "        text-align: right;\n",
       "    }\n",
       "</style>\n",
       "<table border=\"1\" class=\"dataframe\">\n",
       "  <thead>\n",
       "    <tr style=\"text-align: right;\">\n",
       "      <th></th>\n",
       "      <th>mileage</th>\n",
       "      <th>make</th>\n",
       "      <th>model</th>\n",
       "      <th>fuel</th>\n",
       "      <th>gear</th>\n",
       "      <th>offerType</th>\n",
       "      <th>hp</th>\n",
       "      <th>year</th>\n",
       "      <th>price</th>\n",
       "    </tr>\n",
       "  </thead>\n",
       "  <tbody>\n",
       "    <tr>\n",
       "      <th>0</th>\n",
       "      <td>235000</td>\n",
       "      <td>BMW</td>\n",
       "      <td>316</td>\n",
       "      <td>Diesel</td>\n",
       "      <td>Manual</td>\n",
       "      <td>Used</td>\n",
       "      <td>116.0</td>\n",
       "      <td>2011</td>\n",
       "      <td>6800</td>\n",
       "    </tr>\n",
       "    <tr>\n",
       "      <th>1</th>\n",
       "      <td>92800</td>\n",
       "      <td>Volkswagen</td>\n",
       "      <td>Golf</td>\n",
       "      <td>Gasoline</td>\n",
       "      <td>Manual</td>\n",
       "      <td>Used</td>\n",
       "      <td>122.0</td>\n",
       "      <td>2011</td>\n",
       "      <td>6877</td>\n",
       "    </tr>\n",
       "    <tr>\n",
       "      <th>2</th>\n",
       "      <td>149300</td>\n",
       "      <td>SEAT</td>\n",
       "      <td>Exeo</td>\n",
       "      <td>Gasoline</td>\n",
       "      <td>Manual</td>\n",
       "      <td>Used</td>\n",
       "      <td>160.0</td>\n",
       "      <td>2011</td>\n",
       "      <td>6900</td>\n",
       "    </tr>\n",
       "    <tr>\n",
       "      <th>3</th>\n",
       "      <td>96200</td>\n",
       "      <td>Renault</td>\n",
       "      <td>Megane</td>\n",
       "      <td>Gasoline</td>\n",
       "      <td>Manual</td>\n",
       "      <td>Used</td>\n",
       "      <td>110.0</td>\n",
       "      <td>2011</td>\n",
       "      <td>6950</td>\n",
       "    </tr>\n",
       "    <tr>\n",
       "      <th>4</th>\n",
       "      <td>156000</td>\n",
       "      <td>Peugeot</td>\n",
       "      <td>308</td>\n",
       "      <td>Gasoline</td>\n",
       "      <td>Manual</td>\n",
       "      <td>Used</td>\n",
       "      <td>156.0</td>\n",
       "      <td>2011</td>\n",
       "      <td>6950</td>\n",
       "    </tr>\n",
       "    <tr>\n",
       "      <th>...</th>\n",
       "      <td>...</td>\n",
       "      <td>...</td>\n",
       "      <td>...</td>\n",
       "      <td>...</td>\n",
       "      <td>...</td>\n",
       "      <td>...</td>\n",
       "      <td>...</td>\n",
       "      <td>...</td>\n",
       "      <td>...</td>\n",
       "    </tr>\n",
       "    <tr>\n",
       "      <th>46400</th>\n",
       "      <td>99</td>\n",
       "      <td>Fiat</td>\n",
       "      <td>500</td>\n",
       "      <td>Electric/Gasoline</td>\n",
       "      <td>Manual</td>\n",
       "      <td>Pre-registered</td>\n",
       "      <td>71.0</td>\n",
       "      <td>2021</td>\n",
       "      <td>12990</td>\n",
       "    </tr>\n",
       "    <tr>\n",
       "      <th>46401</th>\n",
       "      <td>99</td>\n",
       "      <td>Fiat</td>\n",
       "      <td>500</td>\n",
       "      <td>Electric/Gasoline</td>\n",
       "      <td>Manual</td>\n",
       "      <td>Pre-registered</td>\n",
       "      <td>71.0</td>\n",
       "      <td>2021</td>\n",
       "      <td>12990</td>\n",
       "    </tr>\n",
       "    <tr>\n",
       "      <th>46402</th>\n",
       "      <td>99</td>\n",
       "      <td>Fiat</td>\n",
       "      <td>500</td>\n",
       "      <td>Electric/Gasoline</td>\n",
       "      <td>Manual</td>\n",
       "      <td>Pre-registered</td>\n",
       "      <td>71.0</td>\n",
       "      <td>2021</td>\n",
       "      <td>12990</td>\n",
       "    </tr>\n",
       "    <tr>\n",
       "      <th>46403</th>\n",
       "      <td>99</td>\n",
       "      <td>Fiat</td>\n",
       "      <td>500</td>\n",
       "      <td>Electric/Gasoline</td>\n",
       "      <td>Manual</td>\n",
       "      <td>Pre-registered</td>\n",
       "      <td>71.0</td>\n",
       "      <td>2021</td>\n",
       "      <td>12990</td>\n",
       "    </tr>\n",
       "    <tr>\n",
       "      <th>46404</th>\n",
       "      <td>99</td>\n",
       "      <td>Fiat</td>\n",
       "      <td>500</td>\n",
       "      <td>Electric/Gasoline</td>\n",
       "      <td>Manual</td>\n",
       "      <td>Pre-registered</td>\n",
       "      <td>71.0</td>\n",
       "      <td>2021</td>\n",
       "      <td>12990</td>\n",
       "    </tr>\n",
       "  </tbody>\n",
       "</table>\n",
       "<p>46405 rows × 9 columns</p>\n",
       "</div>"
      ],
      "text/plain": [
       "       mileage        make   model               fuel    gear       offerType  \\\n",
       "0       235000         BMW     316             Diesel  Manual            Used   \n",
       "1        92800  Volkswagen    Golf           Gasoline  Manual            Used   \n",
       "2       149300        SEAT    Exeo           Gasoline  Manual            Used   \n",
       "3        96200     Renault  Megane           Gasoline  Manual            Used   \n",
       "4       156000     Peugeot     308           Gasoline  Manual            Used   \n",
       "...        ...         ...     ...                ...     ...             ...   \n",
       "46400       99        Fiat     500  Electric/Gasoline  Manual  Pre-registered   \n",
       "46401       99        Fiat     500  Electric/Gasoline  Manual  Pre-registered   \n",
       "46402       99        Fiat     500  Electric/Gasoline  Manual  Pre-registered   \n",
       "46403       99        Fiat     500  Electric/Gasoline  Manual  Pre-registered   \n",
       "46404       99        Fiat     500  Electric/Gasoline  Manual  Pre-registered   \n",
       "\n",
       "          hp  year  price  \n",
       "0      116.0  2011   6800  \n",
       "1      122.0  2011   6877  \n",
       "2      160.0  2011   6900  \n",
       "3      110.0  2011   6950  \n",
       "4      156.0  2011   6950  \n",
       "...      ...   ...    ...  \n",
       "46400   71.0  2021  12990  \n",
       "46401   71.0  2021  12990  \n",
       "46402   71.0  2021  12990  \n",
       "46403   71.0  2021  12990  \n",
       "46404   71.0  2021  12990  \n",
       "\n",
       "[46405 rows x 9 columns]"
      ]
     },
     "execution_count": 3,
     "metadata": {},
     "output_type": "execute_result"
    }
   ],
   "source": [
    "# Column Rearange\n",
    "df = df[list(df.columns.drop('price'))+ ['price']]\n",
    "df"
   ]
  },
  {
   "cell_type": "code",
   "execution_count": 4,
   "id": "d5601404-96a7-4f8d-b37f-ac6b8f2727af",
   "metadata": {},
   "outputs": [
    {
     "name": "stdout",
     "output_type": "stream",
     "text": [
      "<class 'pandas.core.frame.DataFrame'>\n",
      "RangeIndex: 46405 entries, 0 to 46404\n",
      "Data columns (total 9 columns):\n",
      " #   Column     Non-Null Count  Dtype  \n",
      "---  ------     --------------  -----  \n",
      " 0   mileage    46405 non-null  int64  \n",
      " 1   make       46405 non-null  object \n",
      " 2   model      46262 non-null  object \n",
      " 3   fuel       46405 non-null  object \n",
      " 4   gear       46223 non-null  object \n",
      " 5   offerType  46405 non-null  object \n",
      " 6   hp         46376 non-null  float64\n",
      " 7   year       46405 non-null  int64  \n",
      " 8   price      46405 non-null  int64  \n",
      "dtypes: float64(1), int64(3), object(5)\n",
      "memory usage: 3.2+ MB\n"
     ]
    }
   ],
   "source": [
    "# General Information\n",
    "df.info()"
   ]
  },
  {
   "cell_type": "code",
   "execution_count": 5,
   "id": "e15030f9-10f8-4e3c-b956-16f2c0b3afcc",
   "metadata": {},
   "outputs": [
    {
     "data": {
      "image/png": "[encoded data removed]",
      "text/plain": [
       "<Figure size 720x720 with 1 Axes>"
      ]
     },
     "metadata": {
      "needs_background": "light"
     },
     "output_type": "display_data"
    }
   ],
   "source": [
    "# NaN values distribution\n",
    "plt.figure(figsize=(10,10))\n",
    "\n",
    "df.isnull().sum().plot(kind='bar')\n",
    "plt.title('Distribution of the NaN values in each column', size=18)\n",
    "plt.ylabel('Number of NaN values')\n",
    "\n",
    "plt.show()"
   ]
  },
  {
   "cell_type": "code",
   "execution_count": 6,
   "id": "1f85f60e-b881-4f20-b0f2-fee350024bc9",
   "metadata": {},
   "outputs": [
    {
     "data": {
      "text/html": [
       "<div>\n",
       "<style scoped>\n",
       "    .dataframe tbody tr th:only-of-type {\n",
       "        vertical-align: middle;\n",
       "    }\n",
       "\n",
       "    .dataframe tbody tr th {\n",
       "        vertical-align: top;\n",
       "    }\n",
       "\n",
       "    .dataframe thead th {\n",
       "        text-align: right;\n",
       "    }\n",
       "</style>\n",
       "<table border=\"1\" class=\"dataframe\">\n",
       "  <thead>\n",
       "    <tr style=\"text-align: right;\">\n",
       "      <th></th>\n",
       "      <th>mileage</th>\n",
       "      <th>hp</th>\n",
       "      <th>year</th>\n",
       "      <th>price</th>\n",
       "    </tr>\n",
       "  </thead>\n",
       "  <tbody>\n",
       "    <tr>\n",
       "      <th>count</th>\n",
       "      <td>4.640500e+04</td>\n",
       "      <td>46376.000000</td>\n",
       "      <td>46405.000000</td>\n",
       "      <td>4.640500e+04</td>\n",
       "    </tr>\n",
       "    <tr>\n",
       "      <th>mean</th>\n",
       "      <td>7.117786e+04</td>\n",
       "      <td>132.990987</td>\n",
       "      <td>2016.012951</td>\n",
       "      <td>1.657234e+04</td>\n",
       "    </tr>\n",
       "    <tr>\n",
       "      <th>std</th>\n",
       "      <td>6.262531e+04</td>\n",
       "      <td>75.449284</td>\n",
       "      <td>3.155214</td>\n",
       "      <td>1.930470e+04</td>\n",
       "    </tr>\n",
       "    <tr>\n",
       "      <th>min</th>\n",
       "      <td>0.000000e+00</td>\n",
       "      <td>1.000000</td>\n",
       "      <td>2011.000000</td>\n",
       "      <td>1.100000e+03</td>\n",
       "    </tr>\n",
       "    <tr>\n",
       "      <th>25%</th>\n",
       "      <td>1.980000e+04</td>\n",
       "      <td>86.000000</td>\n",
       "      <td>2013.000000</td>\n",
       "      <td>7.490000e+03</td>\n",
       "    </tr>\n",
       "    <tr>\n",
       "      <th>50%</th>\n",
       "      <td>6.000000e+04</td>\n",
       "      <td>116.000000</td>\n",
       "      <td>2016.000000</td>\n",
       "      <td>1.099900e+04</td>\n",
       "    </tr>\n",
       "    <tr>\n",
       "      <th>75%</th>\n",
       "      <td>1.050000e+05</td>\n",
       "      <td>150.000000</td>\n",
       "      <td>2019.000000</td>\n",
       "      <td>1.949000e+04</td>\n",
       "    </tr>\n",
       "    <tr>\n",
       "      <th>max</th>\n",
       "      <td>1.111111e+06</td>\n",
       "      <td>850.000000</td>\n",
       "      <td>2021.000000</td>\n",
       "      <td>1.199900e+06</td>\n",
       "    </tr>\n",
       "  </tbody>\n",
       "</table>\n",
       "</div>"
      ],
      "text/plain": [
       "            mileage            hp          year         price\n",
       "count  4.640500e+04  46376.000000  46405.000000  4.640500e+04\n",
       "mean   7.117786e+04    132.990987   2016.012951  1.657234e+04\n",
       "std    6.262531e+04     75.449284      3.155214  1.930470e+04\n",
       "min    0.000000e+00      1.000000   2011.000000  1.100000e+03\n",
       "25%    1.980000e+04     86.000000   2013.000000  7.490000e+03\n",
       "50%    6.000000e+04    116.000000   2016.000000  1.099900e+04\n",
       "75%    1.050000e+05    150.000000   2019.000000  1.949000e+04\n",
       "max    1.111111e+06    850.000000   2021.000000  1.199900e+06"
      ]
     },
     "execution_count": 6,
     "metadata": {},
     "output_type": "execute_result"
    }
   ],
   "source": [
    "df.describe()"
   ]
  },
  {
   "cell_type": "markdown",
   "id": "f759aec7-3078-42d3-8314-48cfe25e73c2",
   "metadata": {},
   "source": [
    "<br><br>\n",
    "\n",
    "## Data Analysis"
   ]
  },
  {
   "cell_type": "markdown",
   "id": "6feb3bef-de1e-49bd-a8cd-1484b72b47d2",
   "metadata": {},
   "source": [
    "### Mileage"
   ]
  },
  {
   "cell_type": "code",
   "execution_count": 7,
   "id": "344a56eb-c8f6-468b-b036-9edd27941d9c",
   "metadata": {},
   "outputs": [
    {
     "data": {
      "text/plain": [
       "0    235000\n",
       "1     92800\n",
       "2    149300\n",
       "3     96200\n",
       "4    156000\n",
       "Name: mileage, dtype: int64"
      ]
     },
     "execution_count": 7,
     "metadata": {},
     "output_type": "execute_result"
    }
   ],
   "source": [
    "df.mileage.head()"
   ]
  },
  {
   "cell_type": "code",
   "execution_count": 8,
   "id": "1e6d09a4-340e-4609-a9b0-2eb8f9cc4c43",
   "metadata": {},
   "outputs": [
    {
     "data": {
      "text/plain": [
       "0"
      ]
     },
     "execution_count": 8,
     "metadata": {},
     "output_type": "execute_result"
    }
   ],
   "source": [
    "df.mileage.isnull().sum()"
   ]
  },
  {
   "cell_type": "code",
   "execution_count": 9,
   "id": "03479843-63bd-4c4e-9dc6-65d13faa31a5",
   "metadata": {},
   "outputs": [
    {
     "data": {
      "image/png": "[encoded data removed]",
      "text/plain": [
       "<Figure size 1440x720 with 1 Axes>"
      ]
     },
     "metadata": {
      "needs_background": "light"
     },
     "output_type": "display_data"
    }
   ],
   "source": [
    "plt.figure(figsize=(20,10))\n",
    "df.mileage.plot()\n",
    "plt.show()"
   ]
  },
  {
   "cell_type": "code",
   "execution_count": 10,
   "id": "48d5f3c0-0643-485e-915e-f289a32f66de",
   "metadata": {},
   "outputs": [
    {
     "data": {
      "image/png": "[encoded data removed]",
      "text/plain": [
       "<Figure size 1080x360 with 1 Axes>"
      ]
     },
     "metadata": {
      "needs_background": "light"
     },
     "output_type": "display_data"
    }
   ],
   "source": [
    "plt.figure(figsize=(15,5))\n",
    "plt.boxplot(df.mileage, vert=False)\n",
    "plt.show()"
   ]
  },
  {
   "cell_type": "code",
   "execution_count": null,
   "id": "9ee67acc-d7c5-4420-842b-3ef0ac9511e0",
   "metadata": {},
   "outputs": [],
   "source": []
  },
  {
   "cell_type": "code",
   "execution_count": 11,
   "id": "60811e48-321f-426a-b22f-4cdbaf1b447f",
   "metadata": {},
   "outputs": [
    {
     "data": {
      "image/png": "[encoded data removed]",
      "text/plain": [
       "<Figure size 1440x720 with 1 Axes>"
      ]
     },
     "metadata": {
      "needs_background": "light"
     },
     "output_type": "display_data"
    }
   ],
   "source": [
    "plt.figure(figsize=(20,10))\n",
    "plt.scatter(df.mileage, df.price)\n",
    "plt.show()"
   ]
  },
  {
   "cell_type": "markdown",
   "id": "c624bf61-f802-4656-b570-3dc5804abd31",
   "metadata": {},
   "source": [
    "The repartition is like the second the output of the function a/x"
   ]
  },
  {
   "cell_type": "markdown",
   "id": "adf1c163-0f52-40f7-bf47-8294685ffe02",
   "metadata": {},
   "source": [
    "<br><br>\n",
    "\n",
    "### Make"
   ]
  },
  {
   "cell_type": "code",
   "execution_count": 12,
   "id": "d46479dc-47c2-4ac9-933a-b54bae6fec33",
   "metadata": {},
   "outputs": [
    {
     "data": {
      "text/plain": [
       "0           BMW\n",
       "1    Volkswagen\n",
       "2          SEAT\n",
       "3       Renault\n",
       "4       Peugeot\n",
       "Name: make, dtype: object"
      ]
     },
     "execution_count": 12,
     "metadata": {},
     "output_type": "execute_result"
    }
   ],
   "source": [
    "df.make.head()"
   ]
  },
  {
   "cell_type": "code",
   "execution_count": 13,
   "id": "becddb1e-f894-48ad-8158-5e531546255a",
   "metadata": {},
   "outputs": [
    {
     "data": {
      "text/plain": [
       "0"
      ]
     },
     "execution_count": 13,
     "metadata": {},
     "output_type": "execute_result"
    }
   ],
   "source": [
    "df.make.isnull().sum()"
   ]
  },
  {
   "cell_type": "code",
   "execution_count": 14,
   "id": "91ed0b5c-bfe7-439d-bd20-4d3b635b7535",
   "metadata": {},
   "outputs": [
    {
     "data": {
      "text/plain": [
       "Volkswagen    6931\n",
       "Opel          4814\n",
       "Ford          4442\n",
       "Skoda         2889\n",
       "Renault       2830\n",
       "              ... \n",
       "DAF              1\n",
       "Isuzu            1\n",
       "Trucks-Lkw       1\n",
       "Tazzari          1\n",
       "Zhidou           1\n",
       "Name: make, Length: 77, dtype: int64"
      ]
     },
     "execution_count": 14,
     "metadata": {},
     "output_type": "execute_result"
    }
   ],
   "source": [
    "df.make.value_counts()"
   ]
  },
  {
   "cell_type": "code",
   "execution_count": 15,
   "id": "41ac1c3d-598c-49db-bca5-86fc0ee93679",
   "metadata": {},
   "outputs": [
    {
     "data": {
      "image/png": "[encoded data removed]",
      "text/plain": [
       "<Figure size 1440x720 with 1 Axes>"
      ]
     },
     "metadata": {
      "needs_background": "light"
     },
     "output_type": "display_data"
    }
   ],
   "source": [
    "plt.figure(figsize=(20,10))\n",
    "plt.bar(df.make.values[:30], df.make.index[:30])\n",
    "plt.show()"
   ]
  },
  {
   "cell_type": "code",
   "execution_count": 16,
   "id": "b098eb92-9703-4327-8153-eaef4a22d805",
   "metadata": {},
   "outputs": [
    {
     "data": {
      "text/plain": [
       "Volkswagen    0.149359\n",
       "Opel          0.103739\n",
       "Ford          0.095722\n",
       "Skoda         0.062256\n",
       "Renault       0.060985\n",
       "                ...   \n",
       "DAF           0.000022\n",
       "Isuzu         0.000022\n",
       "Trucks-Lkw    0.000022\n",
       "Tazzari       0.000022\n",
       "Zhidou        0.000022\n",
       "Name: make, Length: 77, dtype: float64"
      ]
     },
     "execution_count": 16,
     "metadata": {},
     "output_type": "execute_result"
    }
   ],
   "source": [
    "frequency = df.make.value_counts() / len(df.make)\n",
    "frequency"
   ]
  },
  {
   "cell_type": "code",
   "execution_count": 17,
   "id": "47161cd7-3bc8-488b-b3a1-4032b0f549dd",
   "metadata": {},
   "outputs": [
    {
     "data": {
      "text/plain": [
       "0        0.051826\n",
       "1        0.149359\n",
       "2        0.041461\n",
       "3        0.060985\n",
       "4        0.026549\n",
       "           ...   \n",
       "46400    0.036634\n",
       "46401    0.036634\n",
       "46402    0.036634\n",
       "46403    0.036634\n",
       "46404    0.036634\n",
       "Name: make, Length: 46405, dtype: float64"
      ]
     },
     "execution_count": 17,
     "metadata": {},
     "output_type": "execute_result"
    }
   ],
   "source": [
    "df.make = df.make.apply(lambda x : frequency.loc[x])\n",
    "df.make"
   ]
  },
  {
   "cell_type": "markdown",
   "id": "852e6da1-b689-4a23-9888-a5622a3b454b",
   "metadata": {},
   "source": [
    "<br><br>\n",
    "\n",
    "### Model"
   ]
  },
  {
   "cell_type": "code",
   "execution_count": 18,
   "id": "38f6cb2e-ae56-436c-ac22-dddb48d13ebd",
   "metadata": {},
   "outputs": [
    {
     "data": {
      "text/plain": [
       "0       316\n",
       "1      Golf\n",
       "2      Exeo\n",
       "3    Megane\n",
       "4       308\n",
       "Name: model, dtype: object"
      ]
     },
     "execution_count": 18,
     "metadata": {},
     "output_type": "execute_result"
    }
   ],
   "source": [
    "df.model.head()"
   ]
  },
  {
   "cell_type": "code",
   "execution_count": 19,
   "id": "6169c3be-d068-429d-948a-1045a3348c93",
   "metadata": {},
   "outputs": [
    {
     "data": {
      "text/plain": [
       "143"
      ]
     },
     "execution_count": 19,
     "metadata": {},
     "output_type": "execute_result"
    }
   ],
   "source": [
    "df.model.isnull().sum()"
   ]
  },
  {
   "cell_type": "code",
   "execution_count": 20,
   "id": "fbaedc5b-3e78-4940-b93d-b6f106f5a060",
   "metadata": {},
   "outputs": [
    {
     "data": {
      "image/png": "[encoded data removed]",
      "text/plain": [
       "<Figure size 1440x720 with 1 Axes>"
      ]
     },
     "metadata": {
      "needs_background": "light"
     },
     "output_type": "display_data"
    }
   ],
   "source": [
    "plt.figure(figsize=(20,10))\n",
    "df.model.value_counts().plot()\n",
    "plt.show()"
   ]
  },
  {
   "cell_type": "code",
   "execution_count": null,
   "id": "92f7b5ac-e783-4686-8e12-d321b423b61e",
   "metadata": {},
   "outputs": [],
   "source": []
  },
  {
   "cell_type": "markdown",
   "id": "bcb78381-218d-496f-9b61-7a8829da498a",
   "metadata": {},
   "source": [
    "<br><br>\n",
    "\n",
    "### Fluel"
   ]
  },
  {
   "cell_type": "code",
   "execution_count": 21,
   "id": "83ce6b3a-9e30-4139-8866-0de50f7dfb72",
   "metadata": {},
   "outputs": [
    {
     "data": {
      "text/plain": [
       "0      Diesel\n",
       "1    Gasoline\n",
       "2    Gasoline\n",
       "3    Gasoline\n",
       "4    Gasoline\n",
       "Name: fuel, dtype: object"
      ]
     },
     "execution_count": 21,
     "metadata": {},
     "output_type": "execute_result"
    }
   ],
   "source": [
    "df.fuel.head()"
   ]
  },
  {
   "cell_type": "code",
   "execution_count": 22,
   "id": "8f9d256e-30b3-48c8-a31b-35596558201b",
   "metadata": {},
   "outputs": [
    {
     "data": {
      "text/plain": [
       "0"
      ]
     },
     "execution_count": 22,
     "metadata": {},
     "output_type": "execute_result"
    }
   ],
   "source": [
    "df.fuel.isnull().sum()"
   ]
  },
  {
   "cell_type": "code",
   "execution_count": 23,
   "id": "860b4366-f820-4af5-b26b-801bd3d23600",
   "metadata": {},
   "outputs": [
    {
     "data": {
      "text/plain": [
       "Gasoline             28864\n",
       "Diesel               15244\n",
       "Electric/Gasoline     1158\n",
       "Electric               758\n",
       "LPG                    126\n",
       "CNG                    117\n",
       "Others                  56\n",
       "Electric/Diesel         53\n",
       "-/- (Fuel)              26\n",
       "Ethanol                  2\n",
       "Hydrogen                 1\n",
       "Name: fuel, dtype: int64"
      ]
     },
     "execution_count": 23,
     "metadata": {},
     "output_type": "execute_result"
    }
   ],
   "source": [
    "df.fuel.value_counts()"
   ]
  },
  {
   "cell_type": "code",
   "execution_count": 24,
   "id": "6eedc26e-1bd4-403b-bcd4-2834fa3081e4",
   "metadata": {},
   "outputs": [
    {
     "data": {
      "text/html": [
       "<div>\n",
       "<style scoped>\n",
       "    .dataframe tbody tr th:only-of-type {\n",
       "        vertical-align: middle;\n",
       "    }\n",
       "\n",
       "    .dataframe tbody tr th {\n",
       "        vertical-align: top;\n",
       "    }\n",
       "\n",
       "    .dataframe thead th {\n",
       "        text-align: right;\n",
       "    }\n",
       "</style>\n",
       "<table border=\"1\" class=\"dataframe\">\n",
       "  <thead>\n",
       "    <tr style=\"text-align: right;\">\n",
       "      <th></th>\n",
       "      <th>price</th>\n",
       "    </tr>\n",
       "    <tr>\n",
       "      <th>fuel</th>\n",
       "      <th></th>\n",
       "    </tr>\n",
       "  </thead>\n",
       "  <tbody>\n",
       "    <tr>\n",
       "      <th>-/- (Fuel)</th>\n",
       "      <td>14473.346154</td>\n",
       "    </tr>\n",
       "    <tr>\n",
       "      <th>CNG</th>\n",
       "      <td>12558.136752</td>\n",
       "    </tr>\n",
       "    <tr>\n",
       "      <th>Diesel</th>\n",
       "      <td>18112.008266</td>\n",
       "    </tr>\n",
       "    <tr>\n",
       "      <th>Electric</th>\n",
       "      <td>23004.944591</td>\n",
       "    </tr>\n",
       "    <tr>\n",
       "      <th>Electric/Diesel</th>\n",
       "      <td>37605.018868</td>\n",
       "    </tr>\n",
       "    <tr>\n",
       "      <th>Electric/Gasoline</th>\n",
       "      <td>29694.614853</td>\n",
       "    </tr>\n",
       "    <tr>\n",
       "      <th>Ethanol</th>\n",
       "      <td>3450.000000</td>\n",
       "    </tr>\n",
       "    <tr>\n",
       "      <th>Gasoline</th>\n",
       "      <td>15073.637368</td>\n",
       "    </tr>\n",
       "    <tr>\n",
       "      <th>Hydrogen</th>\n",
       "      <td>34990.000000</td>\n",
       "    </tr>\n",
       "    <tr>\n",
       "      <th>LPG</th>\n",
       "      <td>11340.761905</td>\n",
       "    </tr>\n",
       "    <tr>\n",
       "      <th>Others</th>\n",
       "      <td>12870.946429</td>\n",
       "    </tr>\n",
       "  </tbody>\n",
       "</table>\n",
       "</div>"
      ],
      "text/plain": [
       "                          price\n",
       "fuel                           \n",
       "-/- (Fuel)         14473.346154\n",
       "CNG                12558.136752\n",
       "Diesel             18112.008266\n",
       "Electric           23004.944591\n",
       "Electric/Diesel    37605.018868\n",
       "Electric/Gasoline  29694.614853\n",
       "Ethanol             3450.000000\n",
       "Gasoline           15073.637368\n",
       "Hydrogen           34990.000000\n",
       "LPG                11340.761905\n",
       "Others             12870.946429"
      ]
     },
     "execution_count": 24,
     "metadata": {},
     "output_type": "execute_result"
    }
   ],
   "source": [
    "df[['fuel', 'price']].groupby('fuel').mean()"
   ]
  },
  {
   "cell_type": "code",
   "execution_count": 34,
   "id": "e2ac5eff-4d73-46b1-aef5-77c2da2fc958",
   "metadata": {},
   "outputs": [
    {
     "data": {
      "image/png": "[encoded data removed]",
      "text/plain": [
       "<Figure size 1440x720 with 1 Axes>"
      ]
     },
     "metadata": {
      "needs_background": "light"
     },
     "output_type": "display_data"
    }
   ],
   "source": [
    "plt.figure(figsize=(20,10))\n",
    "plt.bar(df[['fuel', 'price']].groupby('fuel').mean().index,\n",
    "        df[['fuel', 'price']].groupby('fuel').mean().price)\n",
    "plt.show()"
   ]
  },
  {
   "cell_type": "code",
   "execution_count": null,
   "id": "1809a554-5be4-4a85-bcc2-ff119eb23765",
   "metadata": {},
   "outputs": [],
   "source": []
  },
  {
   "cell_type": "code",
   "execution_count": null,
   "id": "f3ceab90-5527-4df0-bb86-b3424858fb3f",
   "metadata": {},
   "outputs": [],
   "source": [
    "from sklearn.preprocessing import LabelEncoder\n",
    "\n",
    "fuel_encoder = LabelEncoder()\n",
    "df.fuel = fuel_encoder.fit_transform(df.fuel)"
   ]
  },
  {
   "cell_type": "code",
   "execution_count": null,
   "id": "3a160cd5-0adb-4baa-a0b2-9f0f179b424d",
   "metadata": {},
   "outputs": [],
   "source": [
    "df.fuel.value_counts()"
   ]
  },
  {
   "cell_type": "markdown",
   "id": "4ac9854b-471e-4b2c-bcd0-127e3bbdb21a",
   "metadata": {},
   "source": [
    "<br><br>\n",
    "\n",
    "### Gear"
   ]
  },
  {
   "cell_type": "code",
   "execution_count": 36,
   "id": "b9dfa591-215b-4ec3-9fe8-fb992854e6ea",
   "metadata": {},
   "outputs": [
    {
     "data": {
      "text/plain": [
       "0    Manual\n",
       "1    Manual\n",
       "2    Manual\n",
       "3    Manual\n",
       "4    Manual\n",
       "Name: gear, dtype: object"
      ]
     },
     "execution_count": 36,
     "metadata": {},
     "output_type": "execute_result"
    }
   ],
   "source": [
    "df.gear.head()"
   ]
  },
  {
   "cell_type": "code",
   "execution_count": 37,
   "id": "900071cc-beee-43df-a955-c66e36b6689c",
   "metadata": {},
   "outputs": [
    {
     "data": {
      "text/plain": [
       "182"
      ]
     },
     "execution_count": 37,
     "metadata": {},
     "output_type": "execute_result"
    }
   ],
   "source": [
    "df.gear.isnull().sum()"
   ]
  },
  {
   "cell_type": "code",
   "execution_count": 38,
   "id": "ff7f5ecd-ac45-45c6-9bc7-1b314449b500",
   "metadata": {},
   "outputs": [
    {
     "data": {
      "text/plain": [
       "Manual            30380\n",
       "Automatic         15787\n",
       "Semi-automatic       56\n",
       "Name: gear, dtype: int64"
      ]
     },
     "execution_count": 38,
     "metadata": {},
     "output_type": "execute_result"
    }
   ],
   "source": [
    "df.gear.value_counts()"
   ]
  },
  {
   "cell_type": "code",
   "execution_count": 56,
   "id": "850e8509-a829-479a-bc41-953d0ccd492c",
   "metadata": {},
   "outputs": [
    {
     "data": {
      "image/png": "[encoded data removed]",
      "text/plain": [
       "<Figure size 720x720 with 1 Axes>"
      ]
     },
     "metadata": {
      "needs_background": "light"
     },
     "output_type": "display_data"
    }
   ],
   "source": [
    "plt.figure(figsize=(10,10))\n",
    "plt.bar(df.gear.value_counts().index,\n",
    "        df.gear.value_counts().values/len(df.gear))\n",
    "\n",
    "plt.title('Density of each value')\n",
    "plt.ylabel('Density')\n",
    "plt.show()"
   ]
  },
  {
   "cell_type": "code",
   "execution_count": 44,
   "id": "13b6ea77-52f6-4354-9133-32bc5255c5dc",
   "metadata": {},
   "outputs": [
    {
     "data": {
      "text/html": [
       "<div>\n",
       "<style scoped>\n",
       "    .dataframe tbody tr th:only-of-type {\n",
       "        vertical-align: middle;\n",
       "    }\n",
       "\n",
       "    .dataframe tbody tr th {\n",
       "        vertical-align: top;\n",
       "    }\n",
       "\n",
       "    .dataframe thead th {\n",
       "        text-align: right;\n",
       "    }\n",
       "</style>\n",
       "<table border=\"1\" class=\"dataframe\">\n",
       "  <thead>\n",
       "    <tr style=\"text-align: right;\">\n",
       "      <th></th>\n",
       "      <th>price</th>\n",
       "    </tr>\n",
       "    <tr>\n",
       "      <th>gear</th>\n",
       "      <th></th>\n",
       "    </tr>\n",
       "  </thead>\n",
       "  <tbody>\n",
       "    <tr>\n",
       "      <th>Automatic</th>\n",
       "      <td>28216.003737</td>\n",
       "    </tr>\n",
       "    <tr>\n",
       "      <th>Manual</th>\n",
       "      <td>10569.031666</td>\n",
       "    </tr>\n",
       "    <tr>\n",
       "      <th>Semi-automatic</th>\n",
       "      <td>8424.982143</td>\n",
       "    </tr>\n",
       "  </tbody>\n",
       "</table>\n",
       "</div>"
      ],
      "text/plain": [
       "                       price\n",
       "gear                        \n",
       "Automatic       28216.003737\n",
       "Manual          10569.031666\n",
       "Semi-automatic   8424.982143"
      ]
     },
     "execution_count": 44,
     "metadata": {},
     "output_type": "execute_result"
    }
   ],
   "source": [
    "df[['gear', 'price']].groupby('gear').mean()"
   ]
  },
  {
   "cell_type": "code",
   "execution_count": 46,
   "id": "b233313d-71ad-4b72-ae9b-e4335cf762cb",
   "metadata": {},
   "outputs": [
    {
     "data": {
      "image/png": "[encoded data removed]",
      "text/plain": [
       "<Figure size 720x720 with 1 Axes>"
      ]
     },
     "metadata": {
      "needs_background": "light"
     },
     "output_type": "display_data"
    }
   ],
   "source": [
    "plt.figure(figsize=(10,10))\n",
    "plt.bar(df[['gear', 'price']].groupby('gear').mean().index,\n",
    "        df[['gear', 'price']].groupby('gear').mean().price)\n",
    "\n",
    "plt.title('Mean price by each type of gear')\n",
    "plt.ylabel('Price')\n",
    "plt.show()"
   ]
  },
  {
   "cell_type": "code",
   "execution_count": null,
   "id": "14aa286d-b62e-4d02-9984-66763ae0bdd7",
   "metadata": {},
   "outputs": [],
   "source": []
  },
  {
   "cell_type": "markdown",
   "id": "4bfb7b73-e300-4c28-9a30-960ee51e44a5",
   "metadata": {},
   "source": [
    "<br><br>\n",
    "\n",
    "### Offer Type"
   ]
  },
  {
   "cell_type": "code",
   "execution_count": 47,
   "id": "c8d3fbd9-8eba-4607-9fac-1e22460c0e05",
   "metadata": {},
   "outputs": [
    {
     "data": {
      "text/plain": [
       "0    Used\n",
       "1    Used\n",
       "2    Used\n",
       "3    Used\n",
       "4    Used\n",
       "Name: offerType, dtype: object"
      ]
     },
     "execution_count": 47,
     "metadata": {},
     "output_type": "execute_result"
    }
   ],
   "source": [
    "df.offerType.head()"
   ]
  },
  {
   "cell_type": "code",
   "execution_count": 48,
   "id": "c9bdaebe-a433-4c99-8140-b4cece3a2ff1",
   "metadata": {},
   "outputs": [
    {
     "data": {
      "text/plain": [
       "0"
      ]
     },
     "execution_count": 48,
     "metadata": {},
     "output_type": "execute_result"
    }
   ],
   "source": [
    "df.offerType.isnull().sum()"
   ]
  },
  {
   "cell_type": "code",
   "execution_count": 49,
   "id": "983e9750-bbfd-4a68-a317-f027d0369381",
   "metadata": {},
   "outputs": [
    {
     "data": {
      "text/plain": [
       "Used              40122\n",
       "Pre-registered     2780\n",
       "Demonstration      2368\n",
       "Employee's car     1122\n",
       "New                  13\n",
       "Name: offerType, dtype: int64"
      ]
     },
     "execution_count": 49,
     "metadata": {},
     "output_type": "execute_result"
    }
   ],
   "source": [
    "df.offerType.value_counts()"
   ]
  },
  {
   "cell_type": "code",
   "execution_count": 55,
   "id": "e69c8303-cb50-444b-9df8-6dc0ae97e5ec",
   "metadata": {},
   "outputs": [
    {
     "data": {
      "image/png": "[encoded data removed]",
      "text/plain": [
       "<Figure size 720x720 with 1 Axes>"
      ]
     },
     "metadata": {
      "needs_background": "light"
     },
     "output_type": "display_data"
    }
   ],
   "source": [
    "plt.figure(figsize=(10,10))\n",
    "plt.bar(df.offerType.value_counts().index,\n",
    "        df.offerType.value_counts().values/len(df.offerType))\n",
    "plt.title('Density of each value')\n",
    "plt.ylabel('Density')\n",
    "plt.show()"
   ]
  },
  {
   "cell_type": "code",
   "execution_count": 57,
   "id": "381d86c7-f5c8-4a1b-a3c2-71518f4f4464",
   "metadata": {},
   "outputs": [
    {
     "data": {
      "text/html": [
       "<div>\n",
       "<style scoped>\n",
       "    .dataframe tbody tr th:only-of-type {\n",
       "        vertical-align: middle;\n",
       "    }\n",
       "\n",
       "    .dataframe tbody tr th {\n",
       "        vertical-align: top;\n",
       "    }\n",
       "\n",
       "    .dataframe thead th {\n",
       "        text-align: right;\n",
       "    }\n",
       "</style>\n",
       "<table border=\"1\" class=\"dataframe\">\n",
       "  <thead>\n",
       "    <tr style=\"text-align: right;\">\n",
       "      <th></th>\n",
       "      <th>price</th>\n",
       "    </tr>\n",
       "    <tr>\n",
       "      <th>offerType</th>\n",
       "      <th></th>\n",
       "    </tr>\n",
       "  </thead>\n",
       "  <tbody>\n",
       "    <tr>\n",
       "      <th>Demonstration</th>\n",
       "      <td>34959.578125</td>\n",
       "    </tr>\n",
       "    <tr>\n",
       "      <th>Employee's car</th>\n",
       "      <td>30389.130125</td>\n",
       "    </tr>\n",
       "    <tr>\n",
       "      <th>New</th>\n",
       "      <td>66123.769231</td>\n",
       "    </tr>\n",
       "    <tr>\n",
       "      <th>Pre-registered</th>\n",
       "      <td>21146.255396</td>\n",
       "    </tr>\n",
       "    <tr>\n",
       "      <th>Used</th>\n",
       "      <td>14767.763945</td>\n",
       "    </tr>\n",
       "  </tbody>\n",
       "</table>\n",
       "</div>"
      ],
      "text/plain": [
       "                       price\n",
       "offerType                   \n",
       "Demonstration   34959.578125\n",
       "Employee's car  30389.130125\n",
       "New             66123.769231\n",
       "Pre-registered  21146.255396\n",
       "Used            14767.763945"
      ]
     },
     "execution_count": 57,
     "metadata": {},
     "output_type": "execute_result"
    }
   ],
   "source": [
    "df[['offerType', 'price']].groupby('offerType').mean()"
   ]
  },
  {
   "cell_type": "code",
   "execution_count": 59,
   "id": "aeecc347-a2b2-4f81-be48-eea0f27e2f00",
   "metadata": {},
   "outputs": [
    {
     "data": {
      "image/png": "[encoded data removed]",
      "text/plain": [
       "<Figure size 720x720 with 1 Axes>"
      ]
     },
     "metadata": {
      "needs_background": "light"
     },
     "output_type": "display_data"
    }
   ],
   "source": [
    "plt.figure(figsize=(10,10))\n",
    "plt.bar(df[['offerType', 'price']].groupby('offerType').mean().index,\n",
    "       df[['offerType', 'price']].groupby('offerType').mean().price)\n",
    "plt.title('Mean price for each offer type')\n",
    "plt.ylabel('Price')\n",
    "plt.show()"
   ]
  },
  {
   "cell_type": "code",
   "execution_count": null,
   "id": "434454b4-bf01-40e9-b470-81f461419ecf",
   "metadata": {},
   "outputs": [],
   "source": []
  },
  {
   "cell_type": "markdown",
   "id": "3444846f-0f7e-4026-a428-a7e8316ddcee",
   "metadata": {},
   "source": [
    "<br><br>\n",
    "\n",
    "### HP"
   ]
  },
  {
   "cell_type": "code",
   "execution_count": 60,
   "id": "97a834a1-2413-41cd-9503-6736efe4b8f4",
   "metadata": {},
   "outputs": [
    {
     "data": {
      "text/plain": [
       "0    116.0\n",
       "1    122.0\n",
       "2    160.0\n",
       "3    110.0\n",
       "4    156.0\n",
       "Name: hp, dtype: float64"
      ]
     },
     "execution_count": 60,
     "metadata": {},
     "output_type": "execute_result"
    }
   ],
   "source": [
    "df.hp.head()"
   ]
  },
  {
   "cell_type": "code",
   "execution_count": 61,
   "id": "45291f42-850e-434d-985f-5fb39c9e9e10",
   "metadata": {},
   "outputs": [
    {
     "data": {
      "text/plain": [
       "29"
      ]
     },
     "execution_count": 61,
     "metadata": {},
     "output_type": "execute_result"
    }
   ],
   "source": [
    "df.hp.isnull().sum()"
   ]
  },
  {
   "cell_type": "code",
   "execution_count": 62,
   "id": "5c1a6034-9fb6-401f-8157-d176c1cea283",
   "metadata": {},
   "outputs": [
    {
     "data": {
      "text/plain": [
       "count    46376.000000\n",
       "mean       132.990987\n",
       "std         75.449284\n",
       "min          1.000000\n",
       "25%         86.000000\n",
       "50%        116.000000\n",
       "75%        150.000000\n",
       "max        850.000000\n",
       "Name: hp, dtype: float64"
      ]
     },
     "execution_count": 62,
     "metadata": {},
     "output_type": "execute_result"
    }
   ],
   "source": [
    "df.hp.describe()"
   ]
  },
  {
   "cell_type": "code",
   "execution_count": 65,
   "id": "5a3dd5c7-b6f1-42e4-8dc5-36b3dcb3591f",
   "metadata": {},
   "outputs": [
    {
     "data": {
      "image/png": "[encoded data removed]",
      "text/plain": [
       "<Figure size 1440x720 with 1 Axes>"
      ]
     },
     "metadata": {
      "needs_background": "light"
     },
     "output_type": "display_data"
    }
   ],
   "source": [
    "plt.figure(figsize=(20,10))\n",
    "df.hp.plot()\n",
    "plt.show()"
   ]
  },
  {
   "cell_type": "code",
   "execution_count": 73,
   "id": "de6ccedc-6671-4254-a5ed-a76cf550a871",
   "metadata": {},
   "outputs": [
    {
     "data": {
      "image/png": "[encoded data removed]",
      "text/plain": [
       "<Figure size 720x360 with 1 Axes>"
      ]
     },
     "metadata": {
      "needs_background": "light"
     },
     "output_type": "display_data"
    }
   ],
   "source": [
    "plt.figure(figsize=(10,5))\n",
    "plt.boxplot(df.hp[df.hp.notna()], vert=False)\n",
    "plt.show()"
   ]
  },
  {
   "cell_type": "code",
   "execution_count": 76,
   "id": "ad674e6f-82fa-4a23-b898-bae5d69c903c",
   "metadata": {},
   "outputs": [
    {
     "data": {
      "image/png": "[encoded data removed]",
      "text/plain": [
       "<Figure size 720x720 with 1 Axes>"
      ]
     },
     "metadata": {
      "needs_background": "light"
     },
     "output_type": "display_data"
    }
   ],
   "source": [
    "plt.figure(figsize=(10,10))\n",
    "plt.scatter(df.hp, df.price)\n",
    "plt.title('Relation between hp value and price')\n",
    "plt.ylabel('Price')\n",
    "plt.xlabel('HP')\n",
    "plt.show()"
   ]
  },
  {
   "cell_type": "markdown",
   "id": "14e6c965-5315-4243-b940-264630b15486",
   "metadata": {},
   "source": [
    "<br><br>\n",
    "\n",
    "### Year"
   ]
  },
  {
   "cell_type": "code",
   "execution_count": 77,
   "id": "bfc0d0dc-67cf-4515-bf8b-da30be72fba5",
   "metadata": {},
   "outputs": [
    {
     "data": {
      "text/plain": [
       "0    2011\n",
       "1    2011\n",
       "2    2011\n",
       "3    2011\n",
       "4    2011\n",
       "Name: year, dtype: int64"
      ]
     },
     "execution_count": 77,
     "metadata": {},
     "output_type": "execute_result"
    }
   ],
   "source": [
    "df.year.head()"
   ]
  },
  {
   "cell_type": "code",
   "execution_count": 78,
   "id": "91d85e26-e1ec-4bd1-b3f1-55ab0244c301",
   "metadata": {},
   "outputs": [
    {
     "data": {
      "text/plain": [
       "0"
      ]
     },
     "execution_count": 78,
     "metadata": {},
     "output_type": "execute_result"
    }
   ],
   "source": [
    "df.year.isnull().sum()"
   ]
  },
  {
   "cell_type": "code",
   "execution_count": 79,
   "id": "21277d42-2fa5-47f2-aa5e-24acab692a35",
   "metadata": {},
   "outputs": [
    {
     "data": {
      "text/plain": [
       "count    46405.000000\n",
       "mean      2016.012951\n",
       "std          3.155214\n",
       "min       2011.000000\n",
       "25%       2013.000000\n",
       "50%       2016.000000\n",
       "75%       2019.000000\n",
       "max       2021.000000\n",
       "Name: year, dtype: float64"
      ]
     },
     "execution_count": 79,
     "metadata": {},
     "output_type": "execute_result"
    }
   ],
   "source": [
    "df.year.describe()"
   ]
  },
  {
   "cell_type": "code",
   "execution_count": 81,
   "id": "cd97cc0e-e167-4af1-b454-aaaca3b12305",
   "metadata": {},
   "outputs": [
    {
     "data": {
      "text/plain": [
       "2020    4286\n",
       "2013    4266\n",
       "2016    4266\n",
       "2019    4233\n",
       "2017    4223\n",
       "2018    4223\n",
       "2012    4221\n",
       "2015    4214\n",
       "2021    4181\n",
       "2014    4180\n",
       "2011    4112\n",
       "Name: year, dtype: int64"
      ]
     },
     "execution_count": 81,
     "metadata": {},
     "output_type": "execute_result"
    }
   ],
   "source": [
    "df.year.value_counts()"
   ]
  },
  {
   "cell_type": "code",
   "execution_count": 82,
   "id": "2cb76b29-afa7-490d-82ea-d9ab042aac22",
   "metadata": {},
   "outputs": [
    {
     "data": {
      "image/png": "[encoded data removed]",
      "text/plain": [
       "<Figure size 1440x720 with 1 Axes>"
      ]
     },
     "metadata": {
      "needs_background": "light"
     },
     "output_type": "display_data"
    }
   ],
   "source": [
    "plt.figure(figsize=(20,10))\n",
    "plt.bar(df.year.value_counts().index,\n",
    "       df.year.value_counts().values)\n",
    "plt.show()"
   ]
  },
  {
   "cell_type": "code",
   "execution_count": 89,
   "id": "3305c12b-cf78-4f1f-82e3-e064c2ec59e0",
   "metadata": {},
   "outputs": [
    {
     "data": {
      "image/png": "[encoded data removed]",
      "text/plain": [
       "<Figure size 720x720 with 1 Axes>"
      ]
     },
     "metadata": {
      "needs_background": "light"
     },
     "output_type": "display_data"
    }
   ],
   "source": [
    "plt.figure(figsize=(10,10))\n",
    "plt.plot(df[['year','price']].groupby('year').mean())\n",
    "plt.show()"
   ]
  },
  {
   "cell_type": "code",
   "execution_count": null,
   "id": "2f9bcf74-a1e3-4073-9089-a57de4a71a05",
   "metadata": {},
   "outputs": [],
   "source": []
  },
  {
   "cell_type": "code",
   "execution_count": null,
   "id": "f89b6d89-2c3f-4069-a57f-03a7193ee40a",
   "metadata": {},
   "outputs": [],
   "source": []
  },
  {
   "cell_type": "code",
   "execution_count": null,
   "id": "700fe479-b616-4752-bc05-c02636d933ff",
   "metadata": {},
   "outputs": [],
   "source": []
  },
  {
   "cell_type": "code",
   "execution_count": 91,
   "id": "36cb2005-7e1b-4a33-8bba-e9684fabc843",
   "metadata": {},
   "outputs": [
    {
     "data": {
      "text/html": [
       "<div>\n",
       "<style scoped>\n",
       "    .dataframe tbody tr th:only-of-type {\n",
       "        vertical-align: middle;\n",
       "    }\n",
       "\n",
       "    .dataframe tbody tr th {\n",
       "        vertical-align: top;\n",
       "    }\n",
       "\n",
       "    .dataframe thead th {\n",
       "        text-align: right;\n",
       "    }\n",
       "</style>\n",
       "<table border=\"1\" class=\"dataframe\">\n",
       "  <thead>\n",
       "    <tr style=\"text-align: right;\">\n",
       "      <th></th>\n",
       "      <th>mileage</th>\n",
       "      <th>make</th>\n",
       "      <th>model</th>\n",
       "      <th>fuel</th>\n",
       "      <th>gear</th>\n",
       "      <th>offerType</th>\n",
       "      <th>hp</th>\n",
       "      <th>year</th>\n",
       "      <th>price</th>\n",
       "    </tr>\n",
       "  </thead>\n",
       "  <tbody>\n",
       "    <tr>\n",
       "      <th>0</th>\n",
       "      <td>235000</td>\n",
       "      <td>0.051826</td>\n",
       "      <td>316</td>\n",
       "      <td>Diesel</td>\n",
       "      <td>Manual</td>\n",
       "      <td>Used</td>\n",
       "      <td>116.0</td>\n",
       "      <td>2011</td>\n",
       "      <td>6800</td>\n",
       "    </tr>\n",
       "    <tr>\n",
       "      <th>1</th>\n",
       "      <td>92800</td>\n",
       "      <td>0.149359</td>\n",
       "      <td>Golf</td>\n",
       "      <td>Gasoline</td>\n",
       "      <td>Manual</td>\n",
       "      <td>Used</td>\n",
       "      <td>122.0</td>\n",
       "      <td>2011</td>\n",
       "      <td>6877</td>\n",
       "    </tr>\n",
       "    <tr>\n",
       "      <th>2</th>\n",
       "      <td>149300</td>\n",
       "      <td>0.041461</td>\n",
       "      <td>Exeo</td>\n",
       "      <td>Gasoline</td>\n",
       "      <td>Manual</td>\n",
       "      <td>Used</td>\n",
       "      <td>160.0</td>\n",
       "      <td>2011</td>\n",
       "      <td>6900</td>\n",
       "    </tr>\n",
       "    <tr>\n",
       "      <th>3</th>\n",
       "      <td>96200</td>\n",
       "      <td>0.060985</td>\n",
       "      <td>Megane</td>\n",
       "      <td>Gasoline</td>\n",
       "      <td>Manual</td>\n",
       "      <td>Used</td>\n",
       "      <td>110.0</td>\n",
       "      <td>2011</td>\n",
       "      <td>6950</td>\n",
       "    </tr>\n",
       "    <tr>\n",
       "      <th>4</th>\n",
       "      <td>156000</td>\n",
       "      <td>0.026549</td>\n",
       "      <td>308</td>\n",
       "      <td>Gasoline</td>\n",
       "      <td>Manual</td>\n",
       "      <td>Used</td>\n",
       "      <td>156.0</td>\n",
       "      <td>2011</td>\n",
       "      <td>6950</td>\n",
       "    </tr>\n",
       "    <tr>\n",
       "      <th>...</th>\n",
       "      <td>...</td>\n",
       "      <td>...</td>\n",
       "      <td>...</td>\n",
       "      <td>...</td>\n",
       "      <td>...</td>\n",
       "      <td>...</td>\n",
       "      <td>...</td>\n",
       "      <td>...</td>\n",
       "      <td>...</td>\n",
       "    </tr>\n",
       "    <tr>\n",
       "      <th>46400</th>\n",
       "      <td>99</td>\n",
       "      <td>0.036634</td>\n",
       "      <td>500</td>\n",
       "      <td>Electric/Gasoline</td>\n",
       "      <td>Manual</td>\n",
       "      <td>Pre-registered</td>\n",
       "      <td>71.0</td>\n",
       "      <td>2021</td>\n",
       "      <td>12990</td>\n",
       "    </tr>\n",
       "    <tr>\n",
       "      <th>46401</th>\n",
       "      <td>99</td>\n",
       "      <td>0.036634</td>\n",
       "      <td>500</td>\n",
       "      <td>Electric/Gasoline</td>\n",
       "      <td>Manual</td>\n",
       "      <td>Pre-registered</td>\n",
       "      <td>71.0</td>\n",
       "      <td>2021</td>\n",
       "      <td>12990</td>\n",
       "    </tr>\n",
       "    <tr>\n",
       "      <th>46402</th>\n",
       "      <td>99</td>\n",
       "      <td>0.036634</td>\n",
       "      <td>500</td>\n",
       "      <td>Electric/Gasoline</td>\n",
       "      <td>Manual</td>\n",
       "      <td>Pre-registered</td>\n",
       "      <td>71.0</td>\n",
       "      <td>2021</td>\n",
       "      <td>12990</td>\n",
       "    </tr>\n",
       "    <tr>\n",
       "      <th>46403</th>\n",
       "      <td>99</td>\n",
       "      <td>0.036634</td>\n",
       "      <td>500</td>\n",
       "      <td>Electric/Gasoline</td>\n",
       "      <td>Manual</td>\n",
       "      <td>Pre-registered</td>\n",
       "      <td>71.0</td>\n",
       "      <td>2021</td>\n",
       "      <td>12990</td>\n",
       "    </tr>\n",
       "    <tr>\n",
       "      <th>46404</th>\n",
       "      <td>99</td>\n",
       "      <td>0.036634</td>\n",
       "      <td>500</td>\n",
       "      <td>Electric/Gasoline</td>\n",
       "      <td>Manual</td>\n",
       "      <td>Pre-registered</td>\n",
       "      <td>71.0</td>\n",
       "      <td>2021</td>\n",
       "      <td>12990</td>\n",
       "    </tr>\n",
       "  </tbody>\n",
       "</table>\n",
       "<p>46405 rows × 9 columns</p>\n",
       "</div>"
      ],
      "text/plain": [
       "       mileage      make   model               fuel    gear       offerType  \\\n",
       "0       235000  0.051826     316             Diesel  Manual            Used   \n",
       "1        92800  0.149359    Golf           Gasoline  Manual            Used   \n",
       "2       149300  0.041461    Exeo           Gasoline  Manual            Used   \n",
       "3        96200  0.060985  Megane           Gasoline  Manual            Used   \n",
       "4       156000  0.026549     308           Gasoline  Manual            Used   \n",
       "...        ...       ...     ...                ...     ...             ...   \n",
       "46400       99  0.036634     500  Electric/Gasoline  Manual  Pre-registered   \n",
       "46401       99  0.036634     500  Electric/Gasoline  Manual  Pre-registered   \n",
       "46402       99  0.036634     500  Electric/Gasoline  Manual  Pre-registered   \n",
       "46403       99  0.036634     500  Electric/Gasoline  Manual  Pre-registered   \n",
       "46404       99  0.036634     500  Electric/Gasoline  Manual  Pre-registered   \n",
       "\n",
       "          hp  year  price  \n",
       "0      116.0  2011   6800  \n",
       "1      122.0  2011   6877  \n",
       "2      160.0  2011   6900  \n",
       "3      110.0  2011   6950  \n",
       "4      156.0  2011   6950  \n",
       "...      ...   ...    ...  \n",
       "46400   71.0  2021  12990  \n",
       "46401   71.0  2021  12990  \n",
       "46402   71.0  2021  12990  \n",
       "46403   71.0  2021  12990  \n",
       "46404   71.0  2021  12990  \n",
       "\n",
       "[46405 rows x 9 columns]"
      ]
     },
     "execution_count": 91,
     "metadata": {},
     "output_type": "execute_result"
    }
   ],
   "source": [
    "df"
   ]
  },
  {
   "cell_type": "code",
   "execution_count": null,
   "id": "b52bddde-9c21-4639-8e60-bc3796a6f004",
   "metadata": {},
   "outputs": [],
   "source": []
  }
 ],
 "metadata": {
  "kernelspec": {
   "display_name": "Python 3 (ipykernel)",
   "language": "python",
   "name": "python3"
  },
  "language_info": {
   "codemirror_mode": {
    "name": "ipython",
    "version": 3
   },
   "file_extension": ".py",
   "mimetype": "text/x-python",
   "name": "python",
   "nbconvert_exporter": "python",
   "pygments_lexer": "ipython3",
   "version": "3.10.2"
  }
 },
 "nbformat": 4,
 "nbformat_minor": 5
}
